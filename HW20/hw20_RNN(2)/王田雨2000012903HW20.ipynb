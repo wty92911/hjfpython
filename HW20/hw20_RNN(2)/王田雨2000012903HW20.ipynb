{
 "cells": [
  {
   "cell_type": "markdown",
   "metadata": {},
   "source": [
    "# RNN作业\n",
    "\n",
    "本次作业我们将使用PyTorch搭建RNN模型，完成简单的文本分类任务。本次作业的选做题难度较大，仅供有自然语言处理基础且时间充裕的同学完成。\n",
    "\n",
    "截止时间：<font color=ff0000>**5.30(周一)中午** </font>"
   ]
  },
  {
   "cell_type": "markdown",
   "metadata": {},
   "source": [
    "## 一、数据处理\n",
    "\n",
    "首先导入常用软件包。"
   ]
  },
  {
   "cell_type": "code",
   "execution_count": 5,
   "metadata": {},
   "outputs": [
    {
     "ename": "ImportError",
     "evalue": "cannot import name 'get_asset_local_path' from 'torchtext.utils' (C:\\Users\\92911\\AppData\\Roaming\\Python\\Python39\\site-packages\\torchtext\\utils.py)",
     "output_type": "error",
     "traceback": [
      "\u001b[1;31m---------------------------------------------------------------------------\u001b[0m",
      "\u001b[1;31mImportError\u001b[0m                               Traceback (most recent call last)",
      "\u001b[1;32m~\\AppData\\Local\\Temp/ipykernel_12892/1486612157.py\u001b[0m in \u001b[0;36m<module>\u001b[1;34m\u001b[0m\n\u001b[0;32m     16\u001b[0m \u001b[1;31m#import torchtext\u001b[0m\u001b[1;33m\u001b[0m\u001b[1;33m\u001b[0m\u001b[0m\n\u001b[0;32m     17\u001b[0m \u001b[1;32mfrom\u001b[0m \u001b[0mtqdm\u001b[0m \u001b[1;32mimport\u001b[0m \u001b[0mtqdm\u001b[0m\u001b[1;33m\u001b[0m\u001b[1;33m\u001b[0m\u001b[0m\n\u001b[1;32m---> 18\u001b[1;33m \u001b[1;32mimport\u001b[0m \u001b[0mtorchtext\u001b[0m\u001b[1;33m\u001b[0m\u001b[1;33m\u001b[0m\u001b[0m\n\u001b[0m\u001b[0;32m     19\u001b[0m \u001b[0mget_ipython\u001b[0m\u001b[1;33m(\u001b[0m\u001b[1;33m)\u001b[0m\u001b[1;33m.\u001b[0m\u001b[0mrun_line_magic\u001b[0m\u001b[1;33m(\u001b[0m\u001b[1;34m'matplotlib'\u001b[0m\u001b[1;33m,\u001b[0m \u001b[1;34m'inline'\u001b[0m\u001b[1;33m)\u001b[0m\u001b[1;33m\u001b[0m\u001b[1;33m\u001b[0m\u001b[0m\n",
      "\u001b[1;32m~\\anaconda3\\lib\\site-packages\\torchtext\\__init__.py\u001b[0m in \u001b[0;36m<module>\u001b[1;34m\u001b[0m\n\u001b[0;32m      8\u001b[0m \u001b[1;32mfrom\u001b[0m \u001b[1;33m.\u001b[0m \u001b[1;32mimport\u001b[0m \u001b[0mutils\u001b[0m\u001b[1;33m\u001b[0m\u001b[1;33m\u001b[0m\u001b[0m\n\u001b[0;32m      9\u001b[0m \u001b[1;32mfrom\u001b[0m \u001b[1;33m.\u001b[0m \u001b[1;32mimport\u001b[0m \u001b[0mvocab\u001b[0m\u001b[1;33m\u001b[0m\u001b[1;33m\u001b[0m\u001b[0m\n\u001b[1;32m---> 10\u001b[1;33m \u001b[1;32mfrom\u001b[0m \u001b[1;33m.\u001b[0m \u001b[1;32mimport\u001b[0m \u001b[0mtransforms\u001b[0m\u001b[1;33m\u001b[0m\u001b[1;33m\u001b[0m\u001b[0m\n\u001b[0m\u001b[0;32m     11\u001b[0m \u001b[1;32mfrom\u001b[0m \u001b[1;33m.\u001b[0m \u001b[1;32mimport\u001b[0m \u001b[0mfunctional\u001b[0m\u001b[1;33m\u001b[0m\u001b[1;33m\u001b[0m\u001b[0m\n\u001b[0;32m     12\u001b[0m \u001b[1;32mfrom\u001b[0m \u001b[1;33m.\u001b[0m \u001b[1;32mimport\u001b[0m \u001b[0mmodels\u001b[0m\u001b[1;33m\u001b[0m\u001b[1;33m\u001b[0m\u001b[0m\n",
      "\u001b[1;32m~\\anaconda3\\lib\\site-packages\\torchtext\\transforms.py\u001b[0m in \u001b[0;36m<module>\u001b[1;34m\u001b[0m\n\u001b[0;32m      4\u001b[0m \u001b[1;32mimport\u001b[0m \u001b[0mtorch\u001b[0m\u001b[1;33m\u001b[0m\u001b[1;33m\u001b[0m\u001b[0m\n\u001b[0;32m      5\u001b[0m \u001b[1;32mfrom\u001b[0m \u001b[0mtorchtext\u001b[0m\u001b[1;33m.\u001b[0m\u001b[0mdata\u001b[0m\u001b[1;33m.\u001b[0m\u001b[0mfunctional\u001b[0m \u001b[1;32mimport\u001b[0m \u001b[0mload_sp_model\u001b[0m\u001b[1;33m\u001b[0m\u001b[1;33m\u001b[0m\u001b[0m\n\u001b[1;32m----> 6\u001b[1;33m \u001b[1;32mfrom\u001b[0m \u001b[0mtorchtext\u001b[0m\u001b[1;33m.\u001b[0m\u001b[0mutils\u001b[0m \u001b[1;32mimport\u001b[0m \u001b[0mget_asset_local_path\u001b[0m\u001b[1;33m\u001b[0m\u001b[1;33m\u001b[0m\u001b[0m\n\u001b[0m\u001b[0;32m      7\u001b[0m \u001b[1;32mfrom\u001b[0m \u001b[0mtorchtext\u001b[0m\u001b[1;33m.\u001b[0m\u001b[0mvocab\u001b[0m \u001b[1;32mimport\u001b[0m \u001b[0mVocab\u001b[0m\u001b[1;33m\u001b[0m\u001b[1;33m\u001b[0m\u001b[0m\n\u001b[0;32m      8\u001b[0m \u001b[1;32mfrom\u001b[0m \u001b[0mtorchtext\u001b[0m\u001b[1;33m.\u001b[0m\u001b[0m_torchtext\u001b[0m \u001b[1;32mimport\u001b[0m \u001b[0mGPT2BPEEncoder\u001b[0m \u001b[1;32mas\u001b[0m \u001b[0mGPT2BPEEncoderPyBind\u001b[0m\u001b[1;33m,\u001b[0m \u001b[0mCLIPEncoder\u001b[0m \u001b[1;32mas\u001b[0m \u001b[0mCLIPEncoderPyBind\u001b[0m\u001b[1;33m\u001b[0m\u001b[1;33m\u001b[0m\u001b[0m\n",
      "\u001b[1;31mImportError\u001b[0m: cannot import name 'get_asset_local_path' from 'torchtext.utils' (C:\\Users\\92911\\AppData\\Roaming\\Python\\Python39\\site-packages\\torchtext\\utils.py)"
     ]
    }
   ],
   "source": [
    "import torch\n",
    "import torch.nn as nn\n",
    "from matplotlib import pyplot as plt \n",
    "from sklearn import datasets, preprocessing\n",
    "from sklearn.decomposition import PCA\n",
    "from sklearn.cluster import KMeans, MeanShift\n",
    "import pandas as pd\n",
    "import numpy as np\n",
    "\n",
    "import os\n",
    "import glob\n",
    "from sklearn.model_selection import train_test_split\n",
    "import spacy\n",
    "import numpy as np\n",
    "#from torchtext.legacy import data\n",
    "#import torchtext\n",
    "from tqdm import tqdm\n",
    "#import torchtext\n",
    "%matplotlib inline"
   ]
  },
  {
   "cell_type": "markdown",
   "metadata": {},
   "source": [
    "本次作业使用的数据为torchtext.data中的AG_NEWS，每一行代表一个样本，三列数据分别代表：“类别”，“标题”，“正文”。该数据集中的类别有四种：“World”, “Sports”, “Business”, “Sci/Tech”，分别用数字1-4表示。\n",
    "\n",
    "因为原始数据集较大，截取了其中一部分作为训练集和测试集，train.csv中包含6600条数据，test.csv中包含1000条数据。\n",
    "\n",
    "使用torchtext完成数据的加载，主要使用以下三个组件：\n",
    "\n",
    "1. Field : 主要包含以下数据预处理的配置信息，比如指定分词方法，是否转成小写，起始字符，结束字符，补全字符以及词典等等\n",
    "\n",
    "2. Dataset : 继承自pytorch的Dataset，用于加载数据，提供了TabularDataset可以指点路径，格式，Field信息就可以方便的完成数据加载。同时torchtext还提供预先构建的常用数据集的Dataset对象，可以直接加载使用，splits方法可以同时加载训练集，验证集和测试集。\n",
    "\n",
    "3. Iterator : 主要是数据输出的模型的迭代器，可以支持batch定制\n",
    "\n",
    "如果在使用torchtext的过程中出现报错的情况，一种可能是由于版本问题，相关的类被移动到torchtext.legacy当中"
   ]
  },
  {
   "cell_type": "code",
   "execution_count": 4,
   "metadata": {},
   "outputs": [
    {
     "name": "stdout",
     "output_type": "stream",
     "text": [
      "{'label': '3', 'text': ['Unions', 'representing', 'workers', 'at', 'Turner', 'Newall', 'say', 'they', 'are', \"'disappointed'\", 'after', 'talks', 'with', 'stricken', 'parent', 'firm', 'Federal', 'Mogul.']}\n",
      "{'label': '2', 'text': ['Six', 'players', 'from', 'both', 'Clemson', 'and', 'South', 'Carolina', 'will', 'be', 'suspended', 'for', 'one', 'game', 'next', 'season', 'for', 'their', 'participation', 'in', 'a', 'brawl', 'near', 'the', 'end', 'of', 'the', 'rivalry', 'game', 'November', '20th.']}\n"
     ]
    }
   ],
   "source": [
    "TEXT = torchtext.legacy.data.Field(sequential=True, batch_first=True, include_lengths=True)\n",
    "LABEL = torchtext.legacy.data.Field(sequential=False, batch_first=True, use_vocab=False)\n",
    "\n",
    "fields = [('label', LABEL), (None, None), ('text',TEXT)]  # 通过定义fields可以方便地读取数据，这里第一列为label，第三列为需要分类的text，标题暂时不需要\n",
    "\n",
    "train_data = data.TabularDataset(path='train.csv', format='csv', fields=fields, skip_header=False)\n",
    "test_data = data.TabularDataset(path='test.csv', format='csv', fields=fields, skip_header=False)\n",
    "#print preprocessed text\n",
    "print(vars(train_data.examples[0]))\n",
    "print(vars(test_data.examples[0]))"
   ]
  },
  {
   "cell_type": "markdown",
   "metadata": {},
   "source": [
    "torchtext提供了构建词表的功能：我们使用50维的预训练词向量，建立词典、索引以及对应的词向量映射关系。\n",
    "\n",
    "下载后的预训练词向量会默认存储在“.vector_cache”文件夹中。"
   ]
  },
  {
   "cell_type": "code",
   "execution_count": 5,
   "metadata": {},
   "outputs": [
    {
     "name": "stderr",
     "output_type": "stream",
     "text": [
      "100%|██████████████████████████████████████████████████████████████████████▉| 399999/400000 [00:08<00:00, 45269.02it/s]\n"
     ]
    },
    {
     "name": "stdout",
     "output_type": "stream",
     "text": [
      "Size of TEXT vocabulary: 8463\n",
      "Size of LABEL vocabulary: 5\n",
      "[('the', 9539), ('a', 5240), ('to', 5228), ('of', 4857), ('in', 4099), ('and', 3620), ('on', 2477), ('-', 2062), ('for', 2026), ('that', 1500)]\n"
     ]
    }
   ],
   "source": [
    "#initialize glove embeddings\n",
    "TEXT.build_vocab(train_data, min_freq=3, vectors=\"glove.6B.50d\")  # 去除低频词，使用50维的预训练词向量\n",
    "LABEL.build_vocab(train_data)\n",
    "\n",
    "#No. of unique tokens in text\n",
    "print(\"Size of TEXT vocabulary:\", len(TEXT.vocab))\n",
    "\n",
    "#No. of unique tokens in label\n",
    "print(\"Size of LABEL vocabulary:\", len(LABEL.vocab))  # 这里长度为5是因为build_vocabulary默认会添加一个<unk> token\n",
    "\n",
    "#Commonly used words\n",
    "print(TEXT.vocab.freqs.most_common(10))  # tuple中第一个元素为单词，第二个元素为对应的索引\n",
    "\n",
    "#Word dictionary\n",
    "#print(TEXT.vocab.stoi)   # stoi可以将单词转换为数字索引"
   ]
  },
  {
   "cell_type": "code",
   "execution_count": 27,
   "metadata": {},
   "outputs": [
    {
     "name": "stdout",
     "output_type": "stream",
     "text": [
      "cpu\n"
     ]
    }
   ],
   "source": [
    "device = torch.device('cuda' if torch.cuda.is_available() else 'cpu')  # 有条件的同学可以使用gpu加速训练\n",
    "print(device)\n",
    "batch_size = 64\n",
    "\n",
    "# 划分之后的数据集，每个batch中有64个样本\n",
    "train_iterator, test_iterator = data.BucketIterator.splits(\n",
    "    (train_data, test_data),\n",
    "    batch_size=batch_size,\n",
    "    sort_key=lambda x: len(x.text),\n",
    "    sort_within_batch=True,\n",
    "    device=device)"
   ]
  },
  {
   "cell_type": "markdown",
   "metadata": {},
   "source": [
    "### 词向量小练习\n",
    "\n",
    "glove.6B.50d.txt中每一行表示：单词 50维词向量\n",
    "\n",
    "gensim支持word2vec格式，因此需要先转换glove格式的词向量文件"
   ]
  },
  {
   "cell_type": "code",
   "execution_count": 8,
   "metadata": {},
   "outputs": [
    {
     "name": "stderr",
     "output_type": "stream",
     "text": [
      "C:\\Users\\92911\\AppData\\Local\\Temp/ipykernel_3284/1686190213.py:8: DeprecationWarning: Call to deprecated `glove2word2vec` (KeyedVectors.load_word2vec_format(.., binary=False, no_header=True) loads GLoVE text vectors.).\n",
      "  (count, dimensions) = glove2word2vec(glove_input_file, word2vec_output_file)\n"
     ]
    }
   ],
   "source": [
    "import gensim\n",
    "from gensim.models import KeyedVectors\n",
    "from gensim.scripts.glove2word2vec import glove2word2vec\n",
    "\n",
    "# 格式转换\n",
    "glove_input_file = '.vector_cache/glove.6B.50d.txt'\n",
    "word2vec_output_file = '.vector_cache/glove.6B.50d.word2vec.txt'\n",
    "(count, dimensions) = glove2word2vec(glove_input_file, word2vec_output_file)\n",
    "\n",
    "# 加载词向量\n",
    "glove_model = KeyedVectors.load_word2vec_format(word2vec_output_file, binary=False)"
   ]
  },
  {
   "cell_type": "markdown",
   "metadata": {},
   "source": [
    "词向量的加减可以得到有趣的结果，一个著名例子是公式：king - man + woman"
   ]
  },
  {
   "cell_type": "code",
   "execution_count": 9,
   "metadata": {},
   "outputs": [
    {
     "name": "stdout",
     "output_type": "stream",
     "text": [
      "[('queen', 0.8523604273796082), ('throne', 0.7664334177970886), ('prince', 0.759214460849762), ('daughter', 0.7473882436752319), ('elizabeth', 0.7460219860076904), ('princess', 0.7424570322036743), ('kingdom', 0.7337411642074585), ('monarch', 0.721449077129364), ('eldest', 0.7184861898422241), ('widow', 0.7099431157112122)]\n"
     ]
    }
   ],
   "source": [
    "result = glove_model.most_similar(positive=['woman', 'king'], negative=['man']) \n",
    "print(result)"
   ]
  },
  {
   "cell_type": "markdown",
   "metadata": {},
   "source": [
    "**请自由尝试几个其他的词向量加减例子**"
   ]
  },
  {
   "cell_type": "code",
   "execution_count": 13,
   "metadata": {},
   "outputs": [
    {
     "name": "stdout",
     "output_type": "stream",
     "text": [
      "[('soldier', 0.7302291989326477), ('policeman', 0.7214615941047668), ('person', 0.7156468033790588), ('whose', 0.7109968662261963), ('who', 0.710432767868042), ('citizen', 0.7102181315422058), ('an', 0.7093256115913391), ('old', 0.7072909474372864), ('journalist', 0.7053940892219543), ('victim', 0.7044424414634705)]\n"
     ]
    }
   ],
   "source": [
    "# TODO\n",
    "result = glove_model.most_similar(positive=['man', 'woman'], negative=['baby']) \n",
    "print(result)"
   ]
  },
  {
   "cell_type": "markdown",
   "metadata": {},
   "source": [
    "**请通过合适的方法将词向量降至2或3维，在空间坐标中显示出下列单词的位置，进行词向量可视化**"
   ]
  },
  {
   "cell_type": "code",
   "execution_count": 22,
   "metadata": {},
   "outputs": [
    {
     "data": {
      "image/png": "[encoded data removed]",
      "text/plain": [
       "<Figure size 432x288 with 1 Axes>"
      ]
     },
     "metadata": {
      "needs_background": "light"
     },
     "output_type": "display_data"
    }
   ],
   "source": [
    "words = [\"cat\", \"dog\", \"fish\", \"kitten\", \"man\", \"woman\",\n",
    "         \"king\", \"queen\", \"doctor\", \"nurse\"]\n",
    "vec = glove_model[words]\n",
    "pca2d = PCA(n_components=2)\n",
    "vec_2d = pca2d.fit_transform(vec)\n",
    "plt.scatter(vec_2d[:, 0], vec_2d[:, 1])\n",
    "plt.show()\n",
    "# TODO"
   ]
  },
  {
   "cell_type": "markdown",
   "metadata": {},
   "source": [
    "## 二、RNN模型搭建\n",
    "\n",
    "这里参考课件上的代码搭建了一个简单的RNN模型\n",
    "\n",
    "1. 每次读取一个单词，因此RNN的输入维度为50（即词向量的维度）再加上hidden_size\n",
    "2. 最终的输出维度为4（对应四个类别）\n",
    "3. 初始隐状态可以用零向量\n",
    "\n",
    "有需要的话可以自由修改"
   ]
  },
  {
   "cell_type": "code",
   "execution_count": 23,
   "metadata": {},
   "outputs": [],
   "source": [
    "class RNN(nn.Module):\n",
    "    def __init__(self, embedding_dim, hidden_size, output_size):\n",
    "        super(RNN, self).__init__()\n",
    "        self.hidden_size = hidden_size\n",
    "        self.i2h = nn.Linear(embedding_dim + hidden_size, hidden_size)\n",
    "        self.i2o = nn.Linear(embedding_dim + hidden_size, output_size)\n",
    "        self.softmax = nn.LogSoftmax(dim=1)\n",
    "        \n",
    "    def forward(self, input_, hidden):\n",
    "        combined = torch.cat((input_, hidden), 1)\n",
    "        hidden = self.i2h(combined)\n",
    "        output = self.i2o(combined)\n",
    "        output = self.softmax(output)\n",
    "        return output, hidden\n",
    "        \n",
    "    def init_hidden(self):\n",
    "        return torch.zeros(1, self.hidden_size)  # 初始化全0的隐状态向量"
   ]
  },
  {
   "cell_type": "markdown",
   "metadata": {},
   "source": [
    "## 三、模型训练"
   ]
  },
  {
   "cell_type": "code",
   "execution_count": 24,
   "metadata": {},
   "outputs": [],
   "source": [
    "def train_step(model, batch_data, optimizer, criterion):\n",
    "    optimizer.zero_grad()\n",
    "    total_loss = 0\n",
    "    total_acc = 0\n",
    "\n",
    "    # 载入数据\n",
    "    texts, text_lengths = batch_data.text  # texts当中存储的是单词的数字索引\n",
    "    labels = batch_data.label\n",
    "        \n",
    "    #print(labels)\n",
    "    #print(texts, text_lengths)\n",
    "    #print(len(text_lengths))\n",
    "    \n",
    "    for text, label in zip(texts, labels):\n",
    "        hidden = model.init_hidden().to(device)  # 创建一个初始隐状态\n",
    "        # 每次输入batch中的一个样本\n",
    "        for i in range(len(text)):\n",
    "            embedding = TEXT.vocab.vectors[text[i]]  # 根据text中的数字索引获得对应的词向量\n",
    "            embedding = embedding.to(device)\n",
    "            # print(embedding)\n",
    "            output, hidden = model(embedding.reshape(1, -1), hidden)  # 变换词向量的维度，使其能和hidden tensor拼接起来\n",
    "        target = (label - 1).unsqueeze(0)  # 原始label是1~4，减1之后对应下标0~3\n",
    "        loss = criterion(output, target)   # 计算loss\n",
    "        loss.backward(retain_graph=True)\n",
    "        \n",
    "        total_loss += loss.item()\n",
    "        \n",
    "        if output.argmax(1) == label - 1:  # 判断模型预测的概率最大的类是否正确\n",
    "            total_acc += 1\n",
    "    \n",
    "    optimizer.step()\n",
    "    \n",
    "    return total_loss / len(batch_data), total_acc / len(batch_data)"
   ]
  },
  {
   "cell_type": "markdown",
   "metadata": {},
   "source": [
    "在训练过程中，我们希望能够保存效果最好的模型，使用save()和load()函数可以实现模型的保存和加载。\n",
    "\n",
    "参考文档：https://pytorch.org/tutorials/beginner/saving_loading_models.html\n",
    "\n",
    "**请实现：保存训练过程中loss最小的模型**\n",
    "\n",
    "考虑到训练阶段运行时间可能比较长，同学们可以自行选择合适的epoch数。本次作业旨在让大家熟悉基本模型结构，模型最终的表现效果不会成为评分指标。"
   ]
  },
  {
   "cell_type": "code",
   "execution_count": 25,
   "metadata": {},
   "outputs": [],
   "source": [
    "def train(model, iterator, lr=0.01, num_epoch=10):\n",
    "    criterion = nn.CrossEntropyLoss()\n",
    "    optimizer = torch.optim.Adam(model.parameters(), lr=lr)\n",
    "    \n",
    "    loss_arr = []\n",
    "    epoch_acc = 0\n",
    "    epoch_loss = []\n",
    "    # set the model in training phase\n",
    "    model.train()\n",
    "    \n",
    "    for epoch in tqdm(range(num_epoch)):\n",
    "        mean_acc = []\n",
    "        mean_loss = []\n",
    "        for i, batch_data in enumerate(iterator):\n",
    "            batch_loss, batch_acc = train_step(model, batch_data, optimizer, criterion)\n",
    "            loss_arr.append(batch_loss)\n",
    "            mean_loss.append(batch_loss)\n",
    "            if (i + 1) % 10 == 0:\n",
    "                print(\"Iteration number:\", i + 1,'Loss:', batch_loss, \"Acc:\", batch_acc)\n",
    "            mean_acc.append(batch_acc)\n",
    "        \n",
    "        print(\"Epoch Acc:\", np.mean(mean_acc), \"Epoch loss\", np.mean(mean_loss))\n",
    "        epoch_loss.append(np.mean(mean_loss))\n",
    "        if np.mean(mean_loss) <= np.min(epoch_loss):\n",
    "            torch.save(model.state_dict(),'modelparam')\n",
    "        # TODO: 保存loss最小的模型\n",
    "        \n",
    "    \n",
    "    # 绘制loss曲线\n",
    "    plt.figure()\n",
    "    plt.plot(loss_arr, \"-*\")\n",
    "    plt.xlabel(\"Iteration\")\n",
    "    plt.ylabel(\"Loss\")\n",
    "    plt.show()"
   ]
  },
  {
   "cell_type": "code",
   "execution_count": 26,
   "metadata": {},
   "outputs": [
    {
     "name": "stderr",
     "output_type": "stream",
     "text": [
      "\r",
      "  0%|                                                                                           | 0/10 [00:00<?, ?it/s]"
     ]
    },
    {
     "name": "stdout",
     "output_type": "stream",
     "text": [
      "Iteration number: 10 Loss: 1.3582249004393816 Acc: 0.4375\n",
      "Iteration number: 20 Loss: 1.2879359256476164 Acc: 0.484375\n",
      "Iteration number: 30 Loss: 1.1328289518132806 Acc: 0.515625\n",
      "Iteration number: 40 Loss: 1.1718104183673859 Acc: 0.421875\n",
      "Iteration number: 50 Loss: 1.2101775296032429 Acc: 0.546875\n",
      "Iteration number: 60 Loss: 1.2067246418446302 Acc: 0.59375\n",
      "Iteration number: 70 Loss: 1.1002354361116886 Acc: 0.578125\n",
      "Iteration number: 80 Loss: 0.9535155158955604 Acc: 0.65625\n",
      "Iteration number: 90 Loss: 0.8647242281585932 Acc: 0.640625\n",
      "Iteration number: 100 Loss: 0.8192986436188221 Acc: 0.65625\n"
     ]
    },
    {
     "name": "stderr",
     "output_type": "stream",
     "text": [
      "\r",
      " 10%|████████▎                                                                          | 1/10 [00:31<04:45, 31.71s/it]"
     ]
    },
    {
     "name": "stdout",
     "output_type": "stream",
     "text": [
      "Epoch Acc: 0.4905348557692308 Epoch loss 1.1738800677023977\n",
      "Iteration number: 10 Loss: 0.8233617676887661 Acc: 0.625\n",
      "Iteration number: 20 Loss: 0.9111826680600643 Acc: 0.578125\n",
      "Iteration number: 30 Loss: 1.0827910954249091 Acc: 0.5625\n",
      "Iteration number: 40 Loss: 0.8910358615976293 Acc: 0.71875\n",
      "Iteration number: 50 Loss: 0.7541468360432191 Acc: 0.71875\n",
      "Iteration number: 60 Loss: 0.727440782065969 Acc: 0.765625\n",
      "Iteration number: 70 Loss: 0.6720356267614989 Acc: 0.75\n",
      "Iteration number: 80 Loss: 0.6230192294779044 Acc: 0.765625\n",
      "Iteration number: 90 Loss: 0.7090892410233209 Acc: 0.671875\n",
      "Iteration number: 100 Loss: 0.8402167295571417 Acc: 0.640625\n"
     ]
    },
    {
     "name": "stderr",
     "output_type": "stream",
     "text": [
      "\r",
      " 20%|████████████████▌                                                                  | 2/10 [01:04<04:18, 32.27s/it]"
     ]
    },
    {
     "name": "stdout",
     "output_type": "stream",
     "text": [
      "Epoch Acc: 0.6888521634615384 Epoch loss 0.7792075502893349\n",
      "Iteration number: 10 Loss: 1.0248039732687175 Acc: 0.53125\n",
      "Iteration number: 20 Loss: 0.8153118327027187 Acc: 0.703125\n",
      "Iteration number: 30 Loss: 0.8226947735820431 Acc: 0.6875\n",
      "Iteration number: 40 Loss: 0.6507266504904692 Acc: 0.796875\n",
      "Iteration number: 50 Loss: 0.6831185187511437 Acc: 0.71875\n",
      "Iteration number: 60 Loss: 0.7768117570572031 Acc: 0.71875\n",
      "Iteration number: 70 Loss: 0.6966715374437626 Acc: 0.75\n",
      "Iteration number: 80 Loss: 0.6374692092213081 Acc: 0.78125\n",
      "Iteration number: 90 Loss: 0.5672032643778948 Acc: 0.8125\n",
      "Iteration number: 100 Loss: 0.4750758173695431 Acc: 0.8125\n"
     ]
    },
    {
     "name": "stderr",
     "output_type": "stream",
     "text": [
      "\r",
      " 30%|████████████████████████▉                                                          | 3/10 [01:38<03:52, 33.22s/it]"
     ]
    },
    {
     "name": "stdout",
     "output_type": "stream",
     "text": [
      "Epoch Acc: 0.7235576923076923 Epoch loss 0.7131161464693141\n",
      "Iteration number: 10 Loss: 0.7333508084120695 Acc: 0.75\n",
      "Iteration number: 20 Loss: 0.6847804414574625 Acc: 0.765625\n",
      "Iteration number: 30 Loss: 0.7344710171200859 Acc: 0.71875\n",
      "Iteration number: 40 Loss: 0.9794348999275826 Acc: 0.5625\n",
      "Iteration number: 50 Loss: 0.7994022208731622 Acc: 0.671875\n",
      "Iteration number: 60 Loss: 0.599206782906549 Acc: 0.75\n",
      "Iteration number: 70 Loss: 0.593338728434901 Acc: 0.78125\n",
      "Iteration number: 80 Loss: 0.7594232520391415 Acc: 0.78125\n",
      "Iteration number: 90 Loss: 0.47496882366522186 Acc: 0.796875\n",
      "Iteration number: 100 Loss: 0.544275153532908 Acc: 0.828125\n"
     ]
    },
    {
     "name": "stderr",
     "output_type": "stream",
     "text": [
      "\r",
      " 40%|█████████████████████████████████▏                                                 | 4/10 [02:13<03:22, 33.79s/it]"
     ]
    },
    {
     "name": "stdout",
     "output_type": "stream",
     "text": [
      "Epoch Acc: 0.7445913461538461 Epoch loss 0.6840619327719248\n",
      "Iteration number: 10 Loss: 0.883921990825911 Acc: 0.6875\n",
      "Iteration number: 20 Loss: 0.8513377249619225 Acc: 0.625\n",
      "Iteration number: 30 Loss: 0.9042854363069637 Acc: 0.609375\n",
      "Iteration number: 40 Loss: 0.9042480922735194 Acc: 0.6875\n",
      "Iteration number: 50 Loss: 0.6175349516615825 Acc: 0.75\n",
      "Iteration number: 60 Loss: 0.601663088420537 Acc: 0.859375\n",
      "Iteration number: 70 Loss: 0.8392540023924084 Acc: 0.609375\n",
      "Iteration number: 80 Loss: 0.6915124676088453 Acc: 0.734375\n",
      "Iteration number: 90 Loss: 0.6838806370506063 Acc: 0.75\n",
      "Iteration number: 100 Loss: 0.5862296083068941 Acc: 0.78125\n"
     ]
    },
    {
     "name": "stderr",
     "output_type": "stream",
     "text": [
      "\r",
      " 50%|█████████████████████████████████████████▌                                         | 5/10 [02:48<02:50, 34.19s/it]"
     ]
    },
    {
     "name": "stdout",
     "output_type": "stream",
     "text": [
      "Epoch Acc: 0.7211538461538461 Epoch loss 0.802154384182932\n",
      "Iteration number: 10 Loss: 0.5867168723380018 Acc: 0.8125\n",
      "Iteration number: 20 Loss: 0.5511421402370615 Acc: 0.734375\n",
      "Iteration number: 30 Loss: 0.6387176781572634 Acc: 0.8125\n",
      "Iteration number: 40 Loss: 0.5664669449615758 Acc: 0.796875\n",
      "Iteration number: 50 Loss: 0.5394919585451134 Acc: 0.75\n",
      "Iteration number: 60 Loss: 0.8021511890183319 Acc: 0.65625\n",
      "Iteration number: 70 Loss: 0.7005087997349619 Acc: 0.75\n",
      "Iteration number: 80 Loss: 0.6991572334900411 Acc: 0.71875\n",
      "Iteration number: 90 Loss: 0.533888457044668 Acc: 0.8125\n",
      "Iteration number: 100 Loss: 0.6086728182381194 Acc: 0.796875\n"
     ]
    },
    {
     "name": "stderr",
     "output_type": "stream",
     "text": [
      "\r",
      " 60%|█████████████████████████████████████████████████▊                                 | 6/10 [03:22<02:17, 34.31s/it]"
     ]
    },
    {
     "name": "stdout",
     "output_type": "stream",
     "text": [
      "Epoch Acc: 0.7372295673076923 Epoch loss 0.6918454280452533\n",
      "Iteration number: 10 Loss: 0.8127921227496699 Acc: 0.75\n",
      "Iteration number: 20 Loss: 1.3044212706154212 Acc: 0.453125\n",
      "Iteration number: 30 Loss: 0.7542767905397341 Acc: 0.765625\n",
      "Iteration number: 40 Loss: 0.8726849578088149 Acc: 0.71875\n",
      "Iteration number: 50 Loss: 0.822772563144099 Acc: 0.65625\n",
      "Iteration number: 60 Loss: 0.6344417187501676 Acc: 0.8125\n",
      "Iteration number: 70 Loss: 0.6528625004830246 Acc: 0.734375\n",
      "Iteration number: 80 Loss: 0.6280531286428186 Acc: 0.78125\n",
      "Iteration number: 90 Loss: 0.7465076598978158 Acc: 0.65625\n",
      "Iteration number: 100 Loss: 0.9301504997711163 Acc: 0.671875\n"
     ]
    },
    {
     "name": "stderr",
     "output_type": "stream",
     "text": [
      "\r",
      " 70%|██████████████████████████████████████████████████████████                         | 7/10 [03:56<01:42, 34.19s/it]"
     ]
    },
    {
     "name": "stdout",
     "output_type": "stream",
     "text": [
      "Epoch Acc: 0.73046875 Epoch loss 0.7198451855168531\n",
      "Iteration number: 10 Loss: 0.7392014927463606 Acc: 0.671875\n",
      "Iteration number: 20 Loss: 0.4764008364144843 Acc: 0.84375\n",
      "Iteration number: 30 Loss: 0.7553027144203952 Acc: 0.703125\n",
      "Iteration number: 40 Loss: 0.612875765350509 Acc: 0.71875\n",
      "Iteration number: 50 Loss: 0.6188039840017154 Acc: 0.78125\n",
      "Iteration number: 60 Loss: 0.6960113367940721 Acc: 0.796875\n",
      "Iteration number: 70 Loss: 0.506441058717428 Acc: 0.765625\n",
      "Iteration number: 80 Loss: 0.7033764909720048 Acc: 0.734375\n",
      "Iteration number: 90 Loss: 0.6069274684795687 Acc: 0.734375\n",
      "Iteration number: 100 Loss: 0.7257413003535476 Acc: 0.640625\n"
     ]
    },
    {
     "name": "stderr",
     "output_type": "stream",
     "text": [
      "\r",
      " 80%|██████████████████████████████████████████████████████████████████▍                | 8/10 [04:32<01:09, 34.60s/it]"
     ]
    },
    {
     "name": "stdout",
     "output_type": "stream",
     "text": [
      "Epoch Acc: 0.7475961538461539 Epoch loss 0.6761874630241695\n",
      "Iteration number: 10 Loss: 0.5420578579735889 Acc: 0.765625\n",
      "Iteration number: 20 Loss: 1.2553167501464486 Acc: 0.453125\n",
      "Iteration number: 30 Loss: 1.117213211255148 Acc: 0.5\n",
      "Iteration number: 40 Loss: 1.156370238168165 Acc: 0.515625\n",
      "Iteration number: 50 Loss: 1.1345088426023722 Acc: 0.53125\n",
      "Iteration number: 60 Loss: 1.137475413037464 Acc: 0.546875\n",
      "Iteration number: 70 Loss: 1.2014823746867478 Acc: 0.453125\n",
      "Iteration number: 80 Loss: 1.0674511257675476 Acc: 0.46875\n",
      "Iteration number: 90 Loss: 1.0241967826150358 Acc: 0.640625\n",
      "Iteration number: 100 Loss: 1.0610235288040712 Acc: 0.6875\n"
     ]
    },
    {
     "name": "stderr",
     "output_type": "stream",
     "text": [
      "\r",
      " 90%|██████████████████████████████████████████████████████████████████████████▋        | 9/10 [05:06<00:34, 34.44s/it]"
     ]
    },
    {
     "name": "stdout",
     "output_type": "stream",
     "text": [
      "Epoch Acc: 0.5264423076923077 Epoch loss 1.1142622778816562\n",
      "Iteration number: 10 Loss: 1.0923953328747302 Acc: 0.5625\n",
      "Iteration number: 20 Loss: 0.9900752868270501 Acc: 0.703125\n",
      "Iteration number: 30 Loss: 1.081723992334446 Acc: 0.53125\n",
      "Iteration number: 40 Loss: 0.9538579968211707 Acc: 0.53125\n",
      "Iteration number: 50 Loss: 0.9246253275086929 Acc: 0.5625\n",
      "Iteration number: 60 Loss: 1.0626008382532746 Acc: 0.578125\n",
      "Iteration number: 70 Loss: 0.9358697295174352 Acc: 0.609375\n",
      "Iteration number: 80 Loss: 0.7825511138944421 Acc: 0.75\n",
      "Iteration number: 90 Loss: 0.712780369023676 Acc: 0.734375\n",
      "Iteration number: 100 Loss: 0.6762254803034011 Acc: 0.75\n"
     ]
    },
    {
     "name": "stderr",
     "output_type": "stream",
     "text": [
      "100%|██████████████████████████████████████████████████████████████████████████████████| 10/10 [05:41<00:00, 34.13s/it]"
     ]
    },
    {
     "name": "stdout",
     "output_type": "stream",
     "text": [
      "Epoch Acc: 0.6200420673076923 Epoch loss 0.9154964074704839\n"
     ]
    },
    {
     "name": "stderr",
     "output_type": "stream",
     "text": [
      "\n"
     ]
    },
    {
     "data": {
      "image/png": "[encoded data removed]",
      "text/plain": [
       "<Figure size 432x288 with 1 Axes>"
      ]
     },
     "metadata": {
      "needs_background": "light"
     },
     "output_type": "display_data"
    }
   ],
   "source": [
    "# RNN训练 具体的参数可以自行调整\n",
    "n_hidden = 128\n",
    "n_input = 50\n",
    "n_output = 4\n",
    "rnn = RNN(n_input, n_hidden, n_output)\n",
    "rnn.to(device)\n",
    "train(rnn, train_iterator, lr=0.0005, num_epoch=10)"
   ]
  },
  {
   "cell_type": "markdown",
   "metadata": {},
   "source": [
    "## 四、结果评测"
   ]
  },
  {
   "cell_type": "markdown",
   "metadata": {},
   "source": [
    "计算RNN模型在测试集上的准确率："
   ]
  },
  {
   "cell_type": "code",
   "execution_count": 28,
   "metadata": {},
   "outputs": [],
   "source": [
    "def eval_test(model, iterator):\n",
    "    total_cnt = 0\n",
    "    total_acc = 0\n",
    "    for batch_data in iterator:\n",
    "        texts, text_lengths = batch_data.text\n",
    "        labels = batch_data.label\n",
    "        \n",
    "        for text, label in zip(texts, labels):\n",
    "            hidden = model.init_hidden().to(device)\n",
    "            for i in range(len(text)):\n",
    "                embedding = TEXT.vocab.vectors[text[i]]\n",
    "                embedding = embedding.to(device)\n",
    "                output, hidden = model(embedding.reshape(1, -1), hidden)\n",
    "            \n",
    "            if output.argmax(1) == label - 1:  # 判断预测概率最大的类是否正确\n",
    "                total_acc += 1\n",
    "            total_cnt += 1\n",
    "\n",
    "    print(\"Test Acc:\", total_acc / total_cnt)"
   ]
  },
  {
   "cell_type": "markdown",
   "metadata": {},
   "source": [
    "**请加载效果最好的模型，输出模型在测试集上的准确率**"
   ]
  },
  {
   "cell_type": "code",
   "execution_count": 30,
   "metadata": {},
   "outputs": [
    {
     "name": "stdout",
     "output_type": "stream",
     "text": [
      "Test Acc: 0.752\n"
     ]
    }
   ],
   "source": [
    "# TODO\n",
    "rnn.load_state_dict(torch.load('modelparam'))\n",
    "eval_test(rnn,test_iterator)"
   ]
  },
  {
   "cell_type": "markdown",
   "metadata": {},
   "source": [
    "## 五、附加部分（1'）"
   ]
  },
  {
   "cell_type": "markdown",
   "metadata": {},
   "source": [
    "**可选1 模型优化**：在上述文本分类任务中，只使用了文章的正文内容，没有利用标题中的信息。请尝试加入标题内容，修改模型，以优化模型的分类能力。"
   ]
  },
  {
   "cell_type": "code",
   "execution_count": null,
   "metadata": {},
   "outputs": [],
   "source": []
  },
  {
   "cell_type": "markdown",
   "metadata": {},
   "source": [
    "**可选2 对抗实验**：训练完成后，我们可以得到一个模型能够正确预测的样本构成的集合，请在已有的模型能够正确分类的样本集中设计一些对抗实验。\n",
    "\n",
    "例如：对原始的输入文本随机删去一些词，或是将部分词遮盖（替换）成&lt;unk&gt;，表示未知词。（前面用torchtext构建的TEXT.vocab词表中第一个token是&lt;unk&gt;）\n",
    "\n",
    "这部分可以设置一个适当的比例，比如遮盖/删除20%的词。计算模型对于这样的输入的预测错误率，并尝试改进策略，使得模型在面对“20%的词被遮盖”（或者其他条件）的情况时，错误预测率尽可能低。"
   ]
  },
  {
   "cell_type": "code",
   "execution_count": null,
   "metadata": {},
   "outputs": [],
   "source": []
  }
 ],
 "metadata": {
  "kernelspec": {
   "display_name": "Python 3 (ipykernel)",
   "language": "python",
   "name": "python3"
  },
  "language_info": {
   "codemirror_mode": {
    "name": "ipython",
    "version": 3
   },
   "file_extension": ".py",
   "mimetype": "text/x-python",
   "name": "python",
   "nbconvert_exporter": "python",
   "pygments_lexer": "ipython3",
   "version": "3.9.7"
  }
 },
 "nbformat": 4,
 "nbformat_minor": 4
}
