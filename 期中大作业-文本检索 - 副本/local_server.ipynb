{
 "cells": [
  {
   "cell_type": "code",
   "execution_count": 1,
   "metadata": {},
   "outputs": [],
   "source": []
  },
  {
   "cell_type": "code",
   "execution_count": 5,
   "metadata": {},
   "outputs": [
    {
     "name": "stdout",
     "output_type": "stream",
     "text": [
      "client('127.0.0.1', 63036) has been connect\n",
      "data is ['123']\n"
     ]
    }
   ],
   "source": [
    "from threading import Thread\n",
    "import socket\n",
    "import json\n",
    "import pandas as pd\n",
    "import nltk\n",
    "from nltk.corpus import stopwords\n",
    "from nltk.tokenize import word_tokenize\n",
    "from nltk.stem import WordNetLemmatizer\n",
    "import string\n",
    "import re\n",
    "def wrap(data):\n",
    "    return bytes(json.dumps(data).encode('utf-8'))\n",
    "class LocalServer(object):\n",
    "    def ccut(self,x):\n",
    "        for i in range(0,3):\n",
    "            x[i] = re.sub('[^A-Za-z]+', ' ', x[i]).lower()\n",
    "            x[i] = x[i].translate(self.remove)\n",
    "            #x[i] = nltk.word_tokenize(x[i])\n",
    "        return x\n",
    "    def __init__(self, host, port):\n",
    "        self.address = (host, port)\n",
    "       \n",
    "    def find(self,terms):\n",
    "        return [(1,2)]\n",
    "    def serve(self,new_socket,client_info):\n",
    "        print(\"client{} has been connect\".format(client_info))\n",
    "        raw_data = new_socket.recv(1024)\n",
    "        while raw_data:\n",
    "            data = json.loads(raw_data)\n",
    "            print('data is {}'.format(data))\n",
    "            new_socket.send(wrap(self.find(data)))\n",
    "            raw_data = new_socket.recv(1024)\n",
    "        new_socket.close()\n",
    "    def run(self):\n",
    "        server = socket.socket(socket.AF_INET, socket.SOCK_STREAM)\n",
    "        server.setsockopt(socket.SOL_SOCKET, socket.SO_REUSEADDR, 1)\n",
    "        server.bind(self.address)\n",
    "        server.listen(5)\n",
    "        new_socket,client_info = server.accept()\n",
    "        p = Thread(target = self.serve,args = (new_socket,client_info))\n",
    "        p.start()\n",
    "        \n",
    "        \n",
    "        \"\"\"\n",
    "        TODO：请在服务器端实现合理的并发处理方案，使得服务器端能够处理多个客户端发来的请求\n",
    "        \"\"\"\n",
    "    \n",
    "        \"\"\"\n",
    "        TODO: 请补充实现文本检索，以及服务器端与客户端之间的通信\n",
    "        \n",
    "        1. 接受客户端传递的数据， 例如检索词\n",
    "        2. 调用检索函数，根据检索词完成检索\n",
    "        3. 将检索结果发送给客户端，具体的数据格式可以自己定义\n",
    "        \n",
    "        \"\"\"\n",
    "#nltk.download('punkt')\n",
    "server = LocalServer(\"127.0.0.1\", 9001)\n",
    "server.run()"
   ]
  },
  {
   "cell_type": "markdown",
   "metadata": {},
   "source": [
    "#### 运行服务器端\n",
    "启动服务器之后，在run.ipynb中运行客户端图形界面"
   ]
  },
  {
   "cell_type": "code",
   "execution_count": null,
   "metadata": {},
   "outputs": [],
   "source": []
  },
  {
   "cell_type": "code",
   "execution_count": null,
   "metadata": {},
   "outputs": [],
   "source": []
  }
 ],
 "metadata": {
  "interpreter": {
   "hash": "a8f61be024eba58adef938c9aa1e29e02cb3dece83a5348b1a2dafd16a070453"
  },
  "kernelspec": {
   "display_name": "Python 3 (ipykernel)",
   "language": "python",
   "name": "python3"
  },
  "language_info": {
   "codemirror_mode": {
    "name": "ipython",
    "version": 3
   },
   "file_extension": ".py",
   "mimetype": "text/x-python",
   "name": "python",
   "nbconvert_exporter": "python",
   "pygments_lexer": "ipython3",
   "version": "3.9.7"
  }
 },
 "nbformat": 4,
 "nbformat_minor": 4
}
