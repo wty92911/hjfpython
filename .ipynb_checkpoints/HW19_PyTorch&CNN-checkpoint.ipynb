{
 "cells": [
  {
   "cell_type": "markdown",
   "id": "46327276",
   "metadata": {},
   "source": [
    "# HW19\n",
    "本次作业包括对PyTorch的简单练习和简单CNN模型的搭建，帮助大家熟悉PyTorch框架，截止时间为本周五2022.5.20 23：59。"
   ]
  },
  {
   "cell_type": "code",
   "execution_count": 1,
   "id": "4a767e22",
   "metadata": {},
   "outputs": [
    {
     "name": "stdout",
     "output_type": "stream",
     "text": [
      "Populating the interactive namespace from numpy and matplotlib\n"
     ]
    },
    {
     "data": {
      "text/plain": [
       "[<matplotlib.lines.Line2D at 0x2834aebba00>]"
      ]
     },
     "execution_count": 1,
     "metadata": {},
     "output_type": "execute_result"
    },
    {
     "data": {
      "image/png": "[encoded data removed]",
      "text/plain": [
       "<Figure size 432x288 with 1 Axes>"
      ]
     },
     "metadata": {
      "needs_background": "light"
     },
     "output_type": "display_data"
    }
   ],
   "source": [
    "%pylab inline \n",
    "import matplotlib.pyplot as plt \n",
    "import numpy as np\n",
    "plt.plot(np.sin(np.linspace(0,2*np.pi, 100)))"
   ]
  },
  {
   "cell_type": "markdown",
   "id": "ab0a06fa",
   "metadata": {},
   "source": [
    "# 1. PyTorch基础练习(3')\n",
    "请注意，本题要求全部基于pytorch实现，不能使用pytorch的.tolist()或者.numpy()等函数将tensor转换成list或者numpy array来处理。"
   ]
  },
  {
   "cell_type": "markdown",
   "id": "6ff6d5cf",
   "metadata": {},
   "source": [
    "（1）首先，创建一个服从标准正态分布的$3\\times 4$的tensor $A$，和一个服从标准正态分布的$2\\times6$的tensor $B$(0.5')"
   ]
  },
  {
   "cell_type": "code",
   "execution_count": 2,
   "id": "a57c6726",
   "metadata": {},
   "outputs": [],
   "source": [
    "import torch\n",
    "\n",
    "A = torch.randn(3,4,requires_grad = True)\n",
    "B = torch.randn(2,6)"
   ]
  },
  {
   "cell_type": "markdown",
   "id": "732fc738",
   "metadata": {},
   "source": [
    "（2）使用view操作将$B$的形状也转换成$3\\times 4$，计算$A+B$和$AB^\\top$（矩阵乘法）(0.5')"
   ]
  },
  {
   "cell_type": "code",
   "execution_count": 3,
   "id": "063b5053",
   "metadata": {},
   "outputs": [
    {
     "name": "stdout",
     "output_type": "stream",
     "text": [
      "tensor([[-1.6888,  1.7095, -1.1287,  0.0245],\n",
      "        [-2.0987, -1.6364, -0.8785, -2.7806],\n",
      "        [-1.6067, -0.7014, -0.6034,  0.2715]])\n",
      "tensor([[-3.3255,  0.8041, -0.6381,  0.0914],\n",
      "        [-0.5643, -2.0609, -2.4503, -2.9602],\n",
      "        [-0.1160, -1.0154,  0.6034,  1.0761]], grad_fn=<AddBackward0>)\n",
      "tensor([[ 0.6641,  4.2993,  2.9868],\n",
      "        [-1.5472, -0.6454, -1.2680],\n",
      "        [-4.3969, -5.9121, -2.6847]], grad_fn=<MmBackward0>)\n"
     ]
    }
   ],
   "source": [
    "B = B.view(3,4)\n",
    "print(B)\n",
    "print(A + B)\n",
    "print(torch.matmul(A,B.T))"
   ]
  },
  {
   "cell_type": "markdown",
   "id": "9692859b",
   "metadata": {},
   "source": [
    "（3）取出矩阵$A$的所有大于0的值，并按照行的顺序排列成一个一维的tensor $C$。(1')\n",
    "\n",
    "例如：[[0, 0.1, 0.2], [-0.3, 0.4, -0.5]]需要转换成[0.1, 0.2, 0.4]"
   ]
  },
  {
   "cell_type": "code",
   "execution_count": 4,
   "id": "6b157a91",
   "metadata": {},
   "outputs": [
    {
     "name": "stdout",
     "output_type": "stream",
     "text": [
      "tensor([0.4906, 0.0669, 1.5344, 1.4907, 1.2068, 0.8045],\n",
      "       grad_fn=<MaskedSelectBackward0>)\n"
     ]
    }
   ],
   "source": [
    "C = torch.masked_select(A,A > 0)\n",
    "print(C)"
   ]
  },
  {
   "cell_type": "markdown",
   "id": "6b427e19",
   "metadata": {},
   "source": [
    "（4）将$C$的每个元素平方，得到$D$。计算$D$的平均值$mean(D)$，并求出$mean(D)$对$A$的梯度(1')"
   ]
  },
  {
   "cell_type": "code",
   "execution_count": 5,
   "id": "2617c236",
   "metadata": {},
   "outputs": [
    {
     "name": "stdout",
     "output_type": "stream",
     "text": [
      "tensor([0.2407, 0.0045, 2.3543, 2.2223, 1.4563, 0.6473],\n",
      "       grad_fn=<PowBackward0>)\n",
      "tensor(1.1542, grad_fn=<MeanBackward0>)\n",
      "tensor([[0.0000, 0.0000, 0.1635, 0.0223],\n",
      "        [0.5115, 0.0000, 0.0000, 0.0000],\n",
      "        [0.4969, 0.0000, 0.4023, 0.2682]])\n"
     ]
    }
   ],
   "source": [
    "D = C ** 2\n",
    "print(D)\n",
    "m = D.mean()\n",
    "print(m)\n",
    "m.backward()\n",
    "print(A.grad)"
   ]
  },
  {
   "cell_type": "markdown",
   "id": "1825f06a",
   "metadata": {},
   "source": [
    "# 2.神经网络拟合函数(3')"
   ]
  },
  {
   "cell_type": "markdown",
   "id": "1997ba84",
   "metadata": {},
   "source": [
    "请使用torch.nn这一模块实现通过神经网络拟合函数的任务，利用4次多项式函数来拟合余弦函数（定义域：$[-\\pi,\\pi]$）。\n",
    "\n",
    "请作图展示拟合后的效果。\n",
    "同学们可以参考课件的代码完成。"
   ]
  },
  {
   "cell_type": "code",
   "execution_count": 6,
   "id": "c578cbcb",
   "metadata": {},
   "outputs": [],
   "source": [
    "import torch\n",
    "from torch import nn,optim,flatten\n",
    "from torch.utils.data import DataLoader\n",
    "from torchvision import datasets\n",
    "from torchvision.transforms import ToTensor, Lambda\n",
    "import math\n",
    "import numpy as np\n",
    "from matplotlib import pyplot as plt\n",
    "torch.manual_seed(1) #设置随机种子以保证实验的可重复性\n",
    "class Polynomial4(nn.Module):\n",
    "    def __init__(self):\n",
    "        super().__init__()\n",
    "        self.a = torch.nn.Parameter(torch.randn(()))\n",
    "        self.b = torch.nn.Parameter(torch.randn(()))\n",
    "        self.c = torch.nn.Parameter(torch.randn(()))\n",
    "        self.d = torch.nn.Parameter(torch.randn(()))\n",
    "        self.e = torch.nn.Parameter(torch.randn(()))\n",
    "    def forward(self, x ):\n",
    "        return self.a + self.b * x + self.c * x ** 2 + self.d * x ** 3 + self.e * x ** 4\n",
    "    def __str__(self):\n",
    "        return f'y = {self.a.item()} + {self.b.item()} x + {self.c.item()} x ^ 2 + {self.d.item()} x ^ 3 + {self.e.item()} x ^ 4' "
   ]
  },
  {
   "cell_type": "code",
   "execution_count": 7,
   "id": "96e2669d",
   "metadata": {},
   "outputs": [
    {
     "name": "stdout",
     "output_type": "stream",
     "text": [
      "0 974.9260625\n",
      "299 0.80544970703125\n",
      "598 0.5367717895507812\n",
      "897 0.38791958618164063\n",
      "1196 0.30185183715820313\n",
      "1495 0.24904145812988282\n",
      "1794 0.21416531372070313\n",
      "2093 0.18923683166503907\n",
      "2392 0.1700638427734375\n",
      "2691 0.15441950988769532\n",
      "2990 0.1410986328125\n",
      "3289 0.12942987060546876\n",
      "3588 0.11902185821533204\n",
      "3887 0.10963448333740235\n",
      "4186 0.10110821533203125\n",
      "4485 0.0933297119140625\n",
      "4784 0.08621286773681641\n",
      "5083 0.07968838500976562\n",
      "5382 0.07369824981689453\n",
      "5681 0.06819242858886719\n",
      "5980 0.06312709045410156\n",
      "6279 0.05846352386474609\n",
      "6578 0.05416683959960938\n",
      "6877 0.05020583343505859\n",
      "7176 0.04655233383178711\n",
      "7475 0.04318088150024414\n",
      "7774 0.04006820678710937\n",
      "8073 0.03719343566894531\n",
      "8372 0.034537384033203125\n",
      "8671 0.03208258819580078\n",
      "8970 0.029813085556030273\n",
      "9269 0.027714317321777343\n",
      "9568 0.02577297592163086\n",
      "9867 0.023976778030395506\n",
      "10166 0.022314590454101564\n",
      "10465 0.020776065826416015\n",
      "10764 0.019351810455322267\n",
      "11063 0.018033140182495116\n",
      "11362 0.016811960220336913\n",
      "11661 0.015681002616882326\n",
      "11960 0.0146334228515625\n",
      "Result: y = 0.8728825449943542 + 0.005446702241897583 x + -0.39409682154655457 x ^ 2 + -0.0007751358789391816 x ^ 3 + 0.02052694372832775 x ^ 4\n"
     ]
    }
   ],
   "source": [
    "# 请仿照课上的PPT完成训练过程，下面的代码只是作为参考，可以随意修改\n",
    "# TODO\n",
    "x = torch.linspace(-math.pi,math.pi,steps = 4000)\n",
    "y = torch.cos(x)\n",
    "model = Polynomial4()\n",
    "optimizer = torch.optim.SGD(model.parameters(),lr = 7e-8)\n",
    "criterion = torch.nn.MSELoss(reduction = 'sum')\n",
    "\n",
    "for t in range(12000):\n",
    "    y_pred = model(x)\n",
    "    loss = criterion(y_pred,y)\n",
    "    if t % 299 == 0:\n",
    "        print(t,loss.item() / 1000)\n",
    "    optimizer.zero_grad()\n",
    "    loss.backward()\n",
    "    optimizer.step()\n",
    "\n",
    "print(f'Result: {model}')"
   ]
  },
  {
   "cell_type": "code",
   "execution_count": 8,
   "id": "1dad7e77",
   "metadata": {},
   "outputs": [
    {
     "data": {
      "image/png": "[encoded data removed]",
      "text/plain": [
       "<Figure size 432x288 with 1 Axes>"
      ]
     },
     "metadata": {
      "needs_background": "light"
     },
     "output_type": "display_data"
    }
   ],
   "source": [
    "# 请利用matplotlib完成作图，画出余弦函数以及拟合的多项式函数在定义域内的图像\n",
    "plt.plot(x,model(x).detach().numpy(),\"b-\",label = \"polynomial\")\n",
    "X = np.linspace(-np.pi,np.pi,256,endpoint=True)\n",
    "cos = np.cos(X)\n",
    "plt.plot(X,cos,\"r-\",label = \"cos\")\n",
    "plt.show()"
   ]
  },
  {
   "cell_type": "markdown",
   "id": "fdbae1a5",
   "metadata": {},
   "source": [
    "# 3 基于卷积神经网络的图像分类(4')\n",
    "本节我们将在FashionMINST数据集上完成简单的图像分类任务，对于网络的设计和最终的分类成绩本次作业没有确切的要求，不过如果稍微调一下参的话取得80%+的正确率应该不算难。"
   ]
  },
  {
   "cell_type": "code",
   "execution_count": null,
   "id": "7de4572d",
   "metadata": {},
   "outputs": [
    {
     "name": "stdout",
     "output_type": "stream",
     "text": [
      "Downloading http://fashion-mnist.s3-website.eu-central-1.amazonaws.com/train-images-idx3-ubyte.gz\n",
      "Downloading http://fashion-mnist.s3-website.eu-central-1.amazonaws.com/train-images-idx3-ubyte.gz to ./FashionMNIST\\raw\\train-images-idx3-ubyte.gz\n"
     ]
    },
    {
     "data": {
      "application/vnd.jupyter.widget-view+json": {
       "model_id": "0aa3531d440148a3b286a883f38bcc08",
       "version_major": 2,
       "version_minor": 0
      },
      "text/plain": [
       "  0%|          | 0/26421880 [00:00<?, ?it/s]"
      ]
     },
     "metadata": {},
     "output_type": "display_data"
    }
   ],
   "source": [
    "#数据下载，这里可以直接下现成的Dataset，如果同学们想更进一步学习的话应该了解torch.utils.data.Dataset类的写法\n",
    "training_data = datasets.FashionMNIST(\n",
    "    root=\"./\", train=True, download=True, transform=ToTensor())\n",
    "test_data = datasets.FashionMNIST(\n",
    "    root=\"./\", train=False, download=True, transform=ToTensor())"
   ]
  },
  {
   "cell_type": "code",
   "execution_count": 10,
   "id": "819af870",
   "metadata": {
    "scrolled": true
   },
   "outputs": [
    {
     "ename": "NameError",
     "evalue": "name 'training_data' is not defined",
     "output_type": "error",
     "traceback": [
      "\u001b[1;31m---------------------------------------------------------------------------\u001b[0m",
      "\u001b[1;31mNameError\u001b[0m                                 Traceback (most recent call last)",
      "\u001b[1;32m~\\AppData\\Local\\Temp/ipykernel_15732/4102709011.py\u001b[0m in \u001b[0;36m<module>\u001b[1;34m\u001b[0m\n\u001b[0;32m      8\u001b[0m     \u001b[0mplt\u001b[0m\u001b[1;33m.\u001b[0m\u001b[0myticks\u001b[0m\u001b[1;33m(\u001b[0m\u001b[1;33m[\u001b[0m\u001b[1;33m]\u001b[0m\u001b[1;33m)\u001b[0m\u001b[1;33m\u001b[0m\u001b[1;33m\u001b[0m\u001b[0m\n\u001b[0;32m      9\u001b[0m     \u001b[0mplt\u001b[0m\u001b[1;33m.\u001b[0m\u001b[0mgrid\u001b[0m\u001b[1;33m(\u001b[0m\u001b[1;32mFalse\u001b[0m\u001b[1;33m)\u001b[0m\u001b[1;33m\u001b[0m\u001b[1;33m\u001b[0m\u001b[0m\n\u001b[1;32m---> 10\u001b[1;33m     \u001b[0mplt\u001b[0m\u001b[1;33m.\u001b[0m\u001b[0mimshow\u001b[0m\u001b[1;33m(\u001b[0m\u001b[0mtraining_data\u001b[0m\u001b[1;33m[\u001b[0m\u001b[0mi\u001b[0m\u001b[1;33m]\u001b[0m\u001b[1;33m[\u001b[0m\u001b[1;36m0\u001b[0m\u001b[1;33m]\u001b[0m\u001b[1;33m.\u001b[0m\u001b[0msqueeze\u001b[0m\u001b[1;33m(\u001b[0m\u001b[1;36m0\u001b[0m\u001b[1;33m)\u001b[0m\u001b[1;33m,\u001b[0m \u001b[0mcmap\u001b[0m\u001b[1;33m=\u001b[0m\u001b[0mplt\u001b[0m\u001b[1;33m.\u001b[0m\u001b[0mcm\u001b[0m\u001b[1;33m.\u001b[0m\u001b[0mbinary\u001b[0m\u001b[1;33m)\u001b[0m\u001b[1;33m\u001b[0m\u001b[1;33m\u001b[0m\u001b[0m\n\u001b[0m\u001b[0;32m     11\u001b[0m     \u001b[0mplt\u001b[0m\u001b[1;33m.\u001b[0m\u001b[0mxlabel\u001b[0m\u001b[1;33m(\u001b[0m\u001b[0mlabels\u001b[0m\u001b[1;33m[\u001b[0m\u001b[0mtraining_data\u001b[0m\u001b[1;33m[\u001b[0m\u001b[0mi\u001b[0m\u001b[1;33m]\u001b[0m\u001b[1;33m[\u001b[0m\u001b[1;36m1\u001b[0m\u001b[1;33m]\u001b[0m\u001b[1;33m]\u001b[0m\u001b[1;33m)\u001b[0m\u001b[1;33m\u001b[0m\u001b[1;33m\u001b[0m\u001b[0m\n\u001b[0;32m     12\u001b[0m \u001b[0mplt\u001b[0m\u001b[1;33m.\u001b[0m\u001b[0mshow\u001b[0m\u001b[1;33m(\u001b[0m\u001b[1;33m)\u001b[0m\u001b[1;33m\u001b[0m\u001b[1;33m\u001b[0m\u001b[0m\n",
      "\u001b[1;31mNameError\u001b[0m: name 'training_data' is not defined"
     ]
    },
    {
     "data": {
      "image/png": "[encoded data removed]",
      "text/plain": [
       "<Figure size 720x720 with 1 Axes>"
      ]
     },
     "metadata": {},
     "output_type": "display_data"
    }
   ],
   "source": [
    "# 进行简单的可视化\n",
    "labels = ['T-shirt/top', 'Trouser', 'Pullover', 'Dress', 'Coat',\n",
    "               'Sandal', 'Shirt', 'Sneaker', 'Bag', 'Ankle boot']\n",
    "plt.figure(figsize=(10,10))\n",
    "for i in range(25):\n",
    "    plt.subplot(5,5,i+1)\n",
    "    plt.xticks([])\n",
    "    plt.yticks([])\n",
    "    plt.grid(False)\n",
    "    plt.imshow(training_data[i][0].squeeze(0), cmap=plt.cm.binary)\n",
    "    plt.xlabel(labels[training_data[i][1]])\n",
    "plt.show()"
   ]
  },
  {
   "cell_type": "code",
   "execution_count": null,
   "id": "130d31f9",
   "metadata": {},
   "outputs": [],
   "source": [
    "train_dataloader = DataLoader(training_data, batch_size=64)\n",
    "test_dataloader = DataLoader(test_data, batch_size=64)"
   ]
  },
  {
   "cell_type": "code",
   "execution_count": null,
   "id": "d113b85b",
   "metadata": {},
   "outputs": [],
   "source": [
    "class NeuralNetwork(nn.Module):\n",
    "    def __init__(self):\n",
    "        #自行设计神经网络结构\n",
    "        raise NotImplementedError\n",
    "    def forward(self, x) :\n",
    "        raise NotImplementedError"
   ]
  },
  {
   "cell_type": "code",
   "execution_count": null,
   "id": "7664487b",
   "metadata": {
    "scrolled": false
   },
   "outputs": [],
   "source": [
    "def train_loop(dataloader, model, loss_fn, optimizer):\n",
    "    for batch, (image, label) in enumerate(dataloader):\n",
    "        # TODO，训练函数\n",
    "        if batch % 100 == 0:\n",
    "            print(\"{} / {} , loss: {:.6f}\".format(batch*len(label), size, loss.item()))\n",
    "        pass\n",
    "def test_loop(dataloader, model, loss_fn):\n",
    "    with torch.no_grad():\n",
    "        for image, label in dataloader:\n",
    "        #TODO，测试函数\n",
    "        print(\"Accuracy: {:.2f}%\" .format(correct * 100))\n",
    "        pass\n",
    "epochs = 0\n",
    "for t in range(epochs):\n",
    "    print(f\"Epoch {t+1}\\n-------------------------------\")\n",
    "    #TODO\n",
    "print(\"训练完成!\")"
   ]
  },
  {
   "cell_type": "code",
   "execution_count": null,
   "id": "c84afa7f",
   "metadata": {},
   "outputs": [],
   "source": []
  }
 ],
 "metadata": {
  "kernelspec": {
   "display_name": "Python 3 (ipykernel)",
   "language": "python",
   "name": "python3"
  },
  "language_info": {
   "codemirror_mode": {
    "name": "ipython",
    "version": 3
   },
   "file_extension": ".py",
   "mimetype": "text/x-python",
   "name": "python",
   "nbconvert_exporter": "python",
   "pygments_lexer": "ipython3",
   "version": "3.9.7"
  }
 },
 "nbformat": 4,
 "nbformat_minor": 5
}
