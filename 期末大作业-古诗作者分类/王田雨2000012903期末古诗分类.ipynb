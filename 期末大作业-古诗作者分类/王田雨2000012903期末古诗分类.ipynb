{
 "cells": [
  {
   "cell_type": "markdown",
   "id": "fc59bb75-c8e8-4784-b8a3-21eb1c6aa1ca",
   "metadata": {},
   "source": [
    "# RNN序列编码-分类期末大作业\n",
    "\n",
    "本次大作业要求手动实现双向LSTM+基于attention的聚合模型，并用于古诗作者预测的序列分类任务。**请先阅读ppt中的作业说明。**"
   ]
  },
  {
   "cell_type": "code",
   "execution_count": 1,
   "id": "9638967f-db5b-425e-9c5b-167b2d871165",
   "metadata": {},
   "outputs": [
    {
     "data": {
      "text/plain": [
       "<torch._C.Generator at 0x248a009e350>"
      ]
     },
     "execution_count": 1,
     "metadata": {},
     "output_type": "execute_result"
    }
   ],
   "source": [
    "import torch\n",
    "import torch.nn as nn\n",
    "import torch.nn.functional as F\n",
    "\n",
    "import random\n",
    "import numpy as np\n",
    "\n",
    "from tqdm import tqdm\n",
    "\n",
    "device = torch.device(\"cpu\")\n",
    "\n",
    "random.seed(1)\n",
    "np.random.seed(1)\n",
    "torch.manual_seed(1)"
   ]
  },
  {
   "cell_type": "markdown",
   "id": "58e0fee5-d222-4d07-8d6c-a5a1a97ac1b2",
   "metadata": {},
   "source": [
    "## 1. 加载数据"
   ]
  },
  {
   "cell_type": "markdown",
   "id": "207c3e8f-d806-4137-997b-1b3018839f4a",
   "metadata": {},
   "source": [
    "数据位于`data`文件夹中，每一行对应一个样例，格式为“诗句 作者”。下面的代码将数据文件读取到`train_data`, `valid_data`和`test_data`中，并根据训练集中的数据构造词表`word2idx`/`idx2word`和标签集合`label2idx`/`idx2label`。"
   ]
  },
  {
   "cell_type": "code",
   "execution_count": 2,
   "id": "408f1a0a-afb3-4c8c-968e-2a037bc6c6ff",
   "metadata": {},
   "outputs": [],
   "source": [
    "word2idx = {\"<unk>\": 0}\n",
    "label2idx = {}\n",
    "idx2word = [\"<unk>\"]\n",
    "idx2label = []\n",
    "\n",
    "train_data = []\n",
    "with open(\"data/train.txt\",encoding='UTF-8') as f:\n",
    "    for line in f:\n",
    "        text, author = line.strip().split()\n",
    "        for c in text:\n",
    "            if c not in word2idx:\n",
    "                word2idx[c] = len(idx2word)\n",
    "                idx2word.append(c)\n",
    "        if author not in label2idx:\n",
    "            label2idx[author] = len(idx2label)\n",
    "            idx2label.append(author)\n",
    "        train_data.append((text, author))\n",
    "\n",
    "valid_data = []\n",
    "with open(\"data/valid.txt\", encoding='UTF-8') as f:\n",
    "    for line in f:\n",
    "        text, author = line.strip().split()\n",
    "        valid_data.append((text, author))\n",
    "\n",
    "test_data = []\n",
    "with open(\"data/test.txt\", encoding='UTF-8') as f:\n",
    "    for line in f:\n",
    "        text, author = line.strip().split()\n",
    "        test_data.append((text, author))"
   ]
  },
  {
   "cell_type": "code",
   "execution_count": 3,
   "id": "b1977f00-e7ad-43e8-8a5a-689fdb515c1f",
   "metadata": {},
   "outputs": [
    {
     "name": "stdout",
     "output_type": "stream",
     "text": [
      "4941 4941 5 5\n",
      "11271 1408 1410\n"
     ]
    }
   ],
   "source": [
    "print(len(word2idx), len(idx2word), len(label2idx), len(idx2label))\n",
    "print(len(train_data), len(valid_data), len(test_data))\n"
   ]
  },
  {
   "cell_type": "markdown",
   "id": "8a0a1eb4-e262-4bf8-9fd4-4ab52eebf476",
   "metadata": {},
   "source": [
    "**请完成下面的函数，其功能为给定一句古诗和一个作者，构造RNN的输入。** 这里需要用到上面构造的词表和标签集合，对于不在词表中的字用\\<unk\\>代替。"
   ]
  },
  {
   "cell_type": "code",
   "execution_count": 4,
   "id": "68e13c2f-064b-42a0-8f00-d39da3fff1a2",
   "metadata": {},
   "outputs": [],
   "source": [
    "\n",
    "def make_data(text, author):\n",
    "    \"\"\"\n",
    "    输入\n",
    "        text: str\n",
    "        author: str\n",
    "    输出\n",
    "        x: LongTensor, shape = (1, text_length)\n",
    "        y: LongTensor, shape = (1,)\n",
    "    \"\"\"\n",
    "    x = [word2idx.get(word,0) for word in text]\n",
    "    y = label2idx[author]\n",
    "    return x, y"
   ]
  },
  {
   "cell_type": "code",
   "execution_count": 5,
   "id": "77502acb",
   "metadata": {},
   "outputs": [
    {
     "data": {
      "text/plain": [
       "(1, 2)"
      ]
     },
     "execution_count": 5,
     "metadata": {},
     "output_type": "execute_result"
    }
   ],
   "source": [
    "def A():\n",
    "    return 1,2\n",
    "(A())"
   ]
  },
  {
   "cell_type": "code",
   "execution_count": 6,
   "id": "d7135e5c",
   "metadata": {},
   "outputs": [],
   "source": [
    "def collate(data_list):\n",
    "    src = [torch.tensor(_[0]) for _ in data_list]\n",
    "    tgt = [torch.tensor(_[1]) for _ in data_list]\n",
    "    return src,tgt\n",
    "batch_size = 1\n",
    "trainloader = torch.utils.data.DataLoader([\n",
    "    (make_data(text,author)) for (text, author) in train_data\n",
    "], batch_size=batch_size, shuffle=True, collate_fn=collate)\n",
    "validloader = torch.utils.data.DataLoader([\n",
    "    (make_data(text,author)) for (text, author) in valid_data\n",
    "], batch_size=batch_size, shuffle=True, collate_fn=collate)\n",
    "testloader = torch.utils.data.DataLoader([\n",
    "    (make_data(text,author)) for (text, author) in test_data\n",
    "], batch_size=batch_size, shuffle=True, collate_fn=collate)"
   ]
  },
  {
   "cell_type": "markdown",
   "id": "30b2ee07-19c9-4568-aaff-019fe46a4bd3",
   "metadata": {},
   "source": [
    "## 2. LSTM算子（单个时间片作为输入）"
   ]
  },
  {
   "cell_type": "code",
   "execution_count": 7,
   "id": "596a5c0b-9d6d-4166-ae52-a68f7490ca43",
   "metadata": {},
   "outputs": [],
   "source": [
    "class LSTM(nn.Module):\n",
    "    def __init__(self, input_size, hidden_size):\n",
    "        super(LSTM, self).__init__()\n",
    "        self.f = nn.Linear(input_size + hidden_size, hidden_size)\n",
    "        self.i = nn.Linear(input_size + hidden_size, hidden_size)\n",
    "        self.o = nn.Linear(input_size + hidden_size, hidden_size)\n",
    "        self.g = nn.Linear(input_size + hidden_size, hidden_size)\n",
    "    \n",
    "    def forward(self, ht, ct, xt):\n",
    "        # ht: 1 * hidden_size\n",
    "        # ct: 1 * hidden_size\n",
    "        # xt: 1 * input_size\n",
    "        input_combined = torch.cat((xt, ht), 1)\n",
    "        ft = torch.sigmoid(self.f(input_combined))\n",
    "        it = torch.sigmoid(self.i(input_combined))\n",
    "        ot = torch.sigmoid(self.o(input_combined))\n",
    "        gt = torch.tanh(self.g(input_combined))\n",
    "        ct = ft * ct + it * gt\n",
    "        ht = ot * torch.tanh(ct)\n",
    "        return ht, ct"
   ]
  },
  {
   "cell_type": "markdown",
   "id": "a7cc96e0-1f06-43a7-aeb8-08e837c2eede",
   "metadata": {},
   "source": [
    "## 3. 实现双向LSTM（整个序列作为输入）\n",
    "\n",
    "**要求使用上面提供的LSTM算子，不要调用torch.nn.LSTM**"
   ]
  },
  {
   "cell_type": "code",
   "execution_count": 8,
   "id": "8a27bc3e-5c90-4af2-b842-9eb4d5fc0550",
   "metadata": {},
   "outputs": [],
   "source": [
    "class BiLSTM(nn.Module):\n",
    "    def __init__(self, input_size, hidden_size):\n",
    "        super(BiLSTM, self).__init__()\n",
    "        # TODO\n",
    "        \n",
    "        self.register_buffer(\"_float\", torch.zeros(1, hidden_size))\n",
    "        self.lstm_forward = LSTM(input_size,hidden_size)\n",
    "        self.lstm_backward = LSTM(input_size,hidden_size)\n",
    "    \n",
    "    def init_h_and_c(self):\n",
    "        h = torch.zeros_like(self._float)\n",
    "        c = torch.zeros_like(self._float)\n",
    "        return h, c\n",
    "    \n",
    "    def forward(self, x):\n",
    "        h_forward,c_forward = self.init_h_and_c()\n",
    "        h_backward,c_backward = self.init_h_and_c()\n",
    "        fwd = []\n",
    "        bwd = []\n",
    "        \n",
    "        \"\"\"\n",
    "        输入\n",
    "            x: 1 * length * input_size\n",
    "        输出\n",
    "            hiddens\n",
    "        \"\"\"\n",
    "        # 前向\n",
    "        for i in range(x.shape[1]):\n",
    "            h_forward,c_forward = self.lstm_forward(h_forward,c_forward,x[:,i,:])\n",
    "            fwd.append(h_forward)\n",
    "        fwd = torch.stack(fwd,dim = 0).squeeze(1)\n",
    "        #后向\n",
    "        x_reverse = torch.flip(x,dims = [1])\n",
    "        for i in range(x_reverse.shape[1]):\n",
    "            h_backward,c_backward = self.lstm_backward(h_backward,c_backward,x_reverse[:,i,:])\n",
    "            bwd.append(h_backward)\n",
    "        bwd = torch.stack(bwd,dim = 0).squeeze(1)\n",
    "        bwd = torch.flip(bwd,dims = [0])\n",
    "        hiddens = torch.cat((fwd,bwd),-1).unsqueeze(0)\n",
    "        return hiddens"
   ]
  },
  {
   "cell_type": "markdown",
   "id": "f0cc8fca-caff-4a6d-abf1-0ced79692cc2",
   "metadata": {},
   "source": [
    "## 4. 实现基于attention的聚合机制"
   ]
  },
  {
   "cell_type": "code",
   "execution_count": 9,
   "id": "0122d8c3-ba8e-4b02-a9ae-8e06102ddcdd",
   "metadata": {},
   "outputs": [],
   "source": [
    "class Attention(nn.Module):\n",
    "    def __init__(self, hidden_size):\n",
    "        super(Attention, self).__init__()\n",
    "        \n",
    "        # TODO\n",
    "        \n",
    "    \n",
    "    def forward(self, hiddens):\n",
    "        \"\"\"\n",
    "        输入\n",
    "            hiddens: 1 * length * hidden_size\n",
    "        输出\n",
    "            attn_outputs: 1 * hidden_size\n",
    "        \"\"\"\n",
    "        # TODO\n",
    "        weights = F.softmax(hiddens)\n",
    "        attn_outputs = (weights * hiddens).sum(1)\n",
    "        return attn_outputs"
   ]
  },
  {
   "cell_type": "markdown",
   "id": "6b62bbf4-b565-4ec2-aebb-1d5fcbb7e048",
   "metadata": {},
   "source": [
    "## 5. 利用上述模块搭建序列分类模型\n",
    "\n",
    "参考模型结构：Embedding – BiLSTM – Attention – Linear – LogSoftmax"
   ]
  },
  {
   "cell_type": "code",
   "execution_count": 10,
   "id": "e90edb70-7c1d-4839-9f0b-c8e8dbf9a8ee",
   "metadata": {},
   "outputs": [],
   "source": [
    "class EncoderRNN(nn.Module):\n",
    "    def __init__(self, num_vocab, embedding_dim, hidden_size, num_classes):\n",
    "        \"\"\"\n",
    "        参数\n",
    "            num_vocab: 词表大小\n",
    "            embedding_dim: 词向量维数\n",
    "            hidden_size: 隐状态维数\n",
    "            num_classes: 类别数量\n",
    "        \"\"\"\n",
    "        super(EncoderRNN, self).__init__()\n",
    "        self.num_vocab = num_vocab\n",
    "        self.embedding_dim = embedding_dim\n",
    "        self.hidden_size = hidden_size\n",
    "        self.embed = nn.Embedding(num_vocab,embedding_dim)\n",
    "        self.bilstm = BiLSTM(embedding_dim,hidden_size)\n",
    "        self.attn = Attention(hidden_size)\n",
    "        self.h2q = nn.Linear(hidden_size + hidden_size,hidden_size)\n",
    "        self.h2o = nn.Linear(hidden_size,num_classes)\n",
    "        self.softmax = nn.LogSoftmax(dim = -1)\n",
    "        # TODO \n",
    "    \n",
    "    def forward(self, x):\n",
    "        \"\"\"\n",
    "        输入\n",
    "            x: 1 * length, LongTensor\n",
    "        输出\n",
    "            outputs\n",
    "        \"\"\"\n",
    "        # TODO\n",
    "        embedding = self.embed(x)\n",
    "        hidden = self.bilstm(embedding)\n",
    "        hidden = self.h2q(hidden)\n",
    "        #hidden = [self.h2q(h) for h in hidden]\n",
    "        hidden = self.attn(hidden)\n",
    "        outputs = self.h2o(hidden)\n",
    "        outputs = self.softmax(outputs)\n",
    "        return outputs\n",
    "    def predict(self,x):\n",
    "        with torch.no_grad():\n",
    "            outputs = self.forward(x)         \n",
    "        tgt = outputs.argmax(-1)\n",
    "        return tgt"
   ]
  },
  {
   "cell_type": "markdown",
   "id": "0325df21-7e77-4883-8909-9352e90a37fe",
   "metadata": {},
   "source": [
    "## 6. 请利用上述模型在古诗作者分类任务上进行训练和测试\n",
    "\n",
    "要求选取在验证集上效果最好的模型，输出测试集上的准确率、confusion matrix以及macro-precision/recall/F1，并打印部分测试样例及预测结果。"
   ]
  },
  {
   "cell_type": "code",
   "execution_count": 11,
   "id": "66681f05",
   "metadata": {},
   "outputs": [],
   "source": [
    "def train_loop(model,optimizer,criterion,loader):\n",
    "    model.train()\n",
    "    epoch_loss = 0.0\n",
    "    for src, tgt in tqdm(loader):\n",
    "        B = len(src)\n",
    "        loss = 0.0\n",
    "        for _ in range(B):\n",
    "            _src = src[_].unsqueeze(0).to(device)     # 1 * L\n",
    "            _tgt = tgt[_].unsqueeze(0).to(device)     # 1 * L\n",
    "            outputs = model(_src)     # 1 * L * V\n",
    "            #print(outputs.shape)\n",
    "            #print(_tgt.squeeze(0))\n",
    "            loss += criterion(outputs.squeeze(0), _tgt.squeeze(0))\n",
    "        \n",
    "        loss /= B\n",
    "        optimizer.zero_grad()\n",
    "        loss.backward()\n",
    "        torch.nn.utils.clip_grad_norm_(model.parameters(), 1)     # 裁剪梯度，将梯度范数裁剪为1，使训练更稳定\n",
    "        optimizer.step()\n",
    "        epoch_loss += loss.item()\n",
    "    epoch_loss /= len(loader)\n",
    "    return epoch_loss\n",
    "def test_loop(model, loader):\n",
    "    model.eval()\n",
    "    a = 0\n",
    "    b = 0\n",
    "    for src, tgt in tqdm(loader):\n",
    "        B = len(src)\n",
    "        for _ in range(B):\n",
    "            _src = src[_].unsqueeze(0).to(device)     # 1 * L\n",
    "            _tgt = tgt[_].unsqueeze(0).to(device)\n",
    "            with torch.no_grad():\n",
    "                outputs = model(_src)         # 1 * L\n",
    "            tgt = outputs.argmax(-1)\n",
    "            if torch.equal(_tgt,tgt):\n",
    "                a = a + 1\n",
    "            b = b + 1\n",
    "    return a / b"
   ]
  },
  {
   "cell_type": "code",
   "execution_count": 12,
   "id": "20361a8d",
   "metadata": {},
   "outputs": [],
   "source": [
    "model = EncoderRNN(len(word2idx),128,128,len(idx2label))\n",
    "model.to(device)\n",
    "optimizer = torch.optim.SGD(model.parameters(),lr = 1)\n",
    "criterion = nn.NLLLoss()\n",
    "best_score = 0.0"
   ]
  },
  {
   "cell_type": "code",
   "execution_count": 13,
   "id": "56a57606-cbbd-4532-bbac-8cb974fac21d",
   "metadata": {},
   "outputs": [
    {
     "name": "stderr",
     "output_type": "stream",
     "text": [
      "  0%|                                                                                        | 0/11271 [00:00<?, ?it/s]C:\\Users\\92911\\AppData\\Local\\Temp/ipykernel_2420/2967315701.py:16: UserWarning: Implicit dimension choice for softmax has been deprecated. Change the call to include dim=X as an argument.\n",
      "  weights = F.softmax(hiddens)\n",
      "100%|████████████████████████████████████████████████████████████████████████████| 11271/11271 [06:03<00:00, 31.00it/s]\n",
      "100%|█████████████████████████████████████████████████████████████████████████████| 1408/1408 [00:08<00:00, 164.37it/s]\n"
     ]
    },
    {
     "name": "stdout",
     "output_type": "stream",
     "text": [
      "Epoch 0: loss = 8.840874644764408, valid score = 0.4424715909090909\n"
     ]
    },
    {
     "name": "stderr",
     "output_type": "stream",
     "text": [
      "100%|████████████████████████████████████████████████████████████████████████████| 11271/11271 [05:53<00:00, 31.90it/s]\n",
      "100%|█████████████████████████████████████████████████████████████████████████████| 1408/1408 [00:08<00:00, 163.23it/s]\n"
     ]
    },
    {
     "name": "stdout",
     "output_type": "stream",
     "text": [
      "Epoch 1: loss = 9.287691656442748, valid score = 0.4424715909090909\n"
     ]
    },
    {
     "name": "stderr",
     "output_type": "stream",
     "text": [
      "100%|████████████████████████████████████████████████████████████████████████████| 11271/11271 [05:55<00:00, 31.70it/s]\n",
      "100%|█████████████████████████████████████████████████████████████████████████████| 1408/1408 [00:08<00:00, 162.56it/s]"
     ]
    },
    {
     "name": "stdout",
     "output_type": "stream",
     "text": [
      "Epoch 2: loss = 9.310083465247585, valid score = 0.3856534090909091\n"
     ]
    },
    {
     "name": "stderr",
     "output_type": "stream",
     "text": [
      "\n"
     ]
    }
   ],
   "source": [
    "\n",
    "\n",
    "for _ in range(3):\n",
    "    loss = train_loop(model, optimizer, criterion, trainloader)\n",
    "    score = test_loop(model, validloader)\n",
    "    \n",
    "    if score > best_score:\n",
    "        torch.save(model.state_dict(), \"model_best.pt\")\n",
    "        best_score = score\n",
    "    print(f\"Epoch {_}: loss = {loss}, valid score = {score}\")"
   ]
  },
  {
   "cell_type": "code",
   "execution_count": 14,
   "id": "e46af559",
   "metadata": {},
   "outputs": [
    {
     "name": "stderr",
     "output_type": "stream",
     "text": [
      "  0%|                                                                                         | 0/1410 [00:00<?, ?it/s]C:\\Users\\92911\\AppData\\Local\\Temp/ipykernel_2420/2967315701.py:16: UserWarning: Implicit dimension choice for softmax has been deprecated. Change the call to include dim=X as an argument.\n",
      "  weights = F.softmax(hiddens)\n",
      "100%|█████████████████████████████████████████████████████████████████████████████| 1410/1410 [00:08<00:00, 161.06it/s]"
     ]
    },
    {
     "name": "stdout",
     "output_type": "stream",
     "text": [
      "Test score = 0.4177304964539007\n"
     ]
    },
    {
     "name": "stderr",
     "output_type": "stream",
     "text": [
      "\n"
     ]
    }
   ],
   "source": [
    "model.load_state_dict(torch.load(\"model_best.pt\"))\n",
    "score = test_loop(model, testloader)\n",
    "print(f\"Test score = {score}\")\n"
   ]
  },
  {
   "cell_type": "code",
   "execution_count": 15,
   "id": "18f2c77a",
   "metadata": {},
   "outputs": [
    {
     "name": "stderr",
     "output_type": "stream",
     "text": [
      "  0%|                                                                                         | 0/1410 [00:00<?, ?it/s]C:\\Users\\92911\\AppData\\Local\\Temp/ipykernel_2420/2967315701.py:16: UserWarning: Implicit dimension choice for softmax has been deprecated. Change the call to include dim=X as an argument.\n",
      "  weights = F.softmax(hiddens)\n",
      "100%|█████████████████████████████████████████████████████████████████████████████| 1410/1410 [00:08<00:00, 161.38it/s]\n"
     ]
    }
   ],
   "source": [
    "A = []\n",
    "B = []\n",
    "for src, tgt in tqdm(testloader):\n",
    "    for _ in range(len(src)):\n",
    "        _src = src[_].unsqueeze(0).to(device)     # 1 * L\n",
    "        _tgt = tgt[_].unsqueeze(0).to(device)\n",
    "        with torch.no_grad():\n",
    "            outputs = model(_src)         # 1 * L\n",
    "        tgt = outputs.argmax(-1)\n",
    "        A.append(_tgt)\n",
    "        B.append(tgt)\n"
   ]
  },
  {
   "cell_type": "code",
   "execution_count": 16,
   "id": "eefee4c3",
   "metadata": {},
   "outputs": [
    {
     "name": "stdout",
     "output_type": "stream",
     "text": [
      "[[  0  60 100   0   0]\n",
      " [  0 269 140   1   4]\n",
      " [  0 149 319   0   0]\n",
      " [  0 105 132   0   0]\n",
      " [  0  40  90   0   1]]\n"
     ]
    }
   ],
   "source": [
    "from sklearn.metrics import confusion_matrix\n",
    "A = [x.cpu().numpy() for x in A]\n",
    "B = [x.cpu().numpy() for x in B]\n",
    "print(confusion_matrix(A,B))"
   ]
  },
  {
   "cell_type": "code",
   "execution_count": 17,
   "id": "e5351d56",
   "metadata": {},
   "outputs": [
    {
     "name": "stdout",
     "output_type": "stream",
     "text": [
      "0.2088637544558308 0.208046481133995 0.2678031947032943\n"
     ]
    },
    {
     "name": "stderr",
     "output_type": "stream",
     "text": [
      "C:\\Users\\92911\\anaconda3\\lib\\site-packages\\sklearn\\metrics\\_classification.py:1248: UndefinedMetricWarning: Precision is ill-defined and being set to 0.0 in labels with no predicted samples. Use `zero_division` parameter to control this behavior.\n",
      "  _warn_prf(average, modifier, msg_start, len(result))\n"
     ]
    }
   ],
   "source": [
    "from sklearn.metrics import f1_score, precision_score, recall_score\n",
    "f1 = f1_score( A, B, average='macro' )\n",
    "p = precision_score(A, B, average='macro')\n",
    "r = recall_score(A, B, average='macro')\n",
    "print(f1,p,r)"
   ]
  },
  {
   "cell_type": "code",
   "execution_count": 18,
   "id": "73d0b961",
   "metadata": {},
   "outputs": [
    {
     "name": "stdout",
     "output_type": "stream",
     "text": [
      "杜甫\n"
     ]
    },
    {
     "name": "stderr",
     "output_type": "stream",
     "text": [
      "C:\\Users\\92911\\AppData\\Local\\Temp/ipykernel_2420/2967315701.py:16: UserWarning: Implicit dimension choice for softmax has been deprecated. Change the call to include dim=X as an argument.\n",
      "  weights = F.softmax(hiddens)\n"
     ]
    }
   ],
   "source": [
    "input1 = \"微雨秋栽竹，孤燈夜讀書。憐君亦同志，晚歲傍山居。\"\n",
    "ans1 = \"杜牧\"\n",
    "x,y = make_data(input1,ans1)\n",
    "x = torch.tensor([x]).to(device)\n",
    "ans = model.predict(x)\n",
    "print(idx2label[ans.item()])"
   ]
  },
  {
   "cell_type": "code",
   "execution_count": null,
   "id": "7087f13a",
   "metadata": {},
   "outputs": [],
   "source": []
  }
 ],
 "metadata": {
  "kernelspec": {
   "display_name": "Python 3 (ipykernel)",
   "language": "python",
   "name": "python3"
  },
  "language_info": {
   "codemirror_mode": {
    "name": "ipython",
    "version": 3
   },
   "file_extension": ".py",
   "mimetype": "text/x-python",
   "name": "python",
   "nbconvert_exporter": "python",
   "pygments_lexer": "ipython3",
   "version": "3.9.7"
  }
 },
 "nbformat": 4,
 "nbformat_minor": 5
}
