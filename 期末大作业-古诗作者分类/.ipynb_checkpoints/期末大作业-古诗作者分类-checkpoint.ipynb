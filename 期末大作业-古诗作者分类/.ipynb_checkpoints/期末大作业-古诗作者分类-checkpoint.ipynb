{
 "cells": [
  {
   "cell_type": "markdown",
   "id": "fc59bb75-c8e8-4784-b8a3-21eb1c6aa1ca",
   "metadata": {},
   "source": [
    "# RNN序列编码-分类期末大作业\n",
    "\n",
    "本次大作业要求手动实现双向LSTM+基于attention的聚合模型，并用于古诗作者预测的序列分类任务。**请先阅读ppt中的作业说明。**"
   ]
  },
  {
   "cell_type": "code",
   "execution_count": 1,
   "id": "9638967f-db5b-425e-9c5b-167b2d871165",
   "metadata": {},
   "outputs": [
    {
     "data": {
      "text/plain": [
       "<torch._C.Generator at 0x2065ffd3350>"
      ]
     },
     "execution_count": 1,
     "metadata": {},
     "output_type": "execute_result"
    }
   ],
   "source": [
    "import torch\n",
    "import torch.nn as nn\n",
    "import torch.nn.functional as F\n",
    "\n",
    "import random\n",
    "import numpy as np\n",
    "\n",
    "from tqdm import tqdm\n",
    "\n",
    "device = torch.device(\"cuda\")\n",
    "\n",
    "random.seed(1)\n",
    "np.random.seed(1)\n",
    "torch.manual_seed(1)"
   ]
  },
  {
   "cell_type": "markdown",
   "id": "58e0fee5-d222-4d07-8d6c-a5a1a97ac1b2",
   "metadata": {},
   "source": [
    "## 1. 加载数据"
   ]
  },
  {
   "cell_type": "markdown",
   "id": "207c3e8f-d806-4137-997b-1b3018839f4a",
   "metadata": {},
   "source": [
    "数据位于`data`文件夹中，每一行对应一个样例，格式为“诗句 作者”。下面的代码将数据文件读取到`train_data`, `valid_data`和`test_data`中，并根据训练集中的数据构造词表`word2idx`/`idx2word`和标签集合`label2idx`/`idx2label`。"
   ]
  },
  {
   "cell_type": "code",
   "execution_count": 2,
   "id": "408f1a0a-afb3-4c8c-968e-2a037bc6c6ff",
   "metadata": {},
   "outputs": [],
   "source": [
    "word2idx = {\"<unk>\": 0}\n",
    "label2idx = {}\n",
    "idx2word = [\"<unk>\"]\n",
    "idx2label = []\n",
    "\n",
    "train_data = []\n",
    "with open(\"data/train.txt\",encoding='UTF-8') as f:\n",
    "    for line in f:\n",
    "        text, author = line.strip().split()\n",
    "        for c in text:\n",
    "            if c not in word2idx:\n",
    "                word2idx[c] = len(idx2word)\n",
    "                idx2word.append(c)\n",
    "        if author not in label2idx:\n",
    "            label2idx[author] = len(idx2label)\n",
    "            idx2label.append(author)\n",
    "        train_data.append((text, author))\n",
    "\n",
    "valid_data = []\n",
    "with open(\"data/valid.txt\", encoding='UTF-8') as f:\n",
    "    for line in f:\n",
    "        text, author = line.strip().split()\n",
    "        valid_data.append((text, author))\n",
    "\n",
    "test_data = []\n",
    "with open(\"data/test.txt\", encoding='UTF-8') as f:\n",
    "    for line in f:\n",
    "        text, author = line.strip().split()\n",
    "        test_data.append((text, author))"
   ]
  },
  {
   "cell_type": "code",
   "execution_count": 13,
   "id": "b1977f00-e7ad-43e8-8a5a-689fdb515c1f",
   "metadata": {},
   "outputs": [
    {
     "name": "stdout",
     "output_type": "stream",
     "text": [
      "4941 4941 5 5\n",
      "11271 1408 1410\n",
      "['李商隱', '李白', '杜甫', '劉禹錫', '杜牧']\n"
     ]
    }
   ],
   "source": [
    "print(len(word2idx), len(idx2word), len(label2idx), len(idx2label))\n",
    "print(len(train_data), len(valid_data), len(test_data))\n"
   ]
  },
  {
   "cell_type": "markdown",
   "id": "8a0a1eb4-e262-4bf8-9fd4-4ab52eebf476",
   "metadata": {},
   "source": [
    "**请完成下面的函数，其功能为给定一句古诗和一个作者，构造RNN的输入。** 这里需要用到上面构造的词表和标签集合，对于不在词表中的字用\\<unk\\>代替。"
   ]
  },
  {
   "cell_type": "code",
   "execution_count": 27,
   "id": "68e13c2f-064b-42a0-8f00-d39da3fff1a2",
   "metadata": {},
   "outputs": [],
   "source": [
    "\n",
    "def make_data(text, author):\n",
    "    \"\"\"\n",
    "    输入\n",
    "        text: str\n",
    "        author: str\n",
    "    输出\n",
    "        x: LongTensor, shape = (1, text_length)\n",
    "        y: LongTensor, shape = (1,)\n",
    "    \"\"\"\n",
    "    x = [word2idx.get(word,0) for word in text]\n",
    "    y = label2idx[author]\n",
    "    return x, y"
   ]
  },
  {
   "cell_type": "code",
   "execution_count": 28,
   "id": "77502acb",
   "metadata": {},
   "outputs": [
    {
     "data": {
      "text/plain": [
       "(1, 2)"
      ]
     },
     "execution_count": 28,
     "metadata": {},
     "output_type": "execute_result"
    }
   ],
   "source": [
    "def A():\n",
    "    return 1,2\n",
    "(A())"
   ]
  },
  {
   "cell_type": "code",
   "execution_count": 30,
   "id": "d7135e5c",
   "metadata": {},
   "outputs": [],
   "source": [
    "def collate(data_list):\n",
    "    src = [torch.tensor(_[0]) for _ in data_list]\n",
    "    tgt = [torch.tensor(_[1]) for _ in data_list]\n",
    "    return src,tgt\n",
    "batch_size = 1\n",
    "trainloader = torch.utils.data.DataLoader([\n",
    "    (make_data(text,author)) for (text, author) in train_data\n",
    "], batch_size=batch_size, shuffle=True, collate_fn=collate)\n",
    "validloader = torch.utils.data.DataLoader([\n",
    "    (make_data(text,author)) for (text, author) in valid_data\n",
    "], batch_size=batch_size, shuffle=True, collate_fn=collate)\n",
    "testloader = torch.utils.data.DataLoader([\n",
    "    (make_data(text,author)) for (text, author) in test_data\n",
    "], batch_size=batch_size, shuffle=True, collate_fn=collate)"
   ]
  },
  {
   "cell_type": "markdown",
   "id": "30b2ee07-19c9-4568-aaff-019fe46a4bd3",
   "metadata": {},
   "source": [
    "## 2. LSTM算子（单个时间片作为输入）"
   ]
  },
  {
   "cell_type": "code",
   "execution_count": 31,
   "id": "596a5c0b-9d6d-4166-ae52-a68f7490ca43",
   "metadata": {},
   "outputs": [],
   "source": [
    "class LSTM(nn.Module):\n",
    "    def __init__(self, input_size, hidden_size):\n",
    "        super(LSTM, self).__init__()\n",
    "        self.f = nn.Linear(input_size + hidden_size, hidden_size)\n",
    "        self.i = nn.Linear(input_size + hidden_size, hidden_size)\n",
    "        self.o = nn.Linear(input_size + hidden_size, hidden_size)\n",
    "        self.g = nn.Linear(input_size + hidden_size, hidden_size)\n",
    "    \n",
    "    def forward(self, ht, ct, xt):\n",
    "        # ht: 1 * hidden_size\n",
    "        # ct: 1 * hidden_size\n",
    "        # xt: 1 * input_size\n",
    "        input_combined = torch.cat((xt, ht), 1)\n",
    "        ft = torch.sigmoid(self.f(input_combined))\n",
    "        it = torch.sigmoid(self.i(input_combined))\n",
    "        ot = torch.sigmoid(self.o(input_combined))\n",
    "        gt = torch.tanh(self.g(input_combined))\n",
    "        ct = ft * ct + it * gt\n",
    "        ht = ot * torch.tanh(ct)\n",
    "        return ht, ct"
   ]
  },
  {
   "cell_type": "markdown",
   "id": "a7cc96e0-1f06-43a7-aeb8-08e837c2eede",
   "metadata": {},
   "source": [
    "## 3. 实现双向LSTM（整个序列作为输入）\n",
    "\n",
    "**要求使用上面提供的LSTM算子，不要调用torch.nn.LSTM**"
   ]
  },
  {
   "cell_type": "code",
   "execution_count": 32,
   "id": "8a27bc3e-5c90-4af2-b842-9eb4d5fc0550",
   "metadata": {},
   "outputs": [],
   "source": [
    "class BiLSTM(nn.Module):\n",
    "    def __init__(self, input_size, hidden_size):\n",
    "        super(BiLSTM, self).__init__()\n",
    "        # TODO\n",
    "        \n",
    "        self.register_buffer(\"_float\", torch.zeros(1, hidden_size))\n",
    "        self.lstm_forward = LSTM(input_size,hidden_size)\n",
    "        self.lstm_backward = LSTM(input_size,hidden_size)\n",
    "    \n",
    "    def init_h_and_c(self):\n",
    "        h = torch.zeros_like(self._float)\n",
    "        c = torch.zeros_like(self._float)\n",
    "        return h, c\n",
    "    \n",
    "    def forward(self, x):\n",
    "        h_forward,c_forward = self.init_h_and_c()\n",
    "        h_backward,c_backward = self.init_h_and_c()\n",
    "        fwd = []\n",
    "        bwd = []\n",
    "        \n",
    "        \"\"\"\n",
    "        输入\n",
    "            x: 1 * length * input_size\n",
    "        输出\n",
    "            hiddens\n",
    "        \"\"\"\n",
    "        # 前向\n",
    "        for i in range(x.shape[1]):\n",
    "            h_forward,c_forward = self.lstm_forward(h_forward,c_forward,x[:,i,:])\n",
    "            fwd.append(h_forward)\n",
    "        fwd = torch.stack(fwd,dim = 0).squeeze(1)\n",
    "        #后向\n",
    "        x_reverse = torch.flip(x,dims = [1])\n",
    "        for i in range(x_reverse.shape[1]):\n",
    "            h_backward,c_backward = self.lstm_backward(h_backward,c_backward,x_reverse[:,i,:])\n",
    "            bwd.append(h_backward)\n",
    "        bwd = torch.stack(bwd,dim = 0).squeeze(1)\n",
    "        bwd = torch.flip(bwd,dims = [0])\n",
    "        hiddens = torch.cat((fwd,bwd),-1).unsqueeze(0)\n",
    "        return hiddens"
   ]
  },
  {
   "cell_type": "markdown",
   "id": "f0cc8fca-caff-4a6d-abf1-0ced79692cc2",
   "metadata": {},
   "source": [
    "## 4. 实现基于attention的聚合机制"
   ]
  },
  {
   "cell_type": "code",
   "execution_count": 46,
   "id": "0122d8c3-ba8e-4b02-a9ae-8e06102ddcdd",
   "metadata": {},
   "outputs": [],
   "source": [
    "class Attention(nn.Module):\n",
    "    def __init__(self, hidden_size):\n",
    "        super(Attention, self).__init__()\n",
    "        \n",
    "        # TODO\n",
    "        \n",
    "    \n",
    "    def forward(self, hiddens):\n",
    "        \"\"\"\n",
    "        输入\n",
    "            hiddens: 1 * length * hidden_size\n",
    "        输出\n",
    "            attn_outputs: 1 * hidden_size\n",
    "        \"\"\"\n",
    "        # TODO\n",
    "        weights = F.softmax(hiddens)\n",
    "        attn_outputs = (weights * hiddens).sum(1)\n",
    "        return attn_outputs"
   ]
  },
  {
   "cell_type": "markdown",
   "id": "6b62bbf4-b565-4ec2-aebb-1d5fcbb7e048",
   "metadata": {},
   "source": [
    "## 5. 利用上述模块搭建序列分类模型\n",
    "\n",
    "参考模型结构：Embedding – BiLSTM – Attention – Linear – LogSoftmax"
   ]
  },
  {
   "cell_type": "code",
   "execution_count": 47,
   "id": "e90edb70-7c1d-4839-9f0b-c8e8dbf9a8ee",
   "metadata": {},
   "outputs": [],
   "source": [
    "class EncoderRNN(nn.Module):\n",
    "    def __init__(self, num_vocab, embedding_dim, hidden_size, num_classes):\n",
    "        \"\"\"\n",
    "        参数\n",
    "            num_vocab: 词表大小\n",
    "            embedding_dim: 词向量维数\n",
    "            hidden_size: 隐状态维数\n",
    "            num_classes: 类别数量\n",
    "        \"\"\"\n",
    "        super(EncoderRNN, self).__init__()\n",
    "        self.num_vocab = num_vocab\n",
    "        self.embedding_dim = embedding_dim\n",
    "        self.hidden_size = hidden_size\n",
    "        self.embed = nn.Embedding(num_vocab,embedding_dim)\n",
    "        self.bilstm = BiLSTM(embedding_dim,hidden_size)\n",
    "        self.attn = Attention(hidden_size)\n",
    "        self.h2q = nn.Linear(hidden_size + hidden_size,hidden_size)\n",
    "        self.h2o = nn.Linear(hidden_size,num_classes)\n",
    "        self.softmax = nn.LogSoftmax(dim = -1)\n",
    "        # TODO \n",
    "    \n",
    "    def forward(self, x):\n",
    "        \"\"\"\n",
    "        输入\n",
    "            x: 1 * length, LongTensor\n",
    "        输出\n",
    "            outputs\n",
    "        \"\"\"\n",
    "        # TODO\n",
    "        embedding = self.embed(x)\n",
    "        hidden = self.bilstm(embedding)\n",
    "        hidden = self.h2q(hidden)\n",
    "        #hidden = [self.h2q(h) for h in hidden]\n",
    "        hidden = self.attn(hidden)\n",
    "        outputs = self.h2o(hidden)\n",
    "        outputs = self.softmax(outputs)\n",
    "        return outputs"
   ]
  },
  {
   "cell_type": "markdown",
   "id": "0325df21-7e77-4883-8909-9352e90a37fe",
   "metadata": {},
   "source": [
    "## 6. 请利用上述模型在古诗作者分类任务上进行训练和测试\n",
    "\n",
    "要求选取在验证集上效果最好的模型，输出测试集上的准确率、confusion matrix以及macro-precision/recall/F1，并打印部分测试样例及预测结果。"
   ]
  },
  {
   "cell_type": "code",
   "execution_count": 58,
   "id": "66681f05",
   "metadata": {},
   "outputs": [],
   "source": [
    "def train_loop(model,optimizer,criterion,loader):\n",
    "    model.train()\n",
    "    epoch_loss = 0.0\n",
    "    for src, tgt in tqdm(loader):\n",
    "        B = len(src)\n",
    "        loss = 0.0\n",
    "        for _ in range(B):\n",
    "            _src = src[_].unsqueeze(0).to(device)     # 1 * L\n",
    "            _tgt = tgt[_].unsqueeze(0).to(device)     # 1 * L\n",
    "            outputs = model(_src)     # 1 * L * V\n",
    "            #print(outputs.shape)\n",
    "            #print(_tgt.squeeze(0))\n",
    "            loss += criterion(outputs.squeeze(0), _tgt.squeeze(0))\n",
    "        \n",
    "        loss /= B\n",
    "        optimizer.zero_grad()\n",
    "        loss.backward()\n",
    "        torch.nn.utils.clip_grad_norm_(model.parameters(), 1)     # 裁剪梯度，将梯度范数裁剪为1，使训练更稳定\n",
    "        optimizer.step()\n",
    "        epoch_loss += loss.item()\n",
    "    epoch_loss /= len(loader)\n",
    "    return epoch_loss\n",
    "def test_loop(model, loader, tgt_vocab):\n",
    "    model.eval()\n",
    "    bleu = BLEU(force=True)\n",
    "    hypotheses, references = [], []\n",
    "    for src, tgt in tqdm(loader):\n",
    "        B = len(src)\n",
    "        for _ in range(B):\n",
    "            _src = src[_].unsqueeze(0).to(device)     # 1 * L\n",
    "            with torch.no_grad():\n",
    "                outputs = model.predict(_src)         # 1 * L\n",
    "            \n",
    "            # 保留预测结果，使用词表vocab解码成文本，并删去BOS与EOS\n",
    "            ref = \" \".join(tgt_vocab.decode(tgt[_].tolist(), strip_bos_and_eos=True))\n",
    "            hypo = \" \".join(tgt_vocab.decode(outputs[0].cpu().tolist(), strip_bos_and_eos=True))\n",
    "            references.append(ref)    # 标准答案\n",
    "            hypotheses.append(hypo)   # 预测结果\n",
    "    \n",
    "    score = bleu.corpus_score(hypotheses, [references]).score      # 计算BLEU分数\n",
    "    return hypotheses, references, score"
   ]
  },
  {
   "cell_type": "code",
   "execution_count": 60,
   "id": "56a57606-cbbd-4532-bbac-8cb974fac21d",
   "metadata": {},
   "outputs": [
    {
     "name": "stderr",
     "output_type": "stream",
     "text": [
      "  0%|                                                                                        | 0/11271 [00:00<?, ?it/s]C:\\Users\\92911\\AppData\\Local\\Temp/ipykernel_27536/2967315701.py:16: UserWarning: Implicit dimension choice for softmax has been deprecated. Change the call to include dim=X as an argument.\n",
      "  weights = F.softmax(hiddens)\n",
      "  3%|██▍                                                                           | 356/11271 [00:37<19:04,  9.53it/s]\n"
     ]
    },
    {
     "ename": "KeyboardInterrupt",
     "evalue": "",
     "output_type": "error",
     "traceback": [
      "\u001b[1;31m---------------------------------------------------------------------------\u001b[0m",
      "\u001b[1;31mKeyboardInterrupt\u001b[0m                         Traceback (most recent call last)",
      "\u001b[1;32m~\\AppData\\Local\\Temp/ipykernel_27536/226730840.py\u001b[0m in \u001b[0;36m<module>\u001b[1;34m\u001b[0m\n\u001b[0;32m      6\u001b[0m \u001b[0mbest_score\u001b[0m \u001b[1;33m=\u001b[0m \u001b[1;36m0.0\u001b[0m\u001b[1;33m\u001b[0m\u001b[1;33m\u001b[0m\u001b[0m\n\u001b[0;32m      7\u001b[0m \u001b[1;32mfor\u001b[0m \u001b[0m_\u001b[0m \u001b[1;32min\u001b[0m \u001b[0mrange\u001b[0m\u001b[1;33m(\u001b[0m\u001b[1;36m3\u001b[0m\u001b[1;33m)\u001b[0m\u001b[1;33m:\u001b[0m\u001b[1;33m\u001b[0m\u001b[1;33m\u001b[0m\u001b[0m\n\u001b[1;32m----> 8\u001b[1;33m     \u001b[0mloss\u001b[0m \u001b[1;33m=\u001b[0m \u001b[0mtrain_loop\u001b[0m\u001b[1;33m(\u001b[0m\u001b[0mmodel\u001b[0m\u001b[1;33m,\u001b[0m \u001b[0moptimizer\u001b[0m\u001b[1;33m,\u001b[0m \u001b[0mcriterion\u001b[0m\u001b[1;33m,\u001b[0m \u001b[0mtrainloader\u001b[0m\u001b[1;33m)\u001b[0m\u001b[1;33m\u001b[0m\u001b[1;33m\u001b[0m\u001b[0m\n\u001b[0m\u001b[0;32m      9\u001b[0m     \u001b[0mhypotheses\u001b[0m\u001b[1;33m,\u001b[0m \u001b[0mreferences\u001b[0m\u001b[1;33m,\u001b[0m \u001b[0mbleu_score\u001b[0m \u001b[1;33m=\u001b[0m \u001b[0mtest_loop\u001b[0m\u001b[1;33m(\u001b[0m\u001b[0mmodel\u001b[0m\u001b[1;33m,\u001b[0m \u001b[0mvalidloader\u001b[0m\u001b[1;33m,\u001b[0m \u001b[0men_vocab\u001b[0m\u001b[1;33m)\u001b[0m\u001b[1;33m\u001b[0m\u001b[1;33m\u001b[0m\u001b[0m\n\u001b[0;32m     10\u001b[0m     \u001b[1;31m# 保存验证集上bleu最高的checkpoint\u001b[0m\u001b[1;33m\u001b[0m\u001b[1;33m\u001b[0m\u001b[0m\n",
      "\u001b[1;32m~\\AppData\\Local\\Temp/ipykernel_27536/682883531.py\u001b[0m in \u001b[0;36mtrain_loop\u001b[1;34m(model, optimizer, criterion, loader)\u001b[0m\n\u001b[0;32m     15\u001b[0m         \u001b[0mloss\u001b[0m \u001b[1;33m/=\u001b[0m \u001b[0mB\u001b[0m\u001b[1;33m\u001b[0m\u001b[1;33m\u001b[0m\u001b[0m\n\u001b[0;32m     16\u001b[0m         \u001b[0moptimizer\u001b[0m\u001b[1;33m.\u001b[0m\u001b[0mzero_grad\u001b[0m\u001b[1;33m(\u001b[0m\u001b[1;33m)\u001b[0m\u001b[1;33m\u001b[0m\u001b[1;33m\u001b[0m\u001b[0m\n\u001b[1;32m---> 17\u001b[1;33m         \u001b[0mloss\u001b[0m\u001b[1;33m.\u001b[0m\u001b[0mbackward\u001b[0m\u001b[1;33m(\u001b[0m\u001b[1;33m)\u001b[0m\u001b[1;33m\u001b[0m\u001b[1;33m\u001b[0m\u001b[0m\n\u001b[0m\u001b[0;32m     18\u001b[0m         \u001b[0mtorch\u001b[0m\u001b[1;33m.\u001b[0m\u001b[0mnn\u001b[0m\u001b[1;33m.\u001b[0m\u001b[0mutils\u001b[0m\u001b[1;33m.\u001b[0m\u001b[0mclip_grad_norm_\u001b[0m\u001b[1;33m(\u001b[0m\u001b[0mmodel\u001b[0m\u001b[1;33m.\u001b[0m\u001b[0mparameters\u001b[0m\u001b[1;33m(\u001b[0m\u001b[1;33m)\u001b[0m\u001b[1;33m,\u001b[0m \u001b[1;36m1\u001b[0m\u001b[1;33m)\u001b[0m     \u001b[1;31m# 裁剪梯度，将梯度范数裁剪为1，使训练更稳定\u001b[0m\u001b[1;33m\u001b[0m\u001b[1;33m\u001b[0m\u001b[0m\n\u001b[0;32m     19\u001b[0m         \u001b[0moptimizer\u001b[0m\u001b[1;33m.\u001b[0m\u001b[0mstep\u001b[0m\u001b[1;33m(\u001b[0m\u001b[1;33m)\u001b[0m\u001b[1;33m\u001b[0m\u001b[1;33m\u001b[0m\u001b[0m\n",
      "\u001b[1;32m~\\anaconda3\\lib\\site-packages\\torch\\_tensor.py\u001b[0m in \u001b[0;36mbackward\u001b[1;34m(self, gradient, retain_graph, create_graph, inputs)\u001b[0m\n\u001b[0;32m    361\u001b[0m                 \u001b[0mcreate_graph\u001b[0m\u001b[1;33m=\u001b[0m\u001b[0mcreate_graph\u001b[0m\u001b[1;33m,\u001b[0m\u001b[1;33m\u001b[0m\u001b[1;33m\u001b[0m\u001b[0m\n\u001b[0;32m    362\u001b[0m                 inputs=inputs)\n\u001b[1;32m--> 363\u001b[1;33m         \u001b[0mtorch\u001b[0m\u001b[1;33m.\u001b[0m\u001b[0mautograd\u001b[0m\u001b[1;33m.\u001b[0m\u001b[0mbackward\u001b[0m\u001b[1;33m(\u001b[0m\u001b[0mself\u001b[0m\u001b[1;33m,\u001b[0m \u001b[0mgradient\u001b[0m\u001b[1;33m,\u001b[0m \u001b[0mretain_graph\u001b[0m\u001b[1;33m,\u001b[0m \u001b[0mcreate_graph\u001b[0m\u001b[1;33m,\u001b[0m \u001b[0minputs\u001b[0m\u001b[1;33m=\u001b[0m\u001b[0minputs\u001b[0m\u001b[1;33m)\u001b[0m\u001b[1;33m\u001b[0m\u001b[1;33m\u001b[0m\u001b[0m\n\u001b[0m\u001b[0;32m    364\u001b[0m \u001b[1;33m\u001b[0m\u001b[0m\n\u001b[0;32m    365\u001b[0m     \u001b[1;32mdef\u001b[0m \u001b[0mregister_hook\u001b[0m\u001b[1;33m(\u001b[0m\u001b[0mself\u001b[0m\u001b[1;33m,\u001b[0m \u001b[0mhook\u001b[0m\u001b[1;33m)\u001b[0m\u001b[1;33m:\u001b[0m\u001b[1;33m\u001b[0m\u001b[1;33m\u001b[0m\u001b[0m\n",
      "\u001b[1;32m~\\anaconda3\\lib\\site-packages\\torch\\autograd\\__init__.py\u001b[0m in \u001b[0;36mbackward\u001b[1;34m(tensors, grad_tensors, retain_graph, create_graph, grad_variables, inputs)\u001b[0m\n\u001b[0;32m    171\u001b[0m     \u001b[1;31m# some Python versions print out the first line of a multi-line function\u001b[0m\u001b[1;33m\u001b[0m\u001b[1;33m\u001b[0m\u001b[0m\n\u001b[0;32m    172\u001b[0m     \u001b[1;31m# calls in the traceback and some print out the last line\u001b[0m\u001b[1;33m\u001b[0m\u001b[1;33m\u001b[0m\u001b[0m\n\u001b[1;32m--> 173\u001b[1;33m     Variable._execution_engine.run_backward(  # Calls into the C++ engine to run the backward pass\n\u001b[0m\u001b[0;32m    174\u001b[0m         \u001b[0mtensors\u001b[0m\u001b[1;33m,\u001b[0m \u001b[0mgrad_tensors_\u001b[0m\u001b[1;33m,\u001b[0m \u001b[0mretain_graph\u001b[0m\u001b[1;33m,\u001b[0m \u001b[0mcreate_graph\u001b[0m\u001b[1;33m,\u001b[0m \u001b[0minputs\u001b[0m\u001b[1;33m,\u001b[0m\u001b[1;33m\u001b[0m\u001b[1;33m\u001b[0m\u001b[0m\n\u001b[0;32m    175\u001b[0m         allow_unreachable=True, accumulate_grad=True)  # Calls into the C++ engine to run the backward pass\n",
      "\u001b[1;31mKeyboardInterrupt\u001b[0m: "
     ]
    }
   ],
   "source": [
    "model = EncoderRNN(len(word2idx),128,128,len(idx2label))\n",
    "device = torch.device(\"cuda\")\n",
    "model.to(device)\n",
    "optimizer = torch.optim.SGD(model.parameters(),lr = 1)\n",
    "criterion = nn.NLLLoss()\n",
    "best_score = 0.0\n",
    "for _ in range(3):\n",
    "    loss = train_loop(model, optimizer, criterion, trainloader)\n",
    "    hypotheses, references, bleu_score = test_loop(model, validloader, en_vocab)\n",
    "    # 保存验证集上bleu最高的checkpoint\n",
    "    if bleu_score > best_score:\n",
    "        torch.save(model.state_dict(), \"model_best.pt\")\n",
    "        best_score = bleu_score\n",
    "    print(f\"Epoch {_}: loss = {loss}, valid bleu = {bleu_score}\")\n",
    "    print(references[0])\n",
    "    print(hypotheses[0])"
   ]
  },
  {
   "cell_type": "code",
   "execution_count": 59,
   "id": "e46af559",
   "metadata": {},
   "outputs": [
    {
     "ename": "FileNotFoundError",
     "evalue": "[Errno 2] No such file or directory: 'model_best.pt'",
     "output_type": "error",
     "traceback": [
      "\u001b[1;31m---------------------------------------------------------------------------\u001b[0m",
      "\u001b[1;31mFileNotFoundError\u001b[0m                         Traceback (most recent call last)",
      "\u001b[1;32m~\\AppData\\Local\\Temp/ipykernel_27536/2794622055.py\u001b[0m in \u001b[0;36m<module>\u001b[1;34m\u001b[0m\n\u001b[1;32m----> 1\u001b[1;33m \u001b[0mmodel\u001b[0m\u001b[1;33m.\u001b[0m\u001b[0mload_state_dict\u001b[0m\u001b[1;33m(\u001b[0m\u001b[0mtorch\u001b[0m\u001b[1;33m.\u001b[0m\u001b[0mload\u001b[0m\u001b[1;33m(\u001b[0m\u001b[1;34m\"model_best.pt\"\u001b[0m\u001b[1;33m)\u001b[0m\u001b[1;33m)\u001b[0m\u001b[1;33m\u001b[0m\u001b[1;33m\u001b[0m\u001b[0m\n\u001b[0m\u001b[0;32m      2\u001b[0m \u001b[0mhypotheses\u001b[0m\u001b[1;33m,\u001b[0m \u001b[0mreferences\u001b[0m\u001b[1;33m,\u001b[0m \u001b[0mbleu_score\u001b[0m \u001b[1;33m=\u001b[0m \u001b[0mtest_loop\u001b[0m\u001b[1;33m(\u001b[0m\u001b[0mmodel\u001b[0m\u001b[1;33m,\u001b[0m \u001b[0mtestloader\u001b[0m\u001b[1;33m,\u001b[0m \u001b[0men_vocab\u001b[0m\u001b[1;33m)\u001b[0m\u001b[1;33m\u001b[0m\u001b[1;33m\u001b[0m\u001b[0m\n\u001b[0;32m      3\u001b[0m \u001b[0mprint\u001b[0m\u001b[1;33m(\u001b[0m\u001b[1;34mf\"Test bleu = {bleu_score}\"\u001b[0m\u001b[1;33m)\u001b[0m\u001b[1;33m\u001b[0m\u001b[1;33m\u001b[0m\u001b[0m\n\u001b[0;32m      4\u001b[0m \u001b[0mprint\u001b[0m\u001b[1;33m(\u001b[0m\u001b[0mreferences\u001b[0m\u001b[1;33m[\u001b[0m\u001b[1;36m0\u001b[0m\u001b[1;33m]\u001b[0m\u001b[1;33m)\u001b[0m\u001b[1;33m\u001b[0m\u001b[1;33m\u001b[0m\u001b[0m\n\u001b[0;32m      5\u001b[0m \u001b[0mprint\u001b[0m\u001b[1;33m(\u001b[0m\u001b[0mhypotheses\u001b[0m\u001b[1;33m[\u001b[0m\u001b[1;36m0\u001b[0m\u001b[1;33m]\u001b[0m\u001b[1;33m)\u001b[0m\u001b[1;33m\u001b[0m\u001b[1;33m\u001b[0m\u001b[0m\n",
      "\u001b[1;32m~\\anaconda3\\lib\\site-packages\\torch\\serialization.py\u001b[0m in \u001b[0;36mload\u001b[1;34m(f, map_location, pickle_module, **pickle_load_args)\u001b[0m\n\u001b[0;32m    697\u001b[0m         \u001b[0mpickle_load_args\u001b[0m\u001b[1;33m[\u001b[0m\u001b[1;34m'encoding'\u001b[0m\u001b[1;33m]\u001b[0m \u001b[1;33m=\u001b[0m \u001b[1;34m'utf-8'\u001b[0m\u001b[1;33m\u001b[0m\u001b[1;33m\u001b[0m\u001b[0m\n\u001b[0;32m    698\u001b[0m \u001b[1;33m\u001b[0m\u001b[0m\n\u001b[1;32m--> 699\u001b[1;33m     \u001b[1;32mwith\u001b[0m \u001b[0m_open_file_like\u001b[0m\u001b[1;33m(\u001b[0m\u001b[0mf\u001b[0m\u001b[1;33m,\u001b[0m \u001b[1;34m'rb'\u001b[0m\u001b[1;33m)\u001b[0m \u001b[1;32mas\u001b[0m \u001b[0mopened_file\u001b[0m\u001b[1;33m:\u001b[0m\u001b[1;33m\u001b[0m\u001b[1;33m\u001b[0m\u001b[0m\n\u001b[0m\u001b[0;32m    700\u001b[0m         \u001b[1;32mif\u001b[0m \u001b[0m_is_zipfile\u001b[0m\u001b[1;33m(\u001b[0m\u001b[0mopened_file\u001b[0m\u001b[1;33m)\u001b[0m\u001b[1;33m:\u001b[0m\u001b[1;33m\u001b[0m\u001b[1;33m\u001b[0m\u001b[0m\n\u001b[0;32m    701\u001b[0m             \u001b[1;31m# The zipfile reader is going to advance the current file position.\u001b[0m\u001b[1;33m\u001b[0m\u001b[1;33m\u001b[0m\u001b[0m\n",
      "\u001b[1;32m~\\anaconda3\\lib\\site-packages\\torch\\serialization.py\u001b[0m in \u001b[0;36m_open_file_like\u001b[1;34m(name_or_buffer, mode)\u001b[0m\n\u001b[0;32m    229\u001b[0m \u001b[1;32mdef\u001b[0m \u001b[0m_open_file_like\u001b[0m\u001b[1;33m(\u001b[0m\u001b[0mname_or_buffer\u001b[0m\u001b[1;33m,\u001b[0m \u001b[0mmode\u001b[0m\u001b[1;33m)\u001b[0m\u001b[1;33m:\u001b[0m\u001b[1;33m\u001b[0m\u001b[1;33m\u001b[0m\u001b[0m\n\u001b[0;32m    230\u001b[0m     \u001b[1;32mif\u001b[0m \u001b[0m_is_path\u001b[0m\u001b[1;33m(\u001b[0m\u001b[0mname_or_buffer\u001b[0m\u001b[1;33m)\u001b[0m\u001b[1;33m:\u001b[0m\u001b[1;33m\u001b[0m\u001b[1;33m\u001b[0m\u001b[0m\n\u001b[1;32m--> 231\u001b[1;33m         \u001b[1;32mreturn\u001b[0m \u001b[0m_open_file\u001b[0m\u001b[1;33m(\u001b[0m\u001b[0mname_or_buffer\u001b[0m\u001b[1;33m,\u001b[0m \u001b[0mmode\u001b[0m\u001b[1;33m)\u001b[0m\u001b[1;33m\u001b[0m\u001b[1;33m\u001b[0m\u001b[0m\n\u001b[0m\u001b[0;32m    232\u001b[0m     \u001b[1;32melse\u001b[0m\u001b[1;33m:\u001b[0m\u001b[1;33m\u001b[0m\u001b[1;33m\u001b[0m\u001b[0m\n\u001b[0;32m    233\u001b[0m         \u001b[1;32mif\u001b[0m \u001b[1;34m'w'\u001b[0m \u001b[1;32min\u001b[0m \u001b[0mmode\u001b[0m\u001b[1;33m:\u001b[0m\u001b[1;33m\u001b[0m\u001b[1;33m\u001b[0m\u001b[0m\n",
      "\u001b[1;32m~\\anaconda3\\lib\\site-packages\\torch\\serialization.py\u001b[0m in \u001b[0;36m__init__\u001b[1;34m(self, name, mode)\u001b[0m\n\u001b[0;32m    210\u001b[0m \u001b[1;32mclass\u001b[0m \u001b[0m_open_file\u001b[0m\u001b[1;33m(\u001b[0m\u001b[0m_opener\u001b[0m\u001b[1;33m)\u001b[0m\u001b[1;33m:\u001b[0m\u001b[1;33m\u001b[0m\u001b[1;33m\u001b[0m\u001b[0m\n\u001b[0;32m    211\u001b[0m     \u001b[1;32mdef\u001b[0m \u001b[0m__init__\u001b[0m\u001b[1;33m(\u001b[0m\u001b[0mself\u001b[0m\u001b[1;33m,\u001b[0m \u001b[0mname\u001b[0m\u001b[1;33m,\u001b[0m \u001b[0mmode\u001b[0m\u001b[1;33m)\u001b[0m\u001b[1;33m:\u001b[0m\u001b[1;33m\u001b[0m\u001b[1;33m\u001b[0m\u001b[0m\n\u001b[1;32m--> 212\u001b[1;33m         \u001b[0msuper\u001b[0m\u001b[1;33m(\u001b[0m\u001b[0m_open_file\u001b[0m\u001b[1;33m,\u001b[0m \u001b[0mself\u001b[0m\u001b[1;33m)\u001b[0m\u001b[1;33m.\u001b[0m\u001b[0m__init__\u001b[0m\u001b[1;33m(\u001b[0m\u001b[0mopen\u001b[0m\u001b[1;33m(\u001b[0m\u001b[0mname\u001b[0m\u001b[1;33m,\u001b[0m \u001b[0mmode\u001b[0m\u001b[1;33m)\u001b[0m\u001b[1;33m)\u001b[0m\u001b[1;33m\u001b[0m\u001b[1;33m\u001b[0m\u001b[0m\n\u001b[0m\u001b[0;32m    213\u001b[0m \u001b[1;33m\u001b[0m\u001b[0m\n\u001b[0;32m    214\u001b[0m     \u001b[1;32mdef\u001b[0m \u001b[0m__exit__\u001b[0m\u001b[1;33m(\u001b[0m\u001b[0mself\u001b[0m\u001b[1;33m,\u001b[0m \u001b[1;33m*\u001b[0m\u001b[0margs\u001b[0m\u001b[1;33m)\u001b[0m\u001b[1;33m:\u001b[0m\u001b[1;33m\u001b[0m\u001b[1;33m\u001b[0m\u001b[0m\n",
      "\u001b[1;31mFileNotFoundError\u001b[0m: [Errno 2] No such file or directory: 'model_best.pt'"
     ]
    }
   ],
   "source": [
    "model.load_state_dict(torch.load(\"model_best.pt\"))\n",
    "hypotheses, references, bleu_score = test_loop(model, testloader, en_vocab)\n",
    "print(f\"Test bleu = {bleu_score}\")\n",
    "print(references[0])\n",
    "print(hypotheses[0])"
   ]
  },
  {
   "cell_type": "code",
   "execution_count": null,
   "id": "18f2c77a",
   "metadata": {},
   "outputs": [],
   "source": []
  }
 ],
 "metadata": {
  "kernelspec": {
   "display_name": "Python 3 (ipykernel)",
   "language": "python",
   "name": "python3"
  },
  "language_info": {
   "codemirror_mode": {
    "name": "ipython",
    "version": 3
   },
   "file_extension": ".py",
   "mimetype": "text/x-python",
   "name": "python",
   "nbconvert_exporter": "python",
   "pygments_lexer": "ipython3",
   "version": "3.9.7"
  }
 },
 "nbformat": 4,
 "nbformat_minor": 5
}
