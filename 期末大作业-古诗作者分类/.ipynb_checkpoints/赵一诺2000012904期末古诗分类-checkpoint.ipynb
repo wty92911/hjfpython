{
 "cells": [
  {
   "cell_type": "markdown",
   "id": "fc59bb75-c8e8-4784-b8a3-21eb1c6aa1ca",
   "metadata": {},
   "source": [
    "# RNN序列编码-分类期末大作业\n",
    "\n",
    "本次大作业要求手动实现双向LSTM+基于attention的聚合模型，并用于古诗作者预测的序列分类任务。**请先阅读ppt中的作业说明。**"
   ]
  },
  {
   "cell_type": "code",
   "execution_count": 1,
   "id": "9638967f-db5b-425e-9c5b-167b2d871165",
   "metadata": {},
   "outputs": [],
   "source": [
    "import torch\n",
    "import torch.nn as nn\n",
    "import torch.nn.functional as F\n",
    "\n",
    "import random\n",
    "import numpy as np\n",
    "\n",
    "from tqdm import tqdm\n",
    "\n",
    "device = torch.device(\"cpu\")\n",
    "\n",
    "random.seed(1)\n",
    "np.random.seed(1)\n",
    "torch.manual_seed(1)\n",
    "\n",
    "from sklearn.metrics import confusion_matrix\n",
    "from sklearn.metrics import f1_score, precision_score, recall_score"
   ]
  },
  {
   "cell_type": "markdown",
   "id": "58e0fee5-d222-4d07-8d6c-a5a1a97ac1b2",
   "metadata": {},
   "source": [
    "## 1. 加载数据"
   ]
  },
  {
   "cell_type": "markdown",
   "id": "207c3e8f-d806-4137-997b-1b3018839f4a",
   "metadata": {},
   "source": [
    "数据位于`data`文件夹中，每一行对应一个样例，格式为“诗句 作者”。下面的代码将数据文件读取到`train_data`, `valid_data`和`test_data`中，并根据训练集中的数据构造词表`word2idx`/`idx2word`和标签集合`label2idx`/`idx2label`。"
   ]
  },
  {
   "cell_type": "code",
   "execution_count": 2,
   "id": "408f1a0a-afb3-4c8c-968e-2a037bc6c6ff",
   "metadata": {},
   "outputs": [],
   "source": [
    "word2idx = {\"<unk>\": 0}\n",
    "label2idx = {}\n",
    "idx2word = [\"<unk>\"]\n",
    "idx2label = []\n",
    "\n",
    "train_data = []\n",
    "with open(\"data/train.txt\",encoding='UTF-8') as f:\n",
    "    for line in f:\n",
    "        text, author = line.strip().split()\n",
    "        for c in text:\n",
    "            if c not in word2idx:\n",
    "                word2idx[c] = len(idx2word)\n",
    "                idx2word.append(c)\n",
    "        if author not in label2idx:\n",
    "            label2idx[author] = len(idx2label)\n",
    "            idx2label.append(author)\n",
    "        train_data.append((text, author))\n",
    "\n",
    "valid_data = []\n",
    "with open(\"data/valid.txt\",encoding='UTF-8') as f:\n",
    "    for line in f:\n",
    "        text, author = line.strip().split()\n",
    "        valid_data.append((text, author))\n",
    "\n",
    "test_data = []\n",
    "with open(\"data/test.txt\",encoding='UTF-8') as f:\n",
    "    for line in f:\n",
    "        text, author = line.strip().split()\n",
    "        test_data.append((text, author))"
   ]
  },
  {
   "cell_type": "code",
   "execution_count": 3,
   "id": "b1977f00-e7ad-43e8-8a5a-689fdb515c1f",
   "metadata": {},
   "outputs": [
    {
     "name": "stdout",
     "output_type": "stream",
     "text": [
      "4941 4941 5 5\n",
      "11271 1408 1410\n"
     ]
    }
   ],
   "source": [
    "print(len(word2idx), len(idx2word), len(label2idx), len(idx2label))\n",
    "print(len(train_data), len(valid_data), len(test_data))"
   ]
  },
  {
   "cell_type": "markdown",
   "id": "8a0a1eb4-e262-4bf8-9fd4-4ab52eebf476",
   "metadata": {},
   "source": [
    "**请完成下面的函数，其功能为给定一句古诗和一个作者，构造RNN的输入。** 这里需要用到上面构造的词表和标签集合，对于不在词表中的字用\\<unk\\>代替。"
   ]
  },
  {
   "cell_type": "code",
   "execution_count": 4,
   "id": "68e13c2f-064b-42a0-8f00-d39da3fff1a2",
   "metadata": {},
   "outputs": [],
   "source": [
    "def make_data(text, author):\n",
    "    x = [word2idx.get(word,0) for word in text]\n",
    "    y = label2idx[author]\n",
    "    return x, y"
   ]
  },
  {
   "cell_type": "markdown",
   "id": "30b2ee07-19c9-4568-aaff-019fe46a4bd3",
   "metadata": {},
   "source": [
    "## 2. LSTM算子（单个时间片作为输入）"
   ]
  },
  {
   "cell_type": "code",
   "execution_count": 5,
   "id": "596a5c0b-9d6d-4166-ae52-a68f7490ca43",
   "metadata": {},
   "outputs": [],
   "source": [
    "class LSTM(nn.Module):\n",
    "    def __init__(self, input_size, hidden_size):\n",
    "        super(LSTM, self).__init__()\n",
    "        self.f = nn.Linear(input_size + hidden_size, hidden_size)\n",
    "        self.i = nn.Linear(input_size + hidden_size, hidden_size)\n",
    "        self.o = nn.Linear(input_size + hidden_size, hidden_size)\n",
    "        self.g = nn.Linear(input_size + hidden_size, hidden_size)\n",
    "    \n",
    "    def forward(self, ht, ct, xt):\n",
    "        # ht: 1 * hidden_size\n",
    "        # ct: 1 * hidden_size\n",
    "        # xt: 1 * input_size\n",
    "        input_combined = torch.cat((xt, ht), 1)\n",
    "        ft = torch.sigmoid(self.f(input_combined))\n",
    "        it = torch.sigmoid(self.i(input_combined))\n",
    "        ot = torch.sigmoid(self.o(input_combined))\n",
    "        gt = torch.tanh(self.g(input_combined))\n",
    "        ct = ft * ct + it * gt\n",
    "        ht = ot * torch.tanh(ct)\n",
    "        return ht, ct"
   ]
  },
  {
   "cell_type": "markdown",
   "id": "a7cc96e0-1f06-43a7-aeb8-08e837c2eede",
   "metadata": {},
   "source": [
    "## 3. 实现双向LSTM（整个序列作为输入）\n",
    "\n",
    "**要求使用上面提供的LSTM算子，不要调用torch.nn.LSTM**"
   ]
  },
  {
   "cell_type": "code",
   "execution_count": 6,
   "id": "8a27bc3e-5c90-4af2-b842-9eb4d5fc0550",
   "metadata": {},
   "outputs": [],
   "source": [
    "class BiLSTM(nn.Module):\n",
    "    def __init__(self, input_size, hidden_size):\n",
    "        super(BiLSTM, self).__init__()\n",
    "        #初始化两个LSTM\n",
    "        self._forward = LSTM(input_size,hidden_size)\n",
    "        self._backward = LSTM(input_size,hidden_size)\n",
    "        self.register_buffer(\"_float\", torch.zeros(1, hidden_size))\n",
    "    \n",
    "    def init_h_and_c(self):\n",
    "        h = torch.zeros_like(self._float)\n",
    "        c = torch.zeros_like(self._float)\n",
    "        return h, c\n",
    "    \n",
    "    def forward(self, x):\n",
    "        \"\"\"\n",
    "        输入\n",
    "            x: 1 * length * input_size\n",
    "        输出\n",
    "            hiddens\n",
    "        \"\"\"\n",
    "        h_forward,c_forward = self.init_h_and_c()\n",
    "        h_backward,c_backward = self.init_h_and_c()\n",
    "        _forward = []\n",
    "        _backward = []\n",
    "        # 前向\n",
    "        for i in range(x.shape[1]):\n",
    "            h_forward,c_forward = self._forward(h_forward,c_forward,x[:,i,:])\n",
    "            _forward.append(h_forward)\n",
    "        _forward = torch.stack(_forward,dim = 0).squeeze(1)\n",
    "        #后向，逆序计算一遍后翻转\n",
    "        for i in range(x.shape[1] - 1,-1,-1):\n",
    "            h_backward,c_backward = self._backward(h_backward,c_backward,x[:,i,:])\n",
    "            _backward.append(h_backward)\n",
    "        _backward = torch.stack(_backward,dim = 0).squeeze(1)\n",
    "        _backward = torch.flip(_backward,dims = [0])\n",
    "        hiddens = torch.cat((_forward,_backward),-1).unsqueeze(0)\n",
    "        return hiddens"
   ]
  },
  {
   "cell_type": "markdown",
   "id": "f0cc8fca-caff-4a6d-abf1-0ced79692cc2",
   "metadata": {},
   "source": [
    "## 4. 实现基于attention的聚合机制"
   ]
  },
  {
   "cell_type": "code",
   "execution_count": 7,
   "id": "0122d8c3-ba8e-4b02-a9ae-8e06102ddcdd",
   "metadata": {},
   "outputs": [],
   "source": [
    "class Attention(nn.Module):\n",
    "    def __init__(self, hidden_size):\n",
    "        super(Attention, self).__init__()\n",
    "    \n",
    "    def forward(self, hiddens):\n",
    "        weights = F.softmax(hiddens,dim = 1)\n",
    "        attn_outputs = (weights * hiddens).sum(1)\n",
    "        return attn_outputs"
   ]
  },
  {
   "cell_type": "markdown",
   "id": "6b62bbf4-b565-4ec2-aebb-1d5fcbb7e048",
   "metadata": {},
   "source": [
    "## 5. 利用上述模块搭建序列分类模型\n",
    "\n",
    "参考模型结构：Embedding – BiLSTM – Attention – Linear – LogSoftmax"
   ]
  },
  {
   "cell_type": "code",
   "execution_count": 8,
   "id": "e90edb70-7c1d-4839-9f0b-c8e8dbf9a8ee",
   "metadata": {},
   "outputs": [],
   "source": [
    "class EncoderRNN(nn.Module):\n",
    "    def __init__(self, num_vocab, embedding_dim, hidden_size, num_classes):\n",
    "        \"\"\"\n",
    "        参数\n",
    "            num_vocab: 词表大小\n",
    "            embedding_dim: 词向量维数\n",
    "            hidden_size: 隐状态维数\n",
    "            num_classes: 类别数量\n",
    "        \"\"\"\n",
    "        super(EncoderRNN, self).__init__()\n",
    "        self.num_vocab = num_vocab\n",
    "        self.embedding_dim = embedding_dim\n",
    "        self.hidden_size = hidden_size       \n",
    "        self.embed = nn.Embedding(num_vocab, embedding_dim)\n",
    "        self.bi_lstm = BiLSTM(embedding_dim,hidden_size)\n",
    "        self.attn = Attention(hidden_size)\n",
    "        self.h2q = nn.Linear(hidden_size * 2,hidden_size)\n",
    "        self.h2o = nn.Linear(hidden_size,num_classes)\n",
    "        self.softmax = nn.LogSoftmax(dim = -1)\n",
    "        \n",
    "    def forward(self, x):\n",
    "        \"\"\"\n",
    "        输入\n",
    "            x: 1 * length, LongTensor\n",
    "        输出\n",
    "            outputs\n",
    "        \"\"\"\n",
    "        hidden = self.bi_lstm(self.embed(x))\n",
    "        hidden = self.attn(self.h2q(hidden))\n",
    "        outputs = self.h2o(hidden)\n",
    "        outputs = self.softmax(outputs)\n",
    "        return outputs\n",
    "    \n",
    "    def predict(self, x):\n",
    "        with torch.no_grad():\n",
    "            outputs = self.forward(x)         \n",
    "        _target = outputs.argmax(-1)\n",
    "        return _target"
   ]
  },
  {
   "cell_type": "markdown",
   "id": "0325df21-7e77-4883-8909-9352e90a37fe",
   "metadata": {},
   "source": [
    "## 6. 请利用上述模型在古诗作者分类任务上进行训练和测试\n",
    "\n",
    "要求选取在验证集上效果最好的模型，输出测试集上的准确率、confusion matrix以及macro-precision/recall/F1，并打印部分测试样例及预测结果。"
   ]
  },
  {
   "cell_type": "code",
   "execution_count": 9,
   "id": "56a57606-cbbd-4532-bbac-8cb974fac21d",
   "metadata": {},
   "outputs": [],
   "source": [
    "def collate(data_list):\n",
    "    src = [torch.tensor(_[0]) for _ in data_list]\n",
    "    tgt = [torch.tensor(_[1]) for _ in data_list]\n",
    "    return src, tgt\n",
    "\n",
    "batch_size = 1\n",
    "trainloader = torch.utils.data.DataLoader([\n",
    "    (make_data(text,author)) for (text, author) in train_data\n",
    "], batch_size=batch_size, shuffle=True, collate_fn=collate)\n",
    "validloader = torch.utils.data.DataLoader([\n",
    "    (make_data(text,author)) for (text, author) in valid_data\n",
    "], batch_size=batch_size, shuffle=True, collate_fn=collate)\n",
    "testloader = torch.utils.data.DataLoader([\n",
    "    (make_data(text,author)) for (text, author) in test_data\n",
    "], batch_size=batch_size, shuffle=True, collate_fn=collate)\n",
    "\n",
    "def train_loop(model,optimizer,criterion,loader):\n",
    "    model.train()\n",
    "    epoch_loss = 0.0\n",
    "    for src, tgt in tqdm(loader):\n",
    "        B = len(src)\n",
    "        loss = 0.0\n",
    "        for _ in range(B):\n",
    "            _src = src[_].unsqueeze(0).to(device)\n",
    "            _tgt = tgt[_].unsqueeze(0).to(device)\n",
    "            outputs = model(_src)\n",
    "            #print(outputs.squeeze(0).shape,_tgt.squeeze(0).shape)\n",
    "            loss += criterion(outputs.squeeze(0), _tgt.squeeze(0))\n",
    "        \n",
    "        loss /= B\n",
    "        optimizer.zero_grad()\n",
    "        loss.backward()\n",
    "        torch.nn.utils.clip_grad_norm_(model.parameters(), 1)\n",
    "        optimizer.step()\n",
    "        epoch_loss += loss.item()\n",
    "    epoch_loss /= len(loader)\n",
    "    return epoch_loss\n",
    "\n",
    "def test_loop(model, loader):\n",
    "    model.eval()\n",
    "    success = 0\n",
    "    total = 0\n",
    "    for src, tgt in tqdm(loader):\n",
    "        B = len(src)\n",
    "        for _ in range(B):\n",
    "            total = total + 1\n",
    "            _src = src[_].unsqueeze(0).to(device)\n",
    "            _tgt = tgt[_].unsqueeze(0).to(device)\n",
    "            with torch.no_grad():\n",
    "                outputs = model(_src)\n",
    "            tgt = outputs.argmax(-1)\n",
    "            if torch.equal(_tgt,tgt):\n",
    "                success = success + 1\n",
    "    return success / total\n",
    "\n",
    "model = EncoderRNN(len(word2idx),256,256,len(idx2label))\n",
    "model.to(device)\n",
    "optimizer = torch.optim.SGD(model.parameters(),lr = 1)\n",
    "criterion = nn.NLLLoss()\n",
    "best_score = 0.0"
   ]
  },
  {
   "cell_type": "code",
   "execution_count": 10,
   "id": "115ef261",
   "metadata": {
    "scrolled": true
   },
   "outputs": [
    {
     "name": "stderr",
     "output_type": "stream",
     "text": [
      "100%|████████████████████████████████████████████████████████████████████████████| 11271/11271 [07:47<00:00, 24.09it/s]\n",
      "100%|█████████████████████████████████████████████████████████████████████████████| 1408/1408 [00:10<00:00, 134.11it/s]\n"
     ]
    },
    {
     "name": "stdout",
     "output_type": "stream",
     "text": [
      "Epoch 0: loss = 2.068791432652639, valid score = 0.5284090909090909\n"
     ]
    },
    {
     "name": "stderr",
     "output_type": "stream",
     "text": [
      "100%|████████████████████████████████████████████████████████████████████████████| 11271/11271 [07:26<00:00, 25.22it/s]\n",
      "100%|█████████████████████████████████████████████████████████████████████████████| 1408/1408 [00:09<00:00, 147.67it/s]\n"
     ]
    },
    {
     "name": "stdout",
     "output_type": "stream",
     "text": [
      "Epoch 1: loss = 1.8527818328109578, valid score = 0.5120738636363636\n"
     ]
    },
    {
     "name": "stderr",
     "output_type": "stream",
     "text": [
      "100%|████████████████████████████████████████████████████████████████████████████| 11271/11271 [07:06<00:00, 26.44it/s]\n",
      "100%|█████████████████████████████████████████████████████████████████████████████| 1408/1408 [00:09<00:00, 146.56it/s]"
     ]
    },
    {
     "name": "stdout",
     "output_type": "stream",
     "text": [
      "Epoch 2: loss = 1.4527843786654944, valid score = 0.5816761363636364\n"
     ]
    },
    {
     "name": "stderr",
     "output_type": "stream",
     "text": [
      "\n"
     ]
    }
   ],
   "source": [
    "model.load_state_dict(torch.load(\"model_best.pt\"))\n",
    "for _ in range(5):\n",
    "    loss = train_loop(model, optimizer, criterion, trainloader)\n",
    "    score = test_loop(model, validloader)    \n",
    "    if score > best_score:\n",
    "        torch.save(model.state_dict(), \"model_best.pt\")\n",
    "        best_score = score\n",
    "    print(f\"Epoch {_}: loss = {loss}, valid score = {score}\")"
   ]
  },
  {
   "cell_type": "code",
   "execution_count": 11,
   "id": "e883eb35",
   "metadata": {},
   "outputs": [
    {
     "name": "stderr",
     "output_type": "stream",
     "text": [
      "100%|█████████████████████████████████████████████████████████████████████████████| 1410/1410 [00:09<00:00, 147.90it/s]"
     ]
    },
    {
     "name": "stdout",
     "output_type": "stream",
     "text": [
      "Test score = 0.5879432624113475\n"
     ]
    },
    {
     "name": "stderr",
     "output_type": "stream",
     "text": [
      "\n"
     ]
    }
   ],
   "source": [
    "model.load_state_dict(torch.load(\"model_best.pt\"))\n",
    "score = test_loop(model, testloader)\n",
    "print(f\"Test score = {score}\")"
   ]
  },
  {
   "cell_type": "code",
   "execution_count": null,
   "id": "167a487f",
   "metadata": {},
   "outputs": [],
   "source": [
    "x,y = make_data(\"煬帝雷塘土，迷藏有舊樓。誰家唱水調，明月滿揚州。\",\"杜牧\")\n",
    "x = torch.tensor([x]).to(device)\n",
    "idx = model.predict(x)\n",
    "print(idx2label[idx.item()])"
   ]
  },
  {
   "cell_type": "code",
   "execution_count": 12,
   "id": "83ecf44b",
   "metadata": {},
   "outputs": [
    {
     "name": "stderr",
     "output_type": "stream",
     "text": [
      "100%|█████████████████████████████████████████████████████████████████████████████| 1410/1410 [00:09<00:00, 146.60it/s]\n"
     ]
    },
    {
     "name": "stdout",
     "output_type": "stream",
     "text": [
      "[[ 29  14  74  36   7]\n",
      " [  4 283  77  30  20]\n",
      " [  4  50 374  32   8]\n",
      " [  5  30  67 117  18]\n",
      " [  7  16  56  26  26]]\n",
      "0.47725694549262865 0.5407380224330782 0.47122286937821\n",
      "杜牧\n"
     ]
    }
   ],
   "source": [
    "y_true = []\n",
    "y_pred = []\n",
    "for src, tgt in tqdm(testloader):\n",
    "    for _ in range(len(src)):\n",
    "        _src = src[_].unsqueeze(0).to(device)\n",
    "        _tgt = tgt[_].unsqueeze(0).to(device)\n",
    "        with torch.no_grad():\n",
    "            outputs = model(_src)\n",
    "        tgt = outputs.argmax(-1)\n",
    "        y_true.append(_tgt)\n",
    "        y_pred.append(tgt)\n",
    "        \n",
    "y_true = [x.cpu().numpy() for x in y_true]\n",
    "y_pred = [x.cpu().numpy() for x in y_pred]\n",
    "\n",
    "f1 = f1_score(y_true,y_pred,average='macro' )\n",
    "p = precision_score(y_true,y_pred,average='macro')\n",
    "r = recall_score(y_true,y_pred,average='macro')\n",
    "\n",
    "print(confusion_matrix(y_true,y_pred))\n",
    "print(f1,p,r)"
   ]
  },
  {
   "cell_type": "code",
   "execution_count": null,
   "id": "69eb7af1",
   "metadata": {},
   "outputs": [],
   "source": []
  }
 ],
 "metadata": {
  "kernelspec": {
   "display_name": "Python 3 (ipykernel)",
   "language": "python",
   "name": "python3"
  },
  "language_info": {
   "codemirror_mode": {
    "name": "ipython",
    "version": 3
   },
   "file_extension": ".py",
   "mimetype": "text/x-python",
   "name": "python",
   "nbconvert_exporter": "python",
   "pygments_lexer": "ipython3",
   "version": "3.9.7"
  }
 },
 "nbformat": 4,
 "nbformat_minor": 5
}
