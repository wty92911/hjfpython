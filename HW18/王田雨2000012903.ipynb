{
 "cells": [
  {
   "cell_type": "markdown",
   "metadata": {
    "collapsed": true,
    "pycharm": {
     "name": "#%% md\n"
    }
   },
   "source": [
    "# 1. 神经网络结构设计与调优\n",
    "在人工构造的MNIST数据集的子集上进行训练/测试，要求：\n",
    "\n",
    "（1）参考课件中给出的代码，实现以下两种不同的网络结构（要求用numpy手动实现前向传播和反向传播等过程）：\n",
    "- 2层前馈网络，激活函数sigmoid或tanh，隐含层维度自定\n",
    "- 3层前馈网络，激活函数relu，隐含层维度自定\n",
    "\n",
    "（2）两个网络在测试集上分类准确率均$\\ge$85%\n",
    "\n",
    "（3）画出训练过程中训练集上loss和训练集上accuracy的变化曲线\n",
    "\n",
    "本次作业可能涉及到的激活函数的定义及其导函数：\n",
    "- $sigmoid(x)=1/(1+e^{-x})$, 导函数$sigmoid(x)(1-sigmoid(x))$\n",
    "- $tanh(x)=(e^x-e^{-x})/(e^x+e^{-x})$，导函数$1-tanh^2(x)$\n",
    "- $relu(x)=max(0,x)$，导函数$f(x)=\\begin{cases}1, x>0 \\\\ 0, x\\le0\\end{cases}$\n",
    "\n",
    "（附加）调优上一步实现的网络：\n",
    "- batch size，iteration\n",
    "- loss function（MSE，交叉熵……）\n",
    "- 优化器的参数（学习率，学习率调整策略，优化器类型……）\n",
    "- 网络权重初始化策略\n",
    "- 数据预处理/增强\n",
    "\n",
    "<font color=ff0000> ⚠️截止日期 5.16 中午 11:59，如果做了附加题调优，请在作业中注释出调优部分。⚠️</font>"
   ]
  },
  {
   "cell_type": "code",
   "execution_count": 117,
   "metadata": {
    "pycharm": {
     "is_executing": false,
     "name": "#%%\n"
    }
   },
   "outputs": [
    {
     "name": "stdout",
     "output_type": "stream",
     "text": [
      "(1000, 784)\n",
      "(1000,)\n",
      "(200, 784)\n",
      "(200,)\n"
     ]
    }
   ],
   "source": [
    "# 读取训练和测试数据\n",
    "# 本次作业为加快训练速度，只取1000个样本作为训练集，200个样本作为测试集\n",
    "# 每个样本原本是28*28的图片，reshape成784维向量输入神经网络\n",
    "# 只取（形状比较相近的）数字8和数字9两个类，做二分类，并将数字8的label重新标为0，数字9的label重新标为1\n",
    "# 两个类的训练样本数不均衡（1:3）\n",
    "# 本部分代码不可修改\n",
    "\n",
    "import numpy as np\n",
    "f = np.load('mnist.npz') \n",
    "x_train, y_train = f['x_train'], f['y_train'] \n",
    "x_test, y_test = f['x_test'], f['y_test'] \n",
    "\n",
    "def get_small_data(x_data, y_data, num1, num2):\n",
    "    cnt1, cnt2, final_x, final_y = 0, 0, [], []\n",
    "    for i in range(x_data.shape[0]):\n",
    "        x = x_data[i, :].reshape(-1).tolist()\n",
    "        y = y_data[i]\n",
    "        if y == 8 and cnt1 < num1:\n",
    "            final_x.append(x)\n",
    "            final_y.append(0)\n",
    "            cnt1 += 1\n",
    "        elif y == 9 and cnt2 < num2:\n",
    "            final_x.append(x)\n",
    "            final_y.append(1)\n",
    "            cnt2 += 1\n",
    "    return np.array(final_x), np.array(final_y)\n",
    "\n",
    "x_train, y_train = get_small_data(x_train, y_train, num1=250, num2=750)\n",
    "x_test, y_test = get_small_data(x_test, y_test, num1=100, num2=100)\n",
    "print(x_train.shape)\n",
    "print(y_train.shape)\n",
    "print(x_test.shape)\n",
    "print(y_test.shape)"
   ]
  },
  {
   "cell_type": "code",
   "execution_count": 118,
   "metadata": {},
   "outputs": [
    {
     "name": "stderr",
     "output_type": "stream",
     "text": [
      "C:\\Users\\92911\\AppData\\Local\\Temp/ipykernel_18364/2582187474.py:2: RuntimeWarning: overflow encountered in exp\n",
      "  z = np.exp(-x)\n"
     ]
    },
    {
     "name": "stdout",
     "output_type": "stream",
     "text": [
      "Epoch: 1,Accuracy: 0.635\n",
      "Epoch: 6,Accuracy: 0.919\n",
      "Epoch: 11,Accuracy: 0.754\n",
      "Epoch: 16,Accuracy: 0.931\n",
      "Epoch: 21,Accuracy: 0.953\n",
      "Epoch: 26,Accuracy: 0.966\n",
      "Epoch: 31,Accuracy: 0.966\n",
      "Epoch: 36,Accuracy: 0.97\n",
      "Epoch: 41,Accuracy: 0.971\n",
      "Epoch: 46,Accuracy: 0.971\n"
     ]
    },
    {
     "data": {
      "image/png": "[encoded data removed]",
      "text/plain": [
       "<Figure size 432x288 with 1 Axes>"
      ]
     },
     "metadata": {
      "needs_background": "light"
     },
     "output_type": "display_data"
    }
   ],
   "source": [
    "def sigmoid(x):\n",
    "    z = np.exp(-x)\n",
    "    sig = 1 / (1 + z)\n",
    "    return sig\n",
    "\n",
    "def forward_pass(x_mat,y,W_1,W_2):\n",
    "    z_2 = np.dot(x_mat,W_1)\n",
    "    a_2 = sigmoid(z_2)\n",
    "    z_3 = np.dot(a_2,W_2)\n",
    "    y_pred = sigmoid(z_3).reshape((len(x_mat),))\n",
    "    \n",
    "    J_z_3_grad = -y + y_pred\n",
    "    J_W_2_grad = np.dot(J_z_3_grad,a_2)\n",
    "\n",
    "    a_2_z_2_grad = sigmoid(z_2) * (1-sigmoid(z_2))\n",
    "    J_W_1_grad = (np.dot((J_z_3_grad).reshape(-1,1),W_2.reshape(-1,1).T) * a_2_z_2_grad).T.dot(x_mat).T\n",
    "    gradient = (J_W_1_grad,J_W_2_grad)\n",
    "    return y_pred, gradient\n",
    "def loss_fn(x,y):\n",
    "    return np.sum([i * i for i in (x - y)]) / len(x)\n",
    "import matplotlib.pyplot as plt\n",
    "def plot_loss_accuracy(loss,acc):\n",
    "    plt.plot(loss,color = 'g',label = 'loss')\n",
    "    plt.plot(acc,color = 'r',label = 'acc')\n",
    "    plt.ylim(0,1)\n",
    "    plt.legend()\n",
    "    plt.show()\n",
    "loss_vals,accuracies = [],[]\n",
    "W_1 = np.random.uniform(-1,1,size = (784,100))\n",
    "W_2 = np.random.uniform(-1,1,size = (100))\n",
    "num_iter = 50\n",
    "learning_rate = 0.001\n",
    "\n",
    "for i in range(num_iter):\n",
    "    y_pred,(J_W_1_grad,J_W_2_grad) = forward_pass(x_train,y_train,W_1,W_2)\n",
    "    W_1 = W_1 - learning_rate * J_W_1_grad\n",
    "    W_2 = W_2 - learning_rate * J_W_2_grad\n",
    "    \n",
    "    curr_loss = loss_fn(y_train,y_pred)\n",
    "    loss_vals.append(curr_loss)\n",
    "    acc = np.sum((y_pred >= .5) == y_train) / len(y_train)\n",
    "    accuracies.append(acc)\n",
    "    if i % 5 == 1:\n",
    "        print('Epoch: {},Accuracy: {}'.format(i,acc))\n",
    "plot_loss_accuracy(loss_vals,accuracies)"
   ]
  },
  {
   "cell_type": "code",
   "execution_count": 119,
   "metadata": {
    "pycharm": {
     "is_executing": false,
     "name": "#%%\n"
    }
   },
   "outputs": [
    {
     "name": "stdout",
     "output_type": "stream",
     "text": [
      "Test accuracy: 0.885\n"
     ]
    },
    {
     "name": "stderr",
     "output_type": "stream",
     "text": [
      "C:\\Users\\92911\\AppData\\Local\\Temp/ipykernel_18364/2582187474.py:2: RuntimeWarning: overflow encountered in exp\n",
      "  z = np.exp(-x)\n"
     ]
    }
   ],
   "source": [
    "y_pred,_ = forward_pass(x_test,y_test,W_1,W_2)\n",
    "acc = np.sum((y_pred >= .5) == y_test) / len(y_test)\n",
    "print('Test accuracy: {}'.format(acc))"
   ]
  },
  {
   "cell_type": "code",
   "execution_count": null,
   "metadata": {},
   "outputs": [],
   "source": []
  },
  {
   "cell_type": "code",
   "execution_count": 134,
   "metadata": {
    "pycharm": {
     "is_executing": false,
     "name": "#%%\n"
    }
   },
   "outputs": [
    {
     "name": "stdout",
     "output_type": "stream",
     "text": [
      "Epoch: 1,Accuracy: 0.25\n",
      "Epoch: 201,Accuracy: 0.996\n",
      "Epoch: 401,Accuracy: 0.998\n",
      "Epoch: 601,Accuracy: 1.0\n",
      "Epoch: 801,Accuracy: 1.0\n",
      "Epoch: 1001,Accuracy: 1.0\n",
      "Epoch: 1201,Accuracy: 1.0\n",
      "Epoch: 1401,Accuracy: 1.0\n",
      "Epoch: 1601,Accuracy: 1.0\n",
      "Epoch: 1801,Accuracy: 1.0\n",
      "Epoch: 2001,Accuracy: 1.0\n",
      "Epoch: 2201,Accuracy: 1.0\n",
      "Epoch: 2401,Accuracy: 1.0\n",
      "Epoch: 2601,Accuracy: 1.0\n",
      "Epoch: 2801,Accuracy: 1.0\n",
      "Epoch: 3001,Accuracy: 1.0\n",
      "Epoch: 3201,Accuracy: 1.0\n",
      "Epoch: 3401,Accuracy: 1.0\n",
      "Epoch: 3601,Accuracy: 1.0\n",
      "Epoch: 3801,Accuracy: 1.0\n",
      "Epoch: 4001,Accuracy: 1.0\n",
      "Epoch: 4201,Accuracy: 1.0\n",
      "Epoch: 4401,Accuracy: 1.0\n",
      "Epoch: 4601,Accuracy: 1.0\n",
      "Epoch: 4801,Accuracy: 1.0\n"
     ]
    },
    {
     "data": {
      "image/png": "[encoded data removed]",
      "text/plain": [
       "<Figure size 432x288 with 1 Axes>"
      ]
     },
     "metadata": {
      "needs_background": "light"
     },
     "output_type": "display_data"
    }
   ],
   "source": [
    "import torch\n",
    "def relu(x):\n",
    "    #return sigmoid(x)\n",
    "    return np.maximum(x, 0)\n",
    "def drelu(x):\n",
    "    #return sigmoid(x) * (1 - sigmoid(x))\n",
    "    x[x > 0] = 1\n",
    "    x[x <= 0] = 0\n",
    "    return x\n",
    "def forward_pass1(x_mat,y,W_1,W_2,W_3):\n",
    "    z_2 = np.dot(x_mat,W_1)\n",
    "   # print(z_2)\n",
    "    a_2 = relu(z_2)\n",
    "    z_3 = np.dot(a_2,W_2)\n",
    "    a_3 = relu(z_3)\n",
    "    z_4 = np.dot(a_3,W_3)\n",
    "    y_pred = relu(z_4).reshape((len(x_mat),))\n",
    "    J_z_4_grad = -y + y_pred\n",
    "    J_W_3_grad = np.dot(J_z_4_grad,a_3)\n",
    "    \n",
    "    a_3_z_3_grad = drelu(z_3)\n",
    "    J_W_2_grad = (np.dot((J_z_4_grad).reshape(-1,1),W_3.reshape(-1,1).T) * a_3_z_3_grad).T.dot(a_2).T\n",
    "    a_2_z_2_grad = drelu(z_2)\n",
    "    J_W_1_grad = ((np.dot((J_z_4_grad).reshape(-1,1),W_3.reshape(-1,1).T) * \n",
    "                  a_3_z_3_grad).dot(W_2.T) * a_2_z_2_grad).T.dot(x_mat).T\n",
    "    \n",
    "    gradient = (J_W_1_grad,J_W_2_grad,J_W_3_grad)\n",
    "    return y_pred, gradient\n",
    "def loss_fn(x,y):\n",
    "    return np.sum([i * i for i in (x - y)]) / len(x)\n",
    "import matplotlib.pyplot as plt\n",
    "def plot_loss_accuracy(loss,acc):\n",
    "    plt.plot(loss,color = 'g',label = 'loss')\n",
    "    plt.plot(acc,color = 'r',label = 'acc')\n",
    "    plt.ylim(0,1)\n",
    "    plt.legend()\n",
    "    plt.show()\n",
    "def normalize(x):\n",
    "    x = x - np.mean(x)\n",
    "    return x\n",
    "\n",
    "loss_vals,accuracies = [],[]\n",
    "#W_1 = torch.empty(784,10)\n",
    "#W_1 = torch.nn.init.kaiming_uniform_(W_1, mode='fan_in', nonlinearity='relu').numpy().reshape(784,10)\n",
    "#W_2 = torch.empty(10,4)\n",
    "#W_2 = torch.nn.init.kaiming_uniform_(W_2, mode='fan_in', nonlinearity='relu').numpy().reshape(10,4)\n",
    "W_1 = np.random.uniform(0,0.001,size = (784,10))\n",
    "W_2 = np.random.uniform(0,0.001,size = (10,4))\n",
    "W_3 = np.random.uniform(0,0.001,size = (4))\n",
    "#W_3 = torch.empty(4,1)\n",
    "#W_3 = torch.nn.init.kaiming_uniform_(W_3, mode='fan_in', nonlinearity='relu').numpy().reshape(4)\n",
    "#尝试过凯明初始化权值调优，效果不明显。\n",
    "epochs = 5000\n",
    "learning_rate = 0.00002\n",
    "batch_size = 100\n",
    "num_iter = int(x_train.shape[0] / batch_size)\n",
    "#batchsize 取100 进行训练 （调优）\n",
    "for epoch in range(epochs):\n",
    "    index = np.arange(len(x_train))\n",
    "    steps = len(x_train) // batch_size\n",
    "    np.random.shuffle(index)\n",
    "    \n",
    "    for i in range(steps):\n",
    "        ind = index[i * batch_size:(i + 1)*batch_size]\n",
    "        _,(J_W_1_grad,J_W_2_grad,J_W_3_grad) = forward_pass1(x_train[ind],y_train[ind],W_1,W_2,W_3)\n",
    "        #print(J_W_3_grad)\n",
    "        W_1 = W_1 - learning_rate * J_W_1_grad\n",
    "        W_2 = W_2 - learning_rate * J_W_2_grad\n",
    "        W_3 = W_3 - learning_rate * J_W_3_grad\n",
    "    y_pred,_ = forward_pass1(x_train,y_train,W_1,W_2,W_3)\n",
    "    curr_loss = loss_fn(y_train,y_pred)\n",
    "    #print(y_pred)\n",
    "    loss_vals.append(curr_loss)\n",
    "    acc = np.sum((y_pred >= .5) == y_train) / len(y_train)\n",
    "    accuracies.append(acc)\n",
    "    if epoch % 200 == 1:\n",
    "        print('Epoch: {},Accuracy: {}'.format(epoch,acc))\n",
    "plot_loss_accuracy(loss_vals,accuracies)\n"
   ]
  },
  {
   "cell_type": "code",
   "execution_count": 135,
   "metadata": {},
   "outputs": [
    {
     "name": "stdout",
     "output_type": "stream",
     "text": [
      "Test accuracy: 0.93\n"
     ]
    }
   ],
   "source": [
    "y_pred,_ = forward_pass1(x_test,y_test,W_1,W_2,W_3)\n",
    "acc = np.sum((y_pred >= .5) == y_test) / len(y_test)\n",
    "print('Test accuracy: {}'.format(acc))"
   ]
  },
  {
   "cell_type": "code",
   "execution_count": null,
   "metadata": {},
   "outputs": [],
   "source": []
  }
 ],
 "metadata": {
  "kernelspec": {
   "display_name": "Python 3 (ipykernel)",
   "language": "python",
   "name": "python3"
  },
  "language_info": {
   "codemirror_mode": {
    "name": "ipython",
    "version": 3
   },
   "file_extension": ".py",
   "mimetype": "text/x-python",
   "name": "python",
   "nbconvert_exporter": "python",
   "pygments_lexer": "ipython3",
   "version": "3.9.7"
  },
  "pycharm": {
   "stem_cell": {
    "cell_type": "raw",
    "metadata": {
     "collapsed": false
    },
    "source": []
   }
  }
 },
 "nbformat": 4,
 "nbformat_minor": 1
}
