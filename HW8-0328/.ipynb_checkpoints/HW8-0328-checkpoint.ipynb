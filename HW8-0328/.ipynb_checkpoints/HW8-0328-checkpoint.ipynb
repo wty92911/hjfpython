{
 "cells": [
  {
   "cell_type": "markdown",
   "id": "0d6775e5",
   "metadata": {},
   "source": [
    "# Homework_2022_03_07\n",
    "\n",
    "<font color=ff0000> 截止日期 3.31（周四） 23:59</font>"
   ]
  },
  {
   "cell_type": "markdown",
   "id": "ce3f1894",
   "metadata": {},
   "source": [
    "### Exercise 1 Pandas基础练习(4')"
   ]
  },
  {
   "cell_type": "code",
   "execution_count": 1,
   "id": "728f5ab8",
   "metadata": {},
   "outputs": [],
   "source": [
    "import pandas as pd\n",
    "import numpy as np\n",
    "from matplotlib import pyplot as plt\n",
    "%matplotlib inline\n",
    "data = {\n",
    "    'age': [24, 53, 23, 24, 33, 42, 57, 57, 36, 29, 53, 39],\n",
    "    'gender': ['M', 'F', 'M', 'M', 'F', 'M', 'M', 'M', 'M', 'M', 'M', 'F'],\n",
    "    'occupation': ['technician', 'other', 'writer', 'technician', 'technician', 'executive', 'administrator', 'administrator', 'administrator', 'student', 'lawyer', 'other'],\n",
    "    'zip_code': ['85711', '94043', '32067', '43537', '15213', '98101', '91344', '91344', '05201', '01002', '90703', '30329']\n",
    "}"
   ]
  },
  {
   "cell_type": "markdown",
   "id": "0a19dea3",
   "metadata": {},
   "source": [
    "1.1 创建一组从1开始递增的id，作为行索引，由data生成一个DataFrame(1')："
   ]
  },
  {
   "cell_type": "code",
   "execution_count": 2,
   "id": "94fdd981",
   "metadata": {},
   "outputs": [
    {
     "data": {
      "text/html": [
       "<div>\n",
       "<style scoped>\n",
       "    .dataframe tbody tr th:only-of-type {\n",
       "        vertical-align: middle;\n",
       "    }\n",
       "\n",
       "    .dataframe tbody tr th {\n",
       "        vertical-align: top;\n",
       "    }\n",
       "\n",
       "    .dataframe thead th {\n",
       "        text-align: right;\n",
       "    }\n",
       "</style>\n",
       "<table border=\"1\" class=\"dataframe\">\n",
       "  <thead>\n",
       "    <tr style=\"text-align: right;\">\n",
       "      <th></th>\n",
       "      <th>age</th>\n",
       "      <th>gender</th>\n",
       "      <th>occupation</th>\n",
       "      <th>zip_code</th>\n",
       "    </tr>\n",
       "  </thead>\n",
       "  <tbody>\n",
       "    <tr>\n",
       "      <th>1</th>\n",
       "      <td>24</td>\n",
       "      <td>M</td>\n",
       "      <td>technician</td>\n",
       "      <td>85711</td>\n",
       "    </tr>\n",
       "    <tr>\n",
       "      <th>2</th>\n",
       "      <td>53</td>\n",
       "      <td>F</td>\n",
       "      <td>other</td>\n",
       "      <td>94043</td>\n",
       "    </tr>\n",
       "    <tr>\n",
       "      <th>3</th>\n",
       "      <td>23</td>\n",
       "      <td>M</td>\n",
       "      <td>writer</td>\n",
       "      <td>32067</td>\n",
       "    </tr>\n",
       "    <tr>\n",
       "      <th>4</th>\n",
       "      <td>24</td>\n",
       "      <td>M</td>\n",
       "      <td>technician</td>\n",
       "      <td>43537</td>\n",
       "    </tr>\n",
       "    <tr>\n",
       "      <th>5</th>\n",
       "      <td>33</td>\n",
       "      <td>F</td>\n",
       "      <td>technician</td>\n",
       "      <td>15213</td>\n",
       "    </tr>\n",
       "    <tr>\n",
       "      <th>6</th>\n",
       "      <td>42</td>\n",
       "      <td>M</td>\n",
       "      <td>executive</td>\n",
       "      <td>98101</td>\n",
       "    </tr>\n",
       "    <tr>\n",
       "      <th>7</th>\n",
       "      <td>57</td>\n",
       "      <td>M</td>\n",
       "      <td>administrator</td>\n",
       "      <td>91344</td>\n",
       "    </tr>\n",
       "    <tr>\n",
       "      <th>8</th>\n",
       "      <td>57</td>\n",
       "      <td>M</td>\n",
       "      <td>administrator</td>\n",
       "      <td>91344</td>\n",
       "    </tr>\n",
       "    <tr>\n",
       "      <th>9</th>\n",
       "      <td>36</td>\n",
       "      <td>M</td>\n",
       "      <td>administrator</td>\n",
       "      <td>05201</td>\n",
       "    </tr>\n",
       "    <tr>\n",
       "      <th>10</th>\n",
       "      <td>29</td>\n",
       "      <td>M</td>\n",
       "      <td>student</td>\n",
       "      <td>01002</td>\n",
       "    </tr>\n",
       "    <tr>\n",
       "      <th>11</th>\n",
       "      <td>53</td>\n",
       "      <td>M</td>\n",
       "      <td>lawyer</td>\n",
       "      <td>90703</td>\n",
       "    </tr>\n",
       "    <tr>\n",
       "      <th>12</th>\n",
       "      <td>39</td>\n",
       "      <td>F</td>\n",
       "      <td>other</td>\n",
       "      <td>30329</td>\n",
       "    </tr>\n",
       "  </tbody>\n",
       "</table>\n",
       "</div>"
      ],
      "text/plain": [
       "    age gender     occupation zip_code\n",
       "1    24      M     technician    85711\n",
       "2    53      F          other    94043\n",
       "3    23      M         writer    32067\n",
       "4    24      M     technician    43537\n",
       "5    33      F     technician    15213\n",
       "6    42      M      executive    98101\n",
       "7    57      M  administrator    91344\n",
       "8    57      M  administrator    91344\n",
       "9    36      M  administrator    05201\n",
       "10   29      M        student    01002\n",
       "11   53      M         lawyer    90703\n",
       "12   39      F          other    30329"
      ]
     },
     "execution_count": 2,
     "metadata": {},
     "output_type": "execute_result"
    }
   ],
   "source": [
    "df = pd.DataFrame(data)\n",
    "df.index += 1\n",
    "df"
   ]
  },
  {
   "cell_type": "markdown",
   "id": "3a7c5fe3",
   "metadata": {},
   "source": [
    "1.2 删除DataFrame中重复的行（保留一行），再删除所有occupation为\"other\"的行(0.5'):"
   ]
  },
  {
   "cell_type": "code",
   "execution_count": 3,
   "id": "061a2578",
   "metadata": {},
   "outputs": [
    {
     "data": {
      "text/html": [
       "<div>\n",
       "<style scoped>\n",
       "    .dataframe tbody tr th:only-of-type {\n",
       "        vertical-align: middle;\n",
       "    }\n",
       "\n",
       "    .dataframe tbody tr th {\n",
       "        vertical-align: top;\n",
       "    }\n",
       "\n",
       "    .dataframe thead th {\n",
       "        text-align: right;\n",
       "    }\n",
       "</style>\n",
       "<table border=\"1\" class=\"dataframe\">\n",
       "  <thead>\n",
       "    <tr style=\"text-align: right;\">\n",
       "      <th></th>\n",
       "      <th>age</th>\n",
       "      <th>gender</th>\n",
       "      <th>occupation</th>\n",
       "      <th>zip_code</th>\n",
       "    </tr>\n",
       "  </thead>\n",
       "  <tbody>\n",
       "    <tr>\n",
       "      <th>1</th>\n",
       "      <td>24</td>\n",
       "      <td>M</td>\n",
       "      <td>technician</td>\n",
       "      <td>85711</td>\n",
       "    </tr>\n",
       "    <tr>\n",
       "      <th>3</th>\n",
       "      <td>23</td>\n",
       "      <td>M</td>\n",
       "      <td>writer</td>\n",
       "      <td>32067</td>\n",
       "    </tr>\n",
       "    <tr>\n",
       "      <th>4</th>\n",
       "      <td>24</td>\n",
       "      <td>M</td>\n",
       "      <td>technician</td>\n",
       "      <td>43537</td>\n",
       "    </tr>\n",
       "    <tr>\n",
       "      <th>5</th>\n",
       "      <td>33</td>\n",
       "      <td>F</td>\n",
       "      <td>technician</td>\n",
       "      <td>15213</td>\n",
       "    </tr>\n",
       "    <tr>\n",
       "      <th>6</th>\n",
       "      <td>42</td>\n",
       "      <td>M</td>\n",
       "      <td>executive</td>\n",
       "      <td>98101</td>\n",
       "    </tr>\n",
       "    <tr>\n",
       "      <th>7</th>\n",
       "      <td>57</td>\n",
       "      <td>M</td>\n",
       "      <td>administrator</td>\n",
       "      <td>91344</td>\n",
       "    </tr>\n",
       "    <tr>\n",
       "      <th>9</th>\n",
       "      <td>36</td>\n",
       "      <td>M</td>\n",
       "      <td>administrator</td>\n",
       "      <td>05201</td>\n",
       "    </tr>\n",
       "    <tr>\n",
       "      <th>10</th>\n",
       "      <td>29</td>\n",
       "      <td>M</td>\n",
       "      <td>student</td>\n",
       "      <td>01002</td>\n",
       "    </tr>\n",
       "    <tr>\n",
       "      <th>11</th>\n",
       "      <td>53</td>\n",
       "      <td>M</td>\n",
       "      <td>lawyer</td>\n",
       "      <td>90703</td>\n",
       "    </tr>\n",
       "  </tbody>\n",
       "</table>\n",
       "</div>"
      ],
      "text/plain": [
       "    age gender     occupation zip_code\n",
       "1    24      M     technician    85711\n",
       "3    23      M         writer    32067\n",
       "4    24      M     technician    43537\n",
       "5    33      F     technician    15213\n",
       "6    42      M      executive    98101\n",
       "7    57      M  administrator    91344\n",
       "9    36      M  administrator    05201\n",
       "10   29      M        student    01002\n",
       "11   53      M         lawyer    90703"
      ]
     },
     "execution_count": 3,
     "metadata": {},
     "output_type": "execute_result"
    }
   ],
   "source": [
    "# TODO\n",
    "df = df.drop_duplicates()\n",
    "df = df[df.occupation != 'other']\n",
    "df"
   ]
  },
  {
   "cell_type": "markdown",
   "id": "3f53ff7e",
   "metadata": {},
   "source": [
    "1.3 以两种方式访问DataFrame的第一行(0.5')："
   ]
  },
  {
   "cell_type": "code",
   "execution_count": 4,
   "id": "bf3c247c",
   "metadata": {},
   "outputs": [
    {
     "data": {
      "text/plain": [
       "age                   24\n",
       "gender                 M\n",
       "occupation    technician\n",
       "zip_code           85711\n",
       "Name: 1, dtype: object"
      ]
     },
     "execution_count": 4,
     "metadata": {},
     "output_type": "execute_result"
    }
   ],
   "source": [
    "# TODO\n",
    "df.loc[1]\n",
    "df.iloc[0]"
   ]
  },
  {
   "cell_type": "markdown",
   "id": "eff01058",
   "metadata": {},
   "source": [
    "1.4 以两种方式访问DataFrame的\"occupation\"列(0.5')："
   ]
  },
  {
   "cell_type": "code",
   "execution_count": 5,
   "id": "e8848ff5",
   "metadata": {},
   "outputs": [
    {
     "data": {
      "text/plain": [
       "1        technician\n",
       "3            writer\n",
       "4        technician\n",
       "5        technician\n",
       "6         executive\n",
       "7     administrator\n",
       "9     administrator\n",
       "10          student\n",
       "11           lawyer\n",
       "Name: occupation, dtype: object"
      ]
     },
     "execution_count": 5,
     "metadata": {},
     "output_type": "execute_result"
    }
   ],
   "source": [
    "# TODO\n",
    "df.occupation\n",
    "df['occupation']"
   ]
  },
  {
   "cell_type": "markdown",
   "id": "dc388b3d",
   "metadata": {},
   "source": [
    "1.5 打印出DataFrame中出现次数最多的职业名称(0.5')："
   ]
  },
  {
   "cell_type": "code",
   "execution_count": 6,
   "id": "649d77f3",
   "metadata": {},
   "outputs": [
    {
     "name": "stdout",
     "output_type": "stream",
     "text": [
      "technician\n"
     ]
    }
   ],
   "source": [
    "# TODO\n",
    "ocp = pd.Series(df.occupation)\n",
    "print(ocp.value_counts().index[0])"
   ]
  },
  {
   "cell_type": "markdown",
   "id": "167b0185",
   "metadata": {},
   "source": [
    "1.6 将data_2转换成DataFrame，与上一个DataFrame按照\"zip_code\"这一列合并，按两种合并方式：\n",
    "\n",
    "1.合并后结果保留两个DataFrame的并集(0.5')；\n",
    "2.合并后只保留data_2的所有数据(0.5')。"
   ]
  },
  {
   "cell_type": "code",
   "execution_count": 7,
   "id": "98a8bfde",
   "metadata": {},
   "outputs": [
    {
     "data": {
      "text/html": [
       "<div>\n",
       "<style scoped>\n",
       "    .dataframe tbody tr th:only-of-type {\n",
       "        vertical-align: middle;\n",
       "    }\n",
       "\n",
       "    .dataframe tbody tr th {\n",
       "        vertical-align: top;\n",
       "    }\n",
       "\n",
       "    .dataframe thead th {\n",
       "        text-align: right;\n",
       "    }\n",
       "</style>\n",
       "<table border=\"1\" class=\"dataframe\">\n",
       "  <thead>\n",
       "    <tr style=\"text-align: right;\">\n",
       "      <th></th>\n",
       "      <th>age</th>\n",
       "      <th>gender</th>\n",
       "      <th>occupation</th>\n",
       "      <th>zip_code</th>\n",
       "      <th>name</th>\n",
       "    </tr>\n",
       "  </thead>\n",
       "  <tbody>\n",
       "    <tr>\n",
       "      <th>0</th>\n",
       "      <td>24.0</td>\n",
       "      <td>M</td>\n",
       "      <td>technician</td>\n",
       "      <td>85711</td>\n",
       "      <td>Alan</td>\n",
       "    </tr>\n",
       "    <tr>\n",
       "      <th>1</th>\n",
       "      <td>23.0</td>\n",
       "      <td>M</td>\n",
       "      <td>writer</td>\n",
       "      <td>32067</td>\n",
       "      <td>NaN</td>\n",
       "    </tr>\n",
       "    <tr>\n",
       "      <th>2</th>\n",
       "      <td>24.0</td>\n",
       "      <td>M</td>\n",
       "      <td>technician</td>\n",
       "      <td>43537</td>\n",
       "      <td>NaN</td>\n",
       "    </tr>\n",
       "    <tr>\n",
       "      <th>3</th>\n",
       "      <td>33.0</td>\n",
       "      <td>F</td>\n",
       "      <td>technician</td>\n",
       "      <td>15213</td>\n",
       "      <td>Abigail</td>\n",
       "    </tr>\n",
       "    <tr>\n",
       "      <th>4</th>\n",
       "      <td>42.0</td>\n",
       "      <td>M</td>\n",
       "      <td>executive</td>\n",
       "      <td>98101</td>\n",
       "      <td>Bob</td>\n",
       "    </tr>\n",
       "    <tr>\n",
       "      <th>5</th>\n",
       "      <td>57.0</td>\n",
       "      <td>M</td>\n",
       "      <td>administrator</td>\n",
       "      <td>91344</td>\n",
       "      <td>NaN</td>\n",
       "    </tr>\n",
       "    <tr>\n",
       "      <th>6</th>\n",
       "      <td>36.0</td>\n",
       "      <td>M</td>\n",
       "      <td>administrator</td>\n",
       "      <td>05201</td>\n",
       "      <td>NaN</td>\n",
       "    </tr>\n",
       "    <tr>\n",
       "      <th>7</th>\n",
       "      <td>29.0</td>\n",
       "      <td>M</td>\n",
       "      <td>student</td>\n",
       "      <td>01002</td>\n",
       "      <td>NaN</td>\n",
       "    </tr>\n",
       "    <tr>\n",
       "      <th>8</th>\n",
       "      <td>53.0</td>\n",
       "      <td>M</td>\n",
       "      <td>lawyer</td>\n",
       "      <td>90703</td>\n",
       "      <td>NaN</td>\n",
       "    </tr>\n",
       "    <tr>\n",
       "      <th>9</th>\n",
       "      <td>NaN</td>\n",
       "      <td>NaN</td>\n",
       "      <td>NaN</td>\n",
       "      <td>94043</td>\n",
       "      <td>Alice</td>\n",
       "    </tr>\n",
       "    <tr>\n",
       "      <th>10</th>\n",
       "      <td>NaN</td>\n",
       "      <td>NaN</td>\n",
       "      <td>NaN</td>\n",
       "      <td>30329</td>\n",
       "      <td>Dave</td>\n",
       "    </tr>\n",
       "  </tbody>\n",
       "</table>\n",
       "</div>"
      ],
      "text/plain": [
       "     age gender     occupation zip_code     name\n",
       "0   24.0      M     technician    85711     Alan\n",
       "1   23.0      M         writer    32067      NaN\n",
       "2   24.0      M     technician    43537      NaN\n",
       "3   33.0      F     technician    15213  Abigail\n",
       "4   42.0      M      executive    98101      Bob\n",
       "5   57.0      M  administrator    91344      NaN\n",
       "6   36.0      M  administrator    05201      NaN\n",
       "7   29.0      M        student    01002      NaN\n",
       "8   53.0      M         lawyer    90703      NaN\n",
       "9    NaN    NaN            NaN    94043    Alice\n",
       "10   NaN    NaN            NaN    30329     Dave"
      ]
     },
     "metadata": {},
     "output_type": "display_data"
    },
    {
     "data": {
      "text/html": [
       "<div>\n",
       "<style scoped>\n",
       "    .dataframe tbody tr th:only-of-type {\n",
       "        vertical-align: middle;\n",
       "    }\n",
       "\n",
       "    .dataframe tbody tr th {\n",
       "        vertical-align: top;\n",
       "    }\n",
       "\n",
       "    .dataframe thead th {\n",
       "        text-align: right;\n",
       "    }\n",
       "</style>\n",
       "<table border=\"1\" class=\"dataframe\">\n",
       "  <thead>\n",
       "    <tr style=\"text-align: right;\">\n",
       "      <th></th>\n",
       "      <th>age</th>\n",
       "      <th>gender</th>\n",
       "      <th>occupation</th>\n",
       "      <th>zip_code</th>\n",
       "      <th>name</th>\n",
       "    </tr>\n",
       "  </thead>\n",
       "  <tbody>\n",
       "    <tr>\n",
       "      <th>0</th>\n",
       "      <td>24.0</td>\n",
       "      <td>M</td>\n",
       "      <td>technician</td>\n",
       "      <td>85711</td>\n",
       "      <td>Alan</td>\n",
       "    </tr>\n",
       "    <tr>\n",
       "      <th>1</th>\n",
       "      <td>NaN</td>\n",
       "      <td>NaN</td>\n",
       "      <td>NaN</td>\n",
       "      <td>94043</td>\n",
       "      <td>Alice</td>\n",
       "    </tr>\n",
       "    <tr>\n",
       "      <th>2</th>\n",
       "      <td>33.0</td>\n",
       "      <td>F</td>\n",
       "      <td>technician</td>\n",
       "      <td>15213</td>\n",
       "      <td>Abigail</td>\n",
       "    </tr>\n",
       "    <tr>\n",
       "      <th>3</th>\n",
       "      <td>42.0</td>\n",
       "      <td>M</td>\n",
       "      <td>executive</td>\n",
       "      <td>98101</td>\n",
       "      <td>Bob</td>\n",
       "    </tr>\n",
       "    <tr>\n",
       "      <th>4</th>\n",
       "      <td>NaN</td>\n",
       "      <td>NaN</td>\n",
       "      <td>NaN</td>\n",
       "      <td>30329</td>\n",
       "      <td>Dave</td>\n",
       "    </tr>\n",
       "  </tbody>\n",
       "</table>\n",
       "</div>"
      ],
      "text/plain": [
       "    age gender  occupation zip_code     name\n",
       "0  24.0      M  technician    85711     Alan\n",
       "1   NaN    NaN         NaN    94043    Alice\n",
       "2  33.0      F  technician    15213  Abigail\n",
       "3  42.0      M   executive    98101      Bob\n",
       "4   NaN    NaN         NaN    30329     Dave"
      ]
     },
     "metadata": {},
     "output_type": "display_data"
    }
   ],
   "source": [
    "data_2 = {\n",
    "    'zip_code': ['85711', '94043', '15213', '98101', '30329'],\n",
    "    'name': ['Alan', 'Alice', 'Abigail', 'Bob', 'Dave']\n",
    "}\n",
    "df2 = pd.DataFrame(data_2)\n",
    "\n",
    "# TODO\n",
    "df3 = pd.merge(df,df2,on='zip_code',how='outer')\n",
    "display(df3)\n",
    "df4 = pd.merge(df,df2,on='zip_code',how='right')\n",
    "display(df4)"
   ]
  },
  {
   "cell_type": "markdown",
   "id": "eef6617c",
   "metadata": {},
   "source": [
    "### Exercise 2 Pandas数据分析(6')"
   ]
  },
  {
   "cell_type": "markdown",
   "id": "0114a7ed",
   "metadata": {},
   "source": [
    "本部分数据基于2022年3月的COVID-19疫情数据进行数据分析。\n",
    "\n",
    "在此致谢数据来源：https://github.com/BlankerL/DXY-COVID-19-Data ，并祝愿疫情的影响早日结束。\n",
    "\n",
    "2.1 读取COVID-19_March.csv，通过shape和info()查看数据基本信息(0.5')。"
   ]
  },
  {
   "cell_type": "code",
   "execution_count": 8,
   "id": "3131ac2d",
   "metadata": {
    "scrolled": true
   },
   "outputs": [
    {
     "name": "stdout",
     "output_type": "stream",
     "text": [
      "<class 'pandas.core.frame.DataFrame'>\n",
      "RangeIndex: 34021 entries, 0 to 34020\n",
      "Data columns (total 19 columns):\n",
      " #   Column                   Non-Null Count  Dtype  \n",
      "---  ------                   --------------  -----  \n",
      " 0   continentName            34021 non-null  object \n",
      " 1   continentEnglishName     34021 non-null  object \n",
      " 2   countryName              34021 non-null  object \n",
      " 3   countryEnglishName       31953 non-null  object \n",
      " 4   provinceName             34021 non-null  object \n",
      " 5   provinceEnglishName      31953 non-null  object \n",
      " 6   province_zipCode         34021 non-null  int64  \n",
      " 7   province_confirmedCount  34021 non-null  int64  \n",
      " 8   province_suspectedCount  34021 non-null  int64  \n",
      " 9   province_curedCount      34021 non-null  int64  \n",
      " 10  province_deadCount       34021 non-null  int64  \n",
      " 11  cityName                 16252 non-null  object \n",
      " 12  cityEnglishName          15017 non-null  object \n",
      " 13  city_zipCode             16252 non-null  float64\n",
      " 14  city_confirmedCount      16252 non-null  float64\n",
      " 15  city_suspectedCount      16252 non-null  float64\n",
      " 16  city_curedCount          16252 non-null  float64\n",
      " 17  city_deadCount           16252 non-null  float64\n",
      " 18  updateTime               34021 non-null  object \n",
      "dtypes: float64(5), int64(5), object(9)\n",
      "memory usage: 4.9+ MB\n"
     ]
    }
   ],
   "source": [
    "import pandas as pd\n",
    "#TODO\n",
    "dt = pd.read_csv('COVID19_March.csv')\n",
    "dt.shape\n",
    "dt.info()"
   ]
  },
  {
   "cell_type": "markdown",
   "id": "bf99bf0b",
   "metadata": {},
   "source": [
    "2.2 从原表格的updateTime中提取最后更新时间，去除具体时间得到日期，并在原DataFrame中增加一列\"Date\"保存日期(0.5')。"
   ]
  },
  {
   "cell_type": "code",
   "execution_count": 9,
   "id": "927f5fad",
   "metadata": {},
   "outputs": [],
   "source": [
    "#TODO\n",
    "getdate = lambda x:list(x.split())[0]\n",
    "getdate(dt['updateTime'][0])\n",
    "dt['Date'] = [getdate(x) for x in dt['updateTime']]"
   ]
  },
  {
   "cell_type": "markdown",
   "id": "fb44a728",
   "metadata": {},
   "source": [
    "2.3 这里给出的数据由每天循环爬取得到，因此同一地区同一日的数据可能会有多项纪录，但我们只需保存每一天同一个地区（精确到城市）最后一条记录。请对数据进行筛选，按provinceName, cityName, Date三列为标准去重，并将DataFrame按时间从早到晚的顺序排序(1')。"
   ]
  },
  {
   "cell_type": "code",
   "execution_count": 10,
   "id": "c32d2912",
   "metadata": {},
   "outputs": [],
   "source": [
    "#TODO\n",
    "from datetime import datetime\n",
    "\n",
    "dt = dt.sort_values(by='updateTime',key = lambda s : [datetime.strptime(x,\"%Y/%m/%d %H:%M\") for x in s])\n",
    "dt = dt.drop_duplicates(subset=['provinceName','cityName','Date'],keep='last')"
   ]
  },
  {
   "cell_type": "markdown",
   "id": "eba4b711",
   "metadata": {},
   "source": [
    "2.4 新建两个DataFrame，分别包含筛选后国内的数据和国外的数据，便于后面分别统计(0.5')。"
   ]
  },
  {
   "cell_type": "code",
   "execution_count": 11,
   "id": "21929981",
   "metadata": {},
   "outputs": [],
   "source": [
    "#TODO\n",
    "abroad = dt[dt.countryName != '中国']\n",
    "demostic = dt[dt.countryName == '中国']"
   ]
  },
  {
   "cell_type": "markdown",
   "id": "5f736444",
   "metadata": {},
   "source": [
    "2.5 对于境外的每一个国家，请用记录中最后一天的病例数(province_confirmed)减去第一天的病例数，再除以之间间隔的天数，以此统计日平均新增情况，并打印全球平均日新增的前十名(1')。\n",
    "\n",
    "提示：可以使用groupby&apply等方法；请注意，记录的第一天与最后一天未必是3.1和3.27。\n",
    "参考阅读：https://zhuanlan.zhihu.com/p/101284491"
   ]
  },
  {
   "cell_type": "code",
   "execution_count": 12,
   "id": "1782b5ad",
   "metadata": {
    "scrolled": true
   },
   "outputs": [
    {
     "name": "stdout",
     "output_type": "stream",
     "text": [
      "countryName\n"
     ]
    },
    {
     "data": {
      "text/plain": [
       "韩国     321663.653846\n",
       "越南     209240.269231\n",
       "德国     181072.500000\n",
       "法国      80409.961538\n",
       "英国      73145.961538\n",
       "意大利     56343.730769\n",
       "荷兰      56220.961538\n",
       "日本      51193.423077\n",
       "俄罗斯     50667.461538\n",
       "巴西      39729.807692\n",
       "dtype: float64"
      ]
     },
     "execution_count": 12,
     "metadata": {},
     "output_type": "execute_result"
    }
   ],
   "source": [
    "#TODO\n",
    "\n",
    "countrygroup = abroad.groupby('countryName')\n",
    "ls = {}\n",
    "for name,group in countrygroup:\n",
    "    ct = group['province_confirmedCount'].to_list()\n",
    "    dates = group['Date'].to_list()\n",
    "    days = (datetime.strptime(dates[-1],\"%Y/%m/%d\") - datetime.strptime(dates[0],\"%Y/%m/%d\")).days\n",
    "    ls[name] = (int(ct[-1]) - int(ct[0])) / (days)\n",
    "df = pd.Series(ls)\n",
    "print('countryName')\n",
    "df.sort_values(ascending=False).head(10)"
   ]
  },
  {
   "cell_type": "markdown",
   "id": "49c00b04",
   "metadata": {},
   "source": [
    "2.6 利用pandas的cut功能对境外的日平均新增情况进行分组，打印每个数量级区间内的国家数(0.5')。"
   ]
  },
  {
   "cell_type": "code",
   "execution_count": 13,
   "id": "62e8a192",
   "metadata": {
    "scrolled": true
   },
   "outputs": [
    {
     "data": {
      "text/plain": [
       "(100, 1000]          49\n",
       "(10, 100]            48\n",
       "(0, 10]              44\n",
       "(1000, 10000]        39\n",
       "(10000, 100000]      24\n",
       "(100000, 1000000]     3\n",
       "dtype: int64"
      ]
     },
     "execution_count": 13,
     "metadata": {},
     "output_type": "execute_result"
    }
   ],
   "source": [
    "#TODO\n",
    "l = pd.cut(df,[0,10,100,1000,10000,100000,1000000])\n",
    "l.value_counts()"
   ]
  },
  {
   "cell_type": "markdown",
   "id": "69218d62",
   "metadata": {},
   "source": [
    "2.7 绘制3月以来吉林省每日新增的疫情曲线，以后一日减去前一日的确诊病例之差作为新增标准(提示，差分操作在pandas中也有对应的方法)(1')。"
   ]
  },
  {
   "cell_type": "code",
   "execution_count": 20,
   "id": "c533d537",
   "metadata": {},
   "outputs": [
    {
     "data": {
      "text/plain": [
       "[<matplotlib.lines.Line2D at 0x250293e5160>]"
      ]
     },
     "execution_count": 20,
     "metadata": {},
     "output_type": "execute_result"
    },
    {
     "data": {
      "image/png": "[encoded data removed]",
      "text/plain": [
       "<Figure size 432x288 with 1 Axes>"
      ]
     },
     "metadata": {
      "needs_background": "light"
     },
     "output_type": "display_data"
    }
   ],
   "source": [
    "import matplotlib.pyplot as plt\n",
    "l = demostic[demostic.provinceName == '吉林省']\n",
    "l = l.drop_duplicates(subset = ['Date'],keep='last')\n",
    "l['province_confirmedCount'] = l['province_confirmedCount'].diff()\n",
    "plt.xticks(rotation=90)\n",
    "plt.plot(l['Date'],l['province_confirmedCount'])\n"
   ]
  },
  {
   "cell_type": "markdown",
   "id": "76d4e08a",
   "metadata": {},
   "source": [
    "2.8 请绘制3月以来上海市每日新增的疫情曲线，在一张图上同时画出总新增与本土新增（cityName中有境外输入条目，可以作为区分）(1')。"
   ]
  },
  {
   "cell_type": "code",
   "execution_count": 70,
   "id": "5f325487",
   "metadata": {},
   "outputs": [
    {
     "data": {
      "image/png": "[encoded data removed]",
      "text/plain": [
       "<Figure size 432x288 with 1 Axes>"
      ]
     },
     "metadata": {
      "needs_background": "light"
     },
     "output_type": "display_data"
    }
   ],
   "source": [
    "#TODO\n",
    "shanghai = demostic[demostic.provinceName == '上海市']\n",
    "jingwai = shanghai[shanghai.cityName == '境外来沪']['city_confirmedCount']\n",
    "shanghai = shanghai.drop_duplicates(subset = ['Date'],keep='last')\n",
    "\n",
    "bentu = shanghai['province_confirmedCount']\n",
    "#display(shanghai)\n",
    "\n",
    "\n",
    "#display(bentu)\n",
    "#display(jingwai)\n",
    "\n",
    "bentu = bentu.reset_index(drop=True)\n",
    "jingwai = jingwai.reset_index(drop=True)\n",
    "\n",
    "bentu = bentu - jingwai\n",
    "#display(bentu)\n",
    "bentu = bentu.diff()\n",
    "shanghai['province_confirmedCount'] = shanghai['province_confirmedCount'].diff()\n",
    "\n",
    "plt.xticks(rotation=90)\n",
    "plt.plot(shanghai['Date'],shanghai['province_confirmedCount'])\n",
    "plt.plot(shanghai['Date'],bentu)\n",
    "plt.show()"
   ]
  },
  {
   "cell_type": "markdown",
   "id": "6640eee1",
   "metadata": {},
   "source": [
    "### 附加题 聚类方法比较及评价 (+2')\n",
    "本题我们利用Minst数据集进行KMeans聚类方法的测试，并对聚类的效果进行评估。"
   ]
  },
  {
   "cell_type": "code",
   "execution_count": null,
   "id": "a1be5b02",
   "metadata": {},
   "outputs": [],
   "source": [
    "from sklearn import datasets, preprocessing\n",
    "from sklearn.decomposition import PCA\n",
    "from sklearn.cluster import KMeans, MeanShift\n",
    "import pandas as pd\n",
    "import numpy as np\n",
    "from matplotlib import pyplot as plt\n",
    "%matplotlib inline\n",
    "X = pd.read_csv('./train_X.csv') # 为了方便起见，这里只采用前6000个MNIST数据\n",
    "y = pd.read_csv('./train_y.csv')\n",
    "X, y = np.array(X), np.array(y)\n",
    "print(X.shape)\n",
    "print(y.shape)"
   ]
  },
  {
   "cell_type": "code",
   "execution_count": null,
   "id": "e39a6288",
   "metadata": {
    "scrolled": true
   },
   "outputs": [],
   "source": [
    "pca2d = PCA(n_components=2)\n",
    "X_std = preprocessing.scale(X) # 数据标准化\n",
    "X_2d = pca2d.fit_transform(X_std)# 数据降维至两维便于可视化\n",
    "plt.scatter(X_2d[:, 0], X_2d[:, 1], c=y)"
   ]
  },
  {
   "cell_type": "markdown",
   "id": "b9b9fa0f",
   "metadata": {},
   "source": [
    "3.1 请在原始的标准化数据X_std和降至二维的数据X_2d上分别进行KMeans聚类，并对两种聚类结果进行可视化（以标签作为颜色，均只在二维可视化即可）和纯度计算（参考PPT第四页的公式）。+1'"
   ]
  },
  {
   "cell_type": "code",
   "execution_count": null,
   "id": "924b3b40",
   "metadata": {},
   "outputs": [],
   "source": [
    "#TODO"
   ]
  },
  {
   "cell_type": "markdown",
   "id": "d5153290",
   "metadata": {},
   "source": [
    "3.2 请用KM算法等方式实现聚类结果和原标签的最优匹配，并在此基础上计算两种结果的F值。+1'\n",
    "\n",
    "参考阅读：\n",
    "\n",
    "1. 匈牙利算法Wiki https://zh.wikipedia.org/wiki/%E5%8C%88%E7%89%99%E5%88%A9%E7%AE%97%E6%B3%95 \n",
    "2. KM算法讲解 https://blog.csdn.net/sixdaycoder/article/details/47720471\n",
    "3. KM算法python实现https://blog.csdn.net/weixin_39504758/article/details/120183504\n"
   ]
  },
  {
   "cell_type": "code",
   "execution_count": null,
   "id": "876ec561",
   "metadata": {},
   "outputs": [],
   "source": [
    "#TODO"
   ]
  }
 ],
 "metadata": {
  "kernelspec": {
   "display_name": "Python 3 (ipykernel)",
   "language": "python",
   "name": "python3"
  },
  "language_info": {
   "codemirror_mode": {
    "name": "ipython",
    "version": 3
   },
   "file_extension": ".py",
   "mimetype": "text/x-python",
   "name": "python",
   "nbconvert_exporter": "python",
   "pygments_lexer": "ipython3",
   "version": "3.9.7"
  }
 },
 "nbformat": 4,
 "nbformat_minor": 5
}
